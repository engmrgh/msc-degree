{
 "cells": [
  {
   "cell_type": "markdown",
   "metadata": {},
   "source": [
    "<div align=\"center\"><h3>HW3</h3></div>\n",
    "<div align=\"center\"><h5>Mohammadreza Ghofrani, 400131076</h5></div>"
   ]
  },
  {
   "cell_type": "code",
   "execution_count": 1,
   "metadata": {},
   "outputs": [],
   "source": [
    "import os\n",
    "# To disable gpu warnings\n",
    "os.environ['TF_CPP_MIN_LOG_LEVEL'] = '3'"
   ]
  },
  {
   "cell_type": "code",
   "execution_count": 2,
   "metadata": {},
   "outputs": [],
   "source": [
    "import numpy as np\n",
    "import pandas as pd\n",
    "from tqdm import tqdm\n",
    "import tensorflow as tf\n",
    "from matplotlib import pyplot as plt\n",
    "from sklearn.metrics.pairwise import euclidean_distances"
   ]
  },
  {
   "cell_type": "markdown",
   "metadata": {},
   "source": [
    "Loading Datasets"
   ]
  },
  {
   "cell_type": "code",
   "execution_count": 3,
   "metadata": {},
   "outputs": [],
   "source": [
    "X_train = pd.read_csv('data/train/X_train.txt', delim_whitespace=True, header=None).to_numpy()\n",
    "y_train = np.squeeze(pd.read_csv('data/train/y_train.txt', delim_whitespace=True, header=None).to_numpy() - 1)\n",
    "X_test = pd.read_csv('data/test/X_test.txt', delim_whitespace=True, header=None).to_numpy()\n",
    "y_test = np.squeeze(pd.read_csv('data/test/y_test.txt', delim_whitespace=True, header=None).to_numpy() - 1)"
   ]
  },
  {
   "cell_type": "markdown",
   "metadata": {},
   "source": [
    "Constants used in this notebook"
   ]
  },
  {
   "cell_type": "code",
   "execution_count": 4,
   "metadata": {},
   "outputs": [],
   "source": [
    "NUM_OF_ACTIVITY = len(np.unique(y_train))\n",
    "NUM_OF_FEATURES = X_train.shape[1]"
   ]
  },
  {
   "cell_type": "markdown",
   "metadata": {},
   "source": [
    "Based on the problem specification we should split dataset into train, test and validation with \n",
    "ratio 7, 1, 2. Author of this dataset, already provided 70% of data as train and 30% as test. We \n",
    "preserve the train dataset, but we use 0.7 percent of test dataset as validation and the rest as\n",
    "test."
   ]
  },
  {
   "cell_type": "code",
   "execution_count": 5,
   "metadata": {},
   "outputs": [],
   "source": [
    "X_val = X_test[:int(0.7*len(X_test))]\n",
    "y_val = y_test[:int(0.7*len(y_test))]\n",
    "X_test = X_test[int(0.7*len(X_test)):]\n",
    "y_test = y_test[int(0.7*len(y_test)):]"
   ]
  },
  {
   "cell_type": "markdown",
   "metadata": {},
   "source": [
    "Encoding output as one-hot encoding"
   ]
  },
  {
   "cell_type": "code",
   "execution_count": 6,
   "metadata": {},
   "outputs": [],
   "source": [
    "y_train_onehot = np.squeeze(tf.one_hot(y_train, NUM_OF_ACTIVITY).numpy())\n",
    "y_val_onehot = np.squeeze(tf.one_hot(y_val, NUM_OF_ACTIVITY).numpy())\n",
    "y_test_onehot = np.squeeze(tf.one_hot(y_test, NUM_OF_ACTIVITY).numpy())"
   ]
  },
  {
   "cell_type": "markdown",
   "metadata": {},
   "source": [
    "## Multilayer Perceptron"
   ]
  },
  {
   "cell_type": "code",
   "execution_count": 8,
   "metadata": {},
   "outputs": [
    {
     "name": "stdout",
     "output_type": "stream",
     "text": [
      "Epoch 1/30\n",
      "15/15 [==============================] - 1s 67ms/step - loss: 0.8518 - accuracy: 0.7089 - val_loss: 0.3878 - val_accuracy: 0.8264\n",
      "Epoch 2/30\n",
      "15/15 [==============================] - 1s 60ms/step - loss: 0.2851 - accuracy: 0.8785 - val_loss: 0.2658 - val_accuracy: 0.8812\n",
      "Epoch 3/30\n",
      "15/15 [==============================] - 1s 60ms/step - loss: 0.1776 - accuracy: 0.9246 - val_loss: 0.2319 - val_accuracy: 0.8952\n",
      "Epoch 4/30\n",
      "15/15 [==============================] - 1s 60ms/step - loss: 0.1582 - accuracy: 0.9316 - val_loss: 0.1803 - val_accuracy: 0.9277\n",
      "Epoch 5/30\n",
      "15/15 [==============================] - 1s 60ms/step - loss: 0.1270 - accuracy: 0.9483 - val_loss: 0.1700 - val_accuracy: 0.9219\n",
      "Epoch 6/30\n",
      "15/15 [==============================] - 1s 60ms/step - loss: 0.0961 - accuracy: 0.9604 - val_loss: 0.1557 - val_accuracy: 0.9306\n",
      "Epoch 7/30\n",
      "15/15 [==============================] - 1s 61ms/step - loss: 0.0721 - accuracy: 0.9727 - val_loss: 0.1552 - val_accuracy: 0.9345\n",
      "Epoch 8/30\n",
      "15/15 [==============================] - 1s 61ms/step - loss: 0.0624 - accuracy: 0.9759 - val_loss: 0.1583 - val_accuracy: 0.9360\n",
      "Epoch 9/30\n",
      "15/15 [==============================] - 1s 61ms/step - loss: 0.0810 - accuracy: 0.9668 - val_loss: 0.1692 - val_accuracy: 0.9292\n",
      "Epoch 10/30\n",
      "15/15 [==============================] - 1s 61ms/step - loss: 0.0583 - accuracy: 0.9771 - val_loss: 0.1662 - val_accuracy: 0.9345\n",
      "Epoch 11/30\n",
      "15/15 [==============================] - 1s 61ms/step - loss: 0.0553 - accuracy: 0.9784 - val_loss: 0.1694 - val_accuracy: 0.9345\n",
      "Epoch 12/30\n",
      "15/15 [==============================] - 1s 61ms/step - loss: 0.0564 - accuracy: 0.9774 - val_loss: 0.1631 - val_accuracy: 0.9394\n",
      "Epoch 13/30\n",
      "15/15 [==============================] - 1s 61ms/step - loss: 0.0408 - accuracy: 0.9837 - val_loss: 0.1356 - val_accuracy: 0.9505\n",
      "Epoch 14/30\n",
      "15/15 [==============================] - 1s 61ms/step - loss: 0.0473 - accuracy: 0.9799 - val_loss: 0.1662 - val_accuracy: 0.9394\n",
      "Epoch 15/30\n",
      "15/15 [==============================] - 1s 62ms/step - loss: 0.0439 - accuracy: 0.9823 - val_loss: 0.1343 - val_accuracy: 0.9525\n",
      "Epoch 16/30\n",
      "15/15 [==============================] - 1s 62ms/step - loss: 0.0357 - accuracy: 0.9860 - val_loss: 0.1637 - val_accuracy: 0.9447\n",
      "Epoch 17/30\n",
      "15/15 [==============================] - 1s 62ms/step - loss: 0.0331 - accuracy: 0.9878 - val_loss: 0.1973 - val_accuracy: 0.9321\n",
      "Epoch 18/30\n",
      "15/15 [==============================] - 1s 62ms/step - loss: 0.0264 - accuracy: 0.9903 - val_loss: 0.1942 - val_accuracy: 0.9370\n",
      "Epoch 19/30\n",
      "15/15 [==============================] - 1s 62ms/step - loss: 0.0288 - accuracy: 0.9891 - val_loss: 0.1644 - val_accuracy: 0.9481\n",
      "Epoch 20/30\n",
      "15/15 [==============================] - 1s 62ms/step - loss: 0.0440 - accuracy: 0.9795 - val_loss: 0.1677 - val_accuracy: 0.9428\n",
      "Epoch 21/30\n",
      "15/15 [==============================] - 1s 62ms/step - loss: 0.0259 - accuracy: 0.9906 - val_loss: 0.1612 - val_accuracy: 0.9476\n",
      "Epoch 22/30\n",
      "15/15 [==============================] - 1s 63ms/step - loss: 0.0183 - accuracy: 0.9942 - val_loss: 0.1897 - val_accuracy: 0.9413\n",
      "Epoch 23/30\n",
      "15/15 [==============================] - 1s 62ms/step - loss: 0.0149 - accuracy: 0.9955 - val_loss: 0.1793 - val_accuracy: 0.9486\n",
      "Epoch 24/30\n",
      "15/15 [==============================] - 1s 62ms/step - loss: 0.0153 - accuracy: 0.9950 - val_loss: 0.2145 - val_accuracy: 0.9370\n",
      "Epoch 25/30\n",
      "15/15 [==============================] - 1s 61ms/step - loss: 0.0145 - accuracy: 0.9948 - val_loss: 0.3193 - val_accuracy: 0.9103\n",
      "Epoch 26/30\n",
      "15/15 [==============================] - 1s 62ms/step - loss: 0.0993 - accuracy: 0.9616 - val_loss: 0.1766 - val_accuracy: 0.9316\n",
      "Epoch 27/30\n",
      "15/15 [==============================] - 1s 61ms/step - loss: 0.0458 - accuracy: 0.9820 - val_loss: 0.1458 - val_accuracy: 0.9452\n",
      "Epoch 28/30\n",
      "15/15 [==============================] - 1s 62ms/step - loss: 0.0279 - accuracy: 0.9901 - val_loss: 0.1505 - val_accuracy: 0.9496\n",
      "Epoch 29/30\n",
      "15/15 [==============================] - 1s 62ms/step - loss: 0.0164 - accuracy: 0.9943 - val_loss: 0.1672 - val_accuracy: 0.9534\n",
      "Epoch 30/30\n",
      "15/15 [==============================] - 1s 62ms/step - loss: 0.0111 - accuracy: 0.9966 - val_loss: 0.1735 - val_accuracy: 0.9520\n"
     ]
    },
    {
     "data": {
      "text/plain": [
       "<keras.callbacks.History at 0x7f867167e4c0>"
      ]
     },
     "execution_count": 8,
     "metadata": {},
     "output_type": "execute_result"
    }
   ],
   "source": [
    "tf.keras.backend.clear_session()\n",
    "mlp = tf.keras.Sequential([\n",
    "    tf.keras.layers.Dense(NUM_OF_FEATURES, activation='relu'),\n",
    "    tf.keras.layers.Dense(4096, activation='relu'),\n",
    "    tf.keras.layers.Dense(4096, activation='relu'),\n",
    "    tf.keras.layers.Dense(4096, activation='relu'),\n",
    "    tf.keras.layers.Dense(4096, activation='relu'),\n",
    "    tf.keras.layers.Dense(NUM_OF_ACTIVITY, activation='softmax'),\n",
    "])\n",
    "\n",
    "mlp.compile(optimizer=tf.keras.optimizers.Adam(learning_rate=1e-4),\n",
    "            loss='categorical_crossentropy',\n",
    "            metrics=['accuracy'])\n",
    "\n",
    "mlp.fit(X_train, y_train_onehot, validation_data=(X_val, y_val_onehot), epochs=30, batch_size=512)"
   ]
  },
  {
   "cell_type": "code",
   "execution_count": 9,
   "metadata": {},
   "outputs": [
    {
     "name": "stdout",
     "output_type": "stream",
     "text": [
      "28/28 [==============================] - 0s 3ms/step - loss: 0.1077 - accuracy: 0.9695\n"
     ]
    },
    {
     "data": {
      "text/plain": [
       "[0.10767461359500885, 0.9694915413856506]"
      ]
     },
     "execution_count": 9,
     "metadata": {},
     "output_type": "execute_result"
    }
   ],
   "source": [
    "mlp.evaluate(X_test, y_test_onehot)"
   ]
  },
  {
   "cell_type": "code",
   "execution_count": 26,
   "metadata": {},
   "outputs": [
    {
     "data": {
      "image/png": "[encoded data removed]",
      "text/plain": [
       "<IPython.core.display.Image object>"
      ]
     },
     "execution_count": 26,
     "metadata": {},
     "output_type": "execute_result"
    }
   ],
   "source": [
    "tf.keras.utils.plot_model(mlp, show_shapes=True, rankdir=\"LR\")"
   ]
  },
  {
   "cell_type": "markdown",
   "metadata": {},
   "source": [
    "# Self Organizing Map"
   ]
  },
  {
   "cell_type": "code",
   "execution_count": 10,
   "metadata": {},
   "outputs": [],
   "source": [
    "class SOM:\n",
    "    def __init__(self, map_size, alpha, lr, R, T, path):\n",
    "        \"\"\"\n",
    "        map_size: [map_w, map_h, feature]\n",
    "        \"\"\"\n",
    "        self.T = T\n",
    "        self.alpha = alpha\n",
    "        self.map = np.random.rand(map_size[0], map_size[1], map_size[2])\n",
    "        self.total_number_of_nn = map_size[0] * map_size[1]\n",
    "        self.lr0 = lr\n",
    "        self.lr = self.lr0\n",
    "        self.R = R\n",
    "        self.path = path\n",
    "        assert(self.lr >= self.T * self.alpha)\n",
    "        with open(os.path.join(self.path, 'log.txt'), 'w') as f:\n",
    "            f.write('T={}, alpha={}, lr={}, R={}, map_size={}'.format(T, alpha, lr, R, map_size))\n",
    "\n",
    "    def train(self, X, y):\n",
    "        self.initialize_weights(X)\n",
    "        dead_nn_stat = list()\n",
    "        mean_dist_stat = list()\n",
    "        Js = list()\n",
    "        self.draw_clustering_and_umatrix(X, y)\n",
    "        for t in tqdm(range(self.T)):\n",
    "            epoch_winner_nn = set()\n",
    "            epoch_sum_dist = 0\n",
    "            prev_map = self.map.copy()\n",
    "            shuffle_ind = np.random.randint(low=0, high=len(X), size=len(X))\n",
    "            for i in range(len(X)):\n",
    "                x = X[shuffle_ind[i],:]\n",
    "\n",
    "                winner, d = self.find_winner(x)\n",
    "                ns = self.get_ns(winner)\n",
    "                epoch_winner_nn.add(winner)\n",
    "\n",
    "                self.update_weights(x, ns)\n",
    "                epoch_sum_dist += d\n",
    "\n",
    "            self.lr = self.lr0 - self.alpha * t\n",
    "\n",
    "            dead_nn_stat.append(self.total_number_of_nn - len(epoch_winner_nn))\n",
    "            mean_dist_stat.append(epoch_sum_dist/len(X))\n",
    "            Js.append(np.linalg.norm(self.map - prev_map))\n",
    "        self.draw_clustering_and_umatrix(X, y)\n",
    "        self.draw_dead_nn_diagram(dead_nn_stat)\n",
    "        self.draw_mean_stat_diagram(mean_dist_stat)\n",
    "        self.draw_Js_digram(Js)\n",
    "\n",
    "    def initialize_weights(self, X):\n",
    "        for i in range(len(self.map)):\n",
    "            for j in range(len(self.map[i])):\n",
    "                rand_ind = np.random.randint(low=0, high=len(X))\n",
    "                self.map[i,j] = X[rand_ind]\n",
    "\n",
    "    def draw_clustering_and_umatrix(self, X, y):\n",
    "        num_of_activity = len(np.unique(y))\n",
    "        scores_argmax = np.zeros(shape=(self.map.shape[0], self.map.shape[1], 3))\n",
    "        scores_cmb = np.zeros(shape=(self.map.shape[0], self.map.shape[1], 3))\n",
    "        score_cnt = np.zeros(shape=(self.map.shape[0], self.map.shape[1]))\n",
    "        member_cnt = np.zeros(shape=(self.map.shape[0], self.map.shape[1], num_of_activity))\n",
    "        colors = [\n",
    "            np.array([1,0,0]),\n",
    "            np.array([0,1,0]),\n",
    "            np.array([0,0,1]),\n",
    "            np.array([1,1,0]),\n",
    "            np.array([0,1,1]),\n",
    "            np.array([1,0,1])\n",
    "        ]\n",
    "\n",
    "        a = 0\n",
    "        for i in range(len(X)):\n",
    "            x = X[i,:]\n",
    "            y_ = y[i]\n",
    "            winner, _ = self.find_winner(x)\n",
    "            scores_cmb[winner] += colors[y_]\n",
    "            score_cnt[winner] += 1\n",
    "            member_cnt[winner][y_] += 1\n",
    "            a += 1\n",
    "\n",
    "        for i in range(len(member_cnt)):\n",
    "            for j in range(len(member_cnt[i])):\n",
    "                if any(member_cnt[i,j]):\n",
    "                    scores_cmb[i,j] /= (np.sum(member_cnt[i,j]) + 1)\n",
    "                    scores_argmax[i,j] = colors[np.argmax(member_cnt[i,j])]\n",
    "\n",
    "        fig, (ax1, ax2) = plt.subplots(1,2)\n",
    "        ax1.imshow(scores_cmb)\n",
    "        ax2.imshow(scores_argmax)\n",
    "        fig.suptitle('Clusters Visualization')\n",
    "        ax1.set_title('Combining members colors')\n",
    "        ax2.set_title('Argmax member colors')\n",
    "        ax1.tick_params(axis='both', which='both', labelbottom=False, labelleft=False,\n",
    "                        bottom=False, left=False)\n",
    "        ax2.tick_params(axis='both', which='both', labelbottom=False, labelleft=False,\n",
    "                        bottom=False, left=False)\n",
    "        plt.savefig(os.path.join(self.path, 'cluster.png'))\n",
    "        plt.show()\n",
    "        plt.imshow(score_cnt, cmap='Reds')\n",
    "        plt.savefig(os.path.join(self.path, 'umatrix.png'))\n",
    "        plt.show()\n",
    "\n",
    "    def draw_dead_nn_diagram(self, dead_nn_stat):\n",
    "        epoch = list(range(self.T))\n",
    "        plt.plot(epoch, dead_nn_stat)\n",
    "        plt.title('Dead Neurons per Epoch')\n",
    "        plt.xlabel('epoch')\n",
    "        plt.ylabel('Frequency')\n",
    "        plt.savefig(os.path.join(self.path, 'dead.png'))\n",
    "        plt.show()\n",
    "\n",
    "    def draw_Js_digram(self, Js):\n",
    "        epoch = list(range(self.T))\n",
    "        plt.plot(epoch, Js)\n",
    "        plt.title('Weight Changes per Epoch')\n",
    "        plt.xlabel('epoch')\n",
    "        plt.ylabel('Frequency')\n",
    "        plt.savefig(os.path.join(self.path, 'weight_change.png'))\n",
    "        plt.show()\n",
    "\n",
    "    def draw_mean_stat_diagram(self, mean_dist_stat):\n",
    "        epoch = list(range(self.T))\n",
    "        plt.plot(epoch, mean_dist_stat)\n",
    "        plt.title('Winner Neuron Mean Distance per Epoch')\n",
    "        plt.xlabel('epoch')\n",
    "        plt.ylabel('Distance')\n",
    "        plt.savefig(os.path.join(self.path, 'winner_distance.png'))\n",
    "        plt.show()\n",
    "\n",
    "    def find_winner(self, x):\n",
    "        map_ = self.map.reshape((self.map.shape[0] * self.map.shape[1], self.map.shape[2]))\n",
    "        distances_from_x_to_out_nodes = euclidean_distances(map_, [x])\n",
    "        winner_node = np.argmin(distances_from_x_to_out_nodes)\n",
    "        winner_node_ = np.unravel_index(winner_node, (self.map.shape[0],self.map.shape[1]))\n",
    "        winner_node_distance = distances_from_x_to_out_nodes[winner_node]\n",
    "        return winner_node_, winner_node_distance\n",
    "\n",
    "    def get_ns(self, winner):\n",
    "        ns = np.zeros(shape=(self.map.shape[0], self.map.shape[1]))\n",
    "        iw, jw = winner[0], winner[1]\n",
    "        R = int(self.R)\n",
    "        for ri in range(-R, R+1):\n",
    "            for rj in range(-R, R+1):\n",
    "                if (0 <= iw + ri < self.map.shape[0]) and (0 <= jw + rj < self.map.shape[1]):\n",
    "                    d = np.sqrt(ri**2 + rj**2)\n",
    "                    ns[iw+ri, jw+rj] = 0 if d > R else 1/(d+1)\n",
    "        return ns\n",
    "\n",
    "    def update_weights(self, x, ns):\n",
    "        X = np.tile(x, (self.map.shape[0], self.map.shape[1], 1))\n",
    "        NS = np.tile(ns.T, (self.map.shape[2], 1,1)).T\n",
    "        self.map += self.lr * np.multiply((X - self.map), NS)\n",
    "\n",
    "    def reduce_dimension_using_index(self, X):\n",
    "        new_X = np.zeros((X.shape[0], 2))\n",
    "        for i, x in enumerate(X):\n",
    "            winner, _ = self.find_winner(x)\n",
    "            new_X[i] = np.array(winner)\n",
    "        return new_X\n",
    "\n",
    "    def reduce_dimension_using_distance(self, X):\n",
    "        new_X = np.zeros((X.shape[0], self.map.shape[0] * self.map.shape[1]))\n",
    "        map_ = self.map.copy().reshape(self.map.shape[0] * self.map.shape[1], self.map.shape[2])\n",
    "        for i, x in enumerate(X):\n",
    "            new_X[i] = euclidean_distances(np.array([x]), map_)\n",
    "        return new_X\n",
    "\n",
    "    def reduce_dimension(self, X, using_index=False):\n",
    "        if using_index:\n",
    "            return self.reduce_dimension_using_index(X)\n",
    "        else:\n",
    "            return self.reduce_dimension_using_distance(X)"
   ]
  },
  {
   "cell_type": "code",
   "execution_count": 11,
   "metadata": {},
   "outputs": [
    {
     "ename": "KeyboardInterrupt",
     "evalue": "",
     "output_type": "error",
     "traceback": [
      "\u001b[0;31m---------------------------------------------------------------------------\u001b[0m",
      "\u001b[0;31mKeyboardInterrupt\u001b[0m                         Traceback (most recent call last)",
      "\u001b[1;32m/home/engmrgh/university/msc-degree/2nd_semester/nn/hw/hw3/code.ipynb Cell 18'\u001b[0m in \u001b[0;36m<cell line: 4>\u001b[0;34m()\u001b[0m\n\u001b[1;32m      <a href='vscode-notebook-cell:/home/engmrgh/university/msc-degree/2nd_semester/nn/hw/hw3/code.ipynb#ch0000016?line=1'>2</a>\u001b[0m os\u001b[39m.\u001b[39mmakedirs(\u001b[39mf\u001b[39m\u001b[39m'\u001b[39m\u001b[39mimages/q5/r\u001b[39m\u001b[39m{\u001b[39;00mrun\u001b[39m}\u001b[39;00m\u001b[39m/\u001b[39m\u001b[39m'\u001b[39m, exist_ok\u001b[39m=\u001b[39m\u001b[39mTrue\u001b[39;00m)\n\u001b[1;32m      <a href='vscode-notebook-cell:/home/engmrgh/university/msc-degree/2nd_semester/nn/hw/hw3/code.ipynb#ch0000016?line=2'>3</a>\u001b[0m som \u001b[39m=\u001b[39m SOM((\u001b[39m13\u001b[39m, \u001b[39m13\u001b[39m, \u001b[39m561\u001b[39m), R\u001b[39m=\u001b[39m\u001b[39m5\u001b[39m, lr\u001b[39m=\u001b[39m\u001b[39m0.1\u001b[39m, T\u001b[39m=\u001b[39m\u001b[39m20\u001b[39m, alpha\u001b[39m=\u001b[39m\u001b[39m0.005\u001b[39m, path\u001b[39m=\u001b[39m\u001b[39mf\u001b[39m\u001b[39m'\u001b[39m\u001b[39mimages/q5/r\u001b[39m\u001b[39m{\u001b[39;00mrun\u001b[39m}\u001b[39;00m\u001b[39m/\u001b[39m\u001b[39m'\u001b[39m)\n\u001b[0;32m----> <a href='vscode-notebook-cell:/home/engmrgh/university/msc-degree/2nd_semester/nn/hw/hw3/code.ipynb#ch0000016?line=3'>4</a>\u001b[0m som\u001b[39m.\u001b[39;49mtrain(X_train, y_train)\n",
      "\u001b[1;32m/home/engmrgh/university/msc-degree/2nd_semester/nn/hw/hw3/code.ipynb Cell 17'\u001b[0m in \u001b[0;36mSOM.train\u001b[0;34m(self, X, y)\u001b[0m\n\u001b[1;32m     <a href='vscode-notebook-cell:/home/engmrgh/university/msc-degree/2nd_semester/nn/hw/hw3/code.ipynb#ch0000015?line=20'>21</a>\u001b[0m mean_dist_stat \u001b[39m=\u001b[39m \u001b[39mlist\u001b[39m()\n\u001b[1;32m     <a href='vscode-notebook-cell:/home/engmrgh/university/msc-degree/2nd_semester/nn/hw/hw3/code.ipynb#ch0000015?line=21'>22</a>\u001b[0m Js \u001b[39m=\u001b[39m \u001b[39mlist\u001b[39m()\n\u001b[0;32m---> <a href='vscode-notebook-cell:/home/engmrgh/university/msc-degree/2nd_semester/nn/hw/hw3/code.ipynb#ch0000015?line=22'>23</a>\u001b[0m \u001b[39mself\u001b[39;49m\u001b[39m.\u001b[39;49mdraw_clustering_and_umatrix(X, y)\n\u001b[1;32m     <a href='vscode-notebook-cell:/home/engmrgh/university/msc-degree/2nd_semester/nn/hw/hw3/code.ipynb#ch0000015?line=23'>24</a>\u001b[0m \u001b[39mfor\u001b[39;00m t \u001b[39min\u001b[39;00m tqdm(\u001b[39mrange\u001b[39m(\u001b[39mself\u001b[39m\u001b[39m.\u001b[39mT)):\n\u001b[1;32m     <a href='vscode-notebook-cell:/home/engmrgh/university/msc-degree/2nd_semester/nn/hw/hw3/code.ipynb#ch0000015?line=24'>25</a>\u001b[0m     epoch_winner_nn \u001b[39m=\u001b[39m \u001b[39mset\u001b[39m()\n",
      "\u001b[1;32m/home/engmrgh/university/msc-degree/2nd_semester/nn/hw/hw3/code.ipynb Cell 17'\u001b[0m in \u001b[0;36mSOM.draw_clustering_and_umatrix\u001b[0;34m(self, X, y)\u001b[0m\n\u001b[1;32m     <a href='vscode-notebook-cell:/home/engmrgh/university/msc-degree/2nd_semester/nn/hw/hw3/code.ipynb#ch0000015?line=71'>72</a>\u001b[0m x \u001b[39m=\u001b[39m X[i,:]\n\u001b[1;32m     <a href='vscode-notebook-cell:/home/engmrgh/university/msc-degree/2nd_semester/nn/hw/hw3/code.ipynb#ch0000015?line=72'>73</a>\u001b[0m y_ \u001b[39m=\u001b[39m y[i]\n\u001b[0;32m---> <a href='vscode-notebook-cell:/home/engmrgh/university/msc-degree/2nd_semester/nn/hw/hw3/code.ipynb#ch0000015?line=73'>74</a>\u001b[0m winner, _ \u001b[39m=\u001b[39m \u001b[39mself\u001b[39;49m\u001b[39m.\u001b[39;49mfind_winner(x)\n\u001b[1;32m     <a href='vscode-notebook-cell:/home/engmrgh/university/msc-degree/2nd_semester/nn/hw/hw3/code.ipynb#ch0000015?line=74'>75</a>\u001b[0m scores_cmb[winner] \u001b[39m+\u001b[39m\u001b[39m=\u001b[39m colors[y_]\n\u001b[1;32m     <a href='vscode-notebook-cell:/home/engmrgh/university/msc-degree/2nd_semester/nn/hw/hw3/code.ipynb#ch0000015?line=75'>76</a>\u001b[0m score_cnt[winner] \u001b[39m+\u001b[39m\u001b[39m=\u001b[39m \u001b[39m1\u001b[39m\n",
      "\u001b[1;32m/home/engmrgh/university/msc-degree/2nd_semester/nn/hw/hw3/code.ipynb Cell 17'\u001b[0m in \u001b[0;36mSOM.find_winner\u001b[0;34m(self, x)\u001b[0m\n\u001b[1;32m    <a href='vscode-notebook-cell:/home/engmrgh/university/msc-degree/2nd_semester/nn/hw/hw3/code.ipynb#ch0000015?line=128'>129</a>\u001b[0m \u001b[39mdef\u001b[39;00m \u001b[39mfind_winner\u001b[39m(\u001b[39mself\u001b[39m, x):\n\u001b[1;32m    <a href='vscode-notebook-cell:/home/engmrgh/university/msc-degree/2nd_semester/nn/hw/hw3/code.ipynb#ch0000015?line=129'>130</a>\u001b[0m     map_ \u001b[39m=\u001b[39m \u001b[39mself\u001b[39m\u001b[39m.\u001b[39mmap\u001b[39m.\u001b[39mreshape((\u001b[39mself\u001b[39m\u001b[39m.\u001b[39mmap\u001b[39m.\u001b[39mshape[\u001b[39m0\u001b[39m] \u001b[39m*\u001b[39m \u001b[39mself\u001b[39m\u001b[39m.\u001b[39mmap\u001b[39m.\u001b[39mshape[\u001b[39m1\u001b[39m], \u001b[39mself\u001b[39m\u001b[39m.\u001b[39mmap\u001b[39m.\u001b[39mshape[\u001b[39m2\u001b[39m]))\n\u001b[0;32m--> <a href='vscode-notebook-cell:/home/engmrgh/university/msc-degree/2nd_semester/nn/hw/hw3/code.ipynb#ch0000015?line=130'>131</a>\u001b[0m     distances_from_x_to_out_nodes \u001b[39m=\u001b[39m euclidean_distances(map_, [x])\n\u001b[1;32m    <a href='vscode-notebook-cell:/home/engmrgh/university/msc-degree/2nd_semester/nn/hw/hw3/code.ipynb#ch0000015?line=131'>132</a>\u001b[0m     winner_node \u001b[39m=\u001b[39m np\u001b[39m.\u001b[39margmin(distances_from_x_to_out_nodes)\n\u001b[1;32m    <a href='vscode-notebook-cell:/home/engmrgh/university/msc-degree/2nd_semester/nn/hw/hw3/code.ipynb#ch0000015?line=132'>133</a>\u001b[0m     winner_node_ \u001b[39m=\u001b[39m np\u001b[39m.\u001b[39munravel_index(winner_node, (\u001b[39mself\u001b[39m\u001b[39m.\u001b[39mmap\u001b[39m.\u001b[39mshape[\u001b[39m0\u001b[39m],\u001b[39mself\u001b[39m\u001b[39m.\u001b[39mmap\u001b[39m.\u001b[39mshape[\u001b[39m1\u001b[39m]))\n",
      "File \u001b[0;32m~/university/msc-degree/.venv/lib/python3.8/site-packages/sklearn/metrics/pairwise.py:330\u001b[0m, in \u001b[0;36meuclidean_distances\u001b[0;34m(X, Y, Y_norm_squared, squared, X_norm_squared)\u001b[0m\n\u001b[1;32m    <a href='file:///home/engmrgh/university/msc-degree/.venv/lib/python3.8/site-packages/sklearn/metrics/pairwise.py?line=323'>324</a>\u001b[0m     \u001b[39mif\u001b[39;00m Y_norm_squared\u001b[39m.\u001b[39mshape \u001b[39m!=\u001b[39m (\u001b[39m1\u001b[39m, Y\u001b[39m.\u001b[39mshape[\u001b[39m0\u001b[39m]):\n\u001b[1;32m    <a href='file:///home/engmrgh/university/msc-degree/.venv/lib/python3.8/site-packages/sklearn/metrics/pairwise.py?line=324'>325</a>\u001b[0m         \u001b[39mraise\u001b[39;00m \u001b[39mValueError\u001b[39;00m(\n\u001b[1;32m    <a href='file:///home/engmrgh/university/msc-degree/.venv/lib/python3.8/site-packages/sklearn/metrics/pairwise.py?line=325'>326</a>\u001b[0m             \u001b[39mf\u001b[39m\u001b[39m\"\u001b[39m\u001b[39mIncompatible dimensions for Y of shape \u001b[39m\u001b[39m{\u001b[39;00mY\u001b[39m.\u001b[39mshape\u001b[39m}\u001b[39;00m\u001b[39m and \u001b[39m\u001b[39m\"\u001b[39m\n\u001b[1;32m    <a href='file:///home/engmrgh/university/msc-degree/.venv/lib/python3.8/site-packages/sklearn/metrics/pairwise.py?line=326'>327</a>\u001b[0m             \u001b[39mf\u001b[39m\u001b[39m\"\u001b[39m\u001b[39mY_norm_squared of shape \u001b[39m\u001b[39m{\u001b[39;00moriginal_shape\u001b[39m}\u001b[39;00m\u001b[39m.\u001b[39m\u001b[39m\"\u001b[39m\n\u001b[1;32m    <a href='file:///home/engmrgh/university/msc-degree/.venv/lib/python3.8/site-packages/sklearn/metrics/pairwise.py?line=327'>328</a>\u001b[0m         )\n\u001b[0;32m--> <a href='file:///home/engmrgh/university/msc-degree/.venv/lib/python3.8/site-packages/sklearn/metrics/pairwise.py?line=329'>330</a>\u001b[0m \u001b[39mreturn\u001b[39;00m _euclidean_distances(X, Y, X_norm_squared, Y_norm_squared, squared)\n",
      "File \u001b[0;32m~/university/msc-degree/.venv/lib/python3.8/site-packages/sklearn/metrics/pairwise.py:371\u001b[0m, in \u001b[0;36m_euclidean_distances\u001b[0;34m(X, Y, X_norm_squared, Y_norm_squared, squared)\u001b[0m\n\u001b[1;32m    <a href='file:///home/engmrgh/university/msc-degree/.venv/lib/python3.8/site-packages/sklearn/metrics/pairwise.py?line=367'>368</a>\u001b[0m     distances \u001b[39m=\u001b[39m _euclidean_distances_upcast(X, XX, Y, YY)\n\u001b[1;32m    <a href='file:///home/engmrgh/university/msc-degree/.venv/lib/python3.8/site-packages/sklearn/metrics/pairwise.py?line=368'>369</a>\u001b[0m \u001b[39melse\u001b[39;00m:\n\u001b[1;32m    <a href='file:///home/engmrgh/university/msc-degree/.venv/lib/python3.8/site-packages/sklearn/metrics/pairwise.py?line=369'>370</a>\u001b[0m     \u001b[39m# if dtype is already float64, no need to chunk and upcast\u001b[39;00m\n\u001b[0;32m--> <a href='file:///home/engmrgh/university/msc-degree/.venv/lib/python3.8/site-packages/sklearn/metrics/pairwise.py?line=370'>371</a>\u001b[0m     distances \u001b[39m=\u001b[39m \u001b[39m-\u001b[39m\u001b[39m2\u001b[39m \u001b[39m*\u001b[39m safe_sparse_dot(X, Y\u001b[39m.\u001b[39;49mT, dense_output\u001b[39m=\u001b[39;49m\u001b[39mTrue\u001b[39;49;00m)\n\u001b[1;32m    <a href='file:///home/engmrgh/university/msc-degree/.venv/lib/python3.8/site-packages/sklearn/metrics/pairwise.py?line=371'>372</a>\u001b[0m     distances \u001b[39m+\u001b[39m\u001b[39m=\u001b[39m XX\n\u001b[1;32m    <a href='file:///home/engmrgh/university/msc-degree/.venv/lib/python3.8/site-packages/sklearn/metrics/pairwise.py?line=372'>373</a>\u001b[0m     distances \u001b[39m+\u001b[39m\u001b[39m=\u001b[39m YY\n",
      "File \u001b[0;32m~/university/msc-degree/.venv/lib/python3.8/site-packages/sklearn/utils/extmath.py:153\u001b[0m, in \u001b[0;36msafe_sparse_dot\u001b[0;34m(a, b, dense_output)\u001b[0m\n\u001b[1;32m    <a href='file:///home/engmrgh/university/msc-degree/.venv/lib/python3.8/site-packages/sklearn/utils/extmath.py?line=150'>151</a>\u001b[0m         ret \u001b[39m=\u001b[39m np\u001b[39m.\u001b[39mdot(a, b)\n\u001b[1;32m    <a href='file:///home/engmrgh/university/msc-degree/.venv/lib/python3.8/site-packages/sklearn/utils/extmath.py?line=151'>152</a>\u001b[0m \u001b[39melse\u001b[39;00m:\n\u001b[0;32m--> <a href='file:///home/engmrgh/university/msc-degree/.venv/lib/python3.8/site-packages/sklearn/utils/extmath.py?line=152'>153</a>\u001b[0m     ret \u001b[39m=\u001b[39m a \u001b[39m@\u001b[39;49m b\n\u001b[1;32m    <a href='file:///home/engmrgh/university/msc-degree/.venv/lib/python3.8/site-packages/sklearn/utils/extmath.py?line=154'>155</a>\u001b[0m \u001b[39mif\u001b[39;00m (\n\u001b[1;32m    <a href='file:///home/engmrgh/university/msc-degree/.venv/lib/python3.8/site-packages/sklearn/utils/extmath.py?line=155'>156</a>\u001b[0m     sparse\u001b[39m.\u001b[39missparse(a)\n\u001b[1;32m    <a href='file:///home/engmrgh/university/msc-degree/.venv/lib/python3.8/site-packages/sklearn/utils/extmath.py?line=156'>157</a>\u001b[0m     \u001b[39mand\u001b[39;00m sparse\u001b[39m.\u001b[39missparse(b)\n\u001b[1;32m    <a href='file:///home/engmrgh/university/msc-degree/.venv/lib/python3.8/site-packages/sklearn/utils/extmath.py?line=157'>158</a>\u001b[0m     \u001b[39mand\u001b[39;00m dense_output\n\u001b[1;32m    <a href='file:///home/engmrgh/university/msc-degree/.venv/lib/python3.8/site-packages/sklearn/utils/extmath.py?line=158'>159</a>\u001b[0m     \u001b[39mand\u001b[39;00m \u001b[39mhasattr\u001b[39m(ret, \u001b[39m\"\u001b[39m\u001b[39mtoarray\u001b[39m\u001b[39m\"\u001b[39m)\n\u001b[1;32m    <a href='file:///home/engmrgh/university/msc-degree/.venv/lib/python3.8/site-packages/sklearn/utils/extmath.py?line=159'>160</a>\u001b[0m ):\n\u001b[1;32m    <a href='file:///home/engmrgh/university/msc-degree/.venv/lib/python3.8/site-packages/sklearn/utils/extmath.py?line=160'>161</a>\u001b[0m     \u001b[39mreturn\u001b[39;00m ret\u001b[39m.\u001b[39mtoarray()\n",
      "\u001b[0;31mKeyboardInterrupt\u001b[0m: "
     ]
    }
   ],
   "source": [
    "run = 19\n",
    "os.makedirs(f'images/q5/r{run}/', exist_ok=True)\n",
    "som = SOM((13, 13, 561), R=5, lr=0.1, T=20, alpha=0.005, path=f'images/q5/r{run}/')\n",
    "som.train(X_train, y_train)"
   ]
  },
  {
   "cell_type": "markdown",
   "metadata": {},
   "source": [
    "# Question 6"
   ]
  },
  {
   "cell_type": "markdown",
   "metadata": {},
   "source": [
    "Extracting features using 13 by 13 SOM map"
   ]
  },
  {
   "cell_type": "code",
   "execution_count": 12,
   "metadata": {},
   "outputs": [
    {
     "data": {
      "image/png": "[encoded data removed]",
      "text/plain": [
       "<Figure size 432x288 with 2 Axes>"
      ]
     },
     "metadata": {},
     "output_type": "display_data"
    },
    {
     "data": {
      "image/png": "[encoded data removed]",
      "text/plain": [
       "<Figure size 432x288 with 1 Axes>"
      ]
     },
     "metadata": {
      "needs_background": "light"
     },
     "output_type": "display_data"
    },
    {
     "name": "stderr",
     "output_type": "stream",
     "text": [
      "100%|██████████| 20/20 [04:43<00:00, 14.15s/it]\n"
     ]
    },
    {
     "data": {
      "image/png": "[encoded data removed]",
      "text/plain": [
       "<Figure size 432x288 with 2 Axes>"
      ]
     },
     "metadata": {},
     "output_type": "display_data"
    },
    {
     "data": {
      "image/png": "[encoded data removed]",
      "text/plain": [
       "<Figure size 432x288 with 1 Axes>"
      ]
     },
     "metadata": {
      "needs_background": "light"
     },
     "output_type": "display_data"
    },
    {
     "data": {
      "image/png": "[encoded data removed]",
      "text/plain": [
       "<Figure size 432x288 with 1 Axes>"
      ]
     },
     "metadata": {
      "needs_background": "light"
     },
     "output_type": "display_data"
    },
    {
     "data": {
      "image/png": "[encoded data removed]",
      "text/plain": [
       "<Figure size 432x288 with 1 Axes>"
      ]
     },
     "metadata": {
      "needs_background": "light"
     },
     "output_type": "display_data"
    },
    {
     "data": {
      "image/png": "[encoded data removed]",
      "text/plain": [
       "<Figure size 432x288 with 1 Axes>"
      ]
     },
     "metadata": {
      "needs_background": "light"
     },
     "output_type": "display_data"
    }
   ],
   "source": [
    "som13by13 = SOM((13, 13, 561), R=7, lr=0.1, T=20, alpha=0.005, path=f'/tmp/')\n",
    "som13by13.train(X_train, y_train)"
   ]
  },
  {
   "cell_type": "code",
   "execution_count": 13,
   "metadata": {},
   "outputs": [],
   "source": [
    "X_train_13by13_distance_based = som13by13.reduce_dimension(X_train)\n",
    "X_val_13by13_distance_based = som13by13.reduce_dimension(X_val)\n",
    "X_test_13by13_distance_based = som13by13.reduce_dimension(X_test)"
   ]
  },
  {
   "cell_type": "code",
   "execution_count": 17,
   "metadata": {},
   "outputs": [
    {
     "name": "stdout",
     "output_type": "stream",
     "text": [
      "Epoch 1/30\n",
      "8/8 [==============================] - 0s 32ms/step - loss: 1.9654 - accuracy: 0.3871 - val_loss: 1.0829 - val_accuracy: 0.4292\n",
      "Epoch 2/30\n",
      "8/8 [==============================] - 0s 20ms/step - loss: 0.9713 - accuracy: 0.5135 - val_loss: 0.8113 - val_accuracy: 0.6508\n",
      "Epoch 3/30\n",
      "8/8 [==============================] - 0s 21ms/step - loss: 0.8140 - accuracy: 0.6106 - val_loss: 0.7393 - val_accuracy: 0.6828\n",
      "Epoch 4/30\n",
      "8/8 [==============================] - 0s 20ms/step - loss: 0.7248 - accuracy: 0.6737 - val_loss: 0.7453 - val_accuracy: 0.6993\n",
      "Epoch 5/30\n",
      "8/8 [==============================] - 0s 19ms/step - loss: 0.6934 - accuracy: 0.6844 - val_loss: 0.6791 - val_accuracy: 0.6954\n",
      "Epoch 6/30\n",
      "8/8 [==============================] - 0s 19ms/step - loss: 0.6606 - accuracy: 0.7055 - val_loss: 0.6437 - val_accuracy: 0.7730\n",
      "Epoch 7/30\n",
      "8/8 [==============================] - 0s 20ms/step - loss: 0.6364 - accuracy: 0.7247 - val_loss: 0.6174 - val_accuracy: 0.7328\n",
      "Epoch 8/30\n",
      "8/8 [==============================] - 0s 20ms/step - loss: 0.6269 - accuracy: 0.7214 - val_loss: 0.6605 - val_accuracy: 0.6833\n",
      "Epoch 9/30\n",
      "8/8 [==============================] - 0s 20ms/step - loss: 0.6122 - accuracy: 0.7229 - val_loss: 0.6092 - val_accuracy: 0.7502\n",
      "Epoch 10/30\n",
      "8/8 [==============================] - 0s 22ms/step - loss: 0.5939 - accuracy: 0.7320 - val_loss: 0.6160 - val_accuracy: 0.7289\n",
      "Epoch 11/30\n",
      "8/8 [==============================] - 0s 20ms/step - loss: 0.6114 - accuracy: 0.7161 - val_loss: 0.5775 - val_accuracy: 0.7565\n",
      "Epoch 12/30\n",
      "8/8 [==============================] - 0s 20ms/step - loss: 0.5902 - accuracy: 0.7341 - val_loss: 0.7351 - val_accuracy: 0.5926\n",
      "Epoch 13/30\n",
      "8/8 [==============================] - 0s 20ms/step - loss: 0.6006 - accuracy: 0.7210 - val_loss: 0.5840 - val_accuracy: 0.7565\n",
      "Epoch 14/30\n",
      "8/8 [==============================] - 0s 21ms/step - loss: 0.5859 - accuracy: 0.7390 - val_loss: 0.5866 - val_accuracy: 0.6945\n",
      "Epoch 15/30\n",
      "8/8 [==============================] - 0s 20ms/step - loss: 0.5816 - accuracy: 0.7263 - val_loss: 0.6168 - val_accuracy: 0.7493\n",
      "Epoch 16/30\n",
      "8/8 [==============================] - 0s 20ms/step - loss: 0.5669 - accuracy: 0.7454 - val_loss: 0.5955 - val_accuracy: 0.6979\n",
      "Epoch 17/30\n",
      "8/8 [==============================] - 0s 23ms/step - loss: 0.5663 - accuracy: 0.7367 - val_loss: 0.5888 - val_accuracy: 0.7619\n",
      "Epoch 18/30\n",
      "8/8 [==============================] - 0s 20ms/step - loss: 0.5796 - accuracy: 0.7288 - val_loss: 0.5465 - val_accuracy: 0.7483\n",
      "Epoch 19/30\n",
      "8/8 [==============================] - 0s 20ms/step - loss: 0.5442 - accuracy: 0.7523 - val_loss: 0.6137 - val_accuracy: 0.7163\n",
      "Epoch 20/30\n",
      "8/8 [==============================] - 0s 20ms/step - loss: 0.5496 - accuracy: 0.7516 - val_loss: 0.5204 - val_accuracy: 0.7798\n",
      "Epoch 21/30\n",
      "8/8 [==============================] - 0s 21ms/step - loss: 0.5373 - accuracy: 0.7598 - val_loss: 0.5137 - val_accuracy: 0.7745\n",
      "Epoch 22/30\n",
      "8/8 [==============================] - 0s 20ms/step - loss: 0.5209 - accuracy: 0.7701 - val_loss: 0.5583 - val_accuracy: 0.7726\n",
      "Epoch 23/30\n",
      "8/8 [==============================] - 0s 20ms/step - loss: 0.5428 - accuracy: 0.7484 - val_loss: 0.5235 - val_accuracy: 0.8041\n",
      "Epoch 24/30\n",
      "8/8 [==============================] - 0s 20ms/step - loss: 0.5292 - accuracy: 0.7685 - val_loss: 0.5265 - val_accuracy: 0.7585\n",
      "Epoch 25/30\n",
      "8/8 [==============================] - 0s 20ms/step - loss: 0.5234 - accuracy: 0.7692 - val_loss: 0.5003 - val_accuracy: 0.7866\n",
      "Epoch 26/30\n",
      "8/8 [==============================] - 0s 20ms/step - loss: 0.5202 - accuracy: 0.7686 - val_loss: 0.5461 - val_accuracy: 0.7459\n",
      "Epoch 27/30\n",
      "8/8 [==============================] - 0s 20ms/step - loss: 0.5165 - accuracy: 0.7675 - val_loss: 0.5234 - val_accuracy: 0.7876\n",
      "Epoch 28/30\n",
      "8/8 [==============================] - 0s 20ms/step - loss: 0.5141 - accuracy: 0.7703 - val_loss: 0.6158 - val_accuracy: 0.7148\n",
      "Epoch 29/30\n",
      "8/8 [==============================] - 0s 20ms/step - loss: 0.5302 - accuracy: 0.7572 - val_loss: 0.5391 - val_accuracy: 0.7464\n",
      "Epoch 30/30\n",
      "8/8 [==============================] - 0s 20ms/step - loss: 0.5264 - accuracy: 0.7661 - val_loss: 0.4878 - val_accuracy: 0.7890\n"
     ]
    },
    {
     "data": {
      "text/plain": [
       "<keras.callbacks.History at 0x7f8671184040>"
      ]
     },
     "execution_count": 17,
     "metadata": {},
     "output_type": "execute_result"
    }
   ],
   "source": [
    "mlp = tf.keras.Sequential([\n",
    "    tf.keras.layers.Dense(NUM_OF_FEATURES, activation='relu'),\n",
    "    tf.keras.layers.Dense(8192, activation='relu'),\n",
    "    tf.keras.layers.Dense(NUM_OF_ACTIVITY, activation='softmax'),\n",
    "])\n",
    "\n",
    "mlp.compile(optimizer=tf.keras.optimizers.Adam(learning_rate=1e-4),\n",
    "            loss='categorical_crossentropy',\n",
    "            metrics=['accuracy'])\n",
    "\n",
    "mlp.fit(X_train_13by13_distance_based, y_train_onehot, validation_data=(X_val_13by13_distance_based, y_val_onehot), epochs=30, batch_size=1024)"
   ]
  },
  {
   "cell_type": "code",
   "execution_count": 19,
   "metadata": {},
   "outputs": [
    {
     "name": "stdout",
     "output_type": "stream",
     "text": [
      "28/28 [==============================] - 0s 2ms/step - loss: 0.5663 - accuracy: 0.7503\n"
     ]
    },
    {
     "data": {
      "text/plain": [
       "[0.5663029551506042, 0.7502824664115906]"
      ]
     },
     "execution_count": 19,
     "metadata": {},
     "output_type": "execute_result"
    }
   ],
   "source": [
    "mlp.evaluate(X_test_13by13_distance_based, y_test_onehot)"
   ]
  },
  {
   "cell_type": "code",
   "execution_count": 20,
   "metadata": {},
   "outputs": [],
   "source": [
    "X_train_13by13_index_based = som13by13.reduce_dimension(X_train, using_index=True)\n",
    "X_val_13by13_index_based = som13by13.reduce_dimension(X_val, using_index=True)\n",
    "X_test_13by13_index_based = som13by13.reduce_dimension(X_test, using_index=True)"
   ]
  },
  {
   "cell_type": "code",
   "execution_count": 22,
   "metadata": {},
   "outputs": [
    {
     "name": "stdout",
     "output_type": "stream",
     "text": [
      "Epoch 1/30\n",
      "8/8 [==============================] - 1s 79ms/step - loss: 1.2491 - accuracy: 0.4459 - val_loss: 0.9232 - val_accuracy: 0.5844\n",
      "Epoch 2/30\n",
      "8/8 [==============================] - 1s 63ms/step - loss: 0.8688 - accuracy: 0.6020 - val_loss: 0.8413 - val_accuracy: 0.6440\n",
      "Epoch 3/30\n",
      "8/8 [==============================] - 1s 64ms/step - loss: 0.8201 - accuracy: 0.6149 - val_loss: 0.8506 - val_accuracy: 0.6115\n",
      "Epoch 4/30\n",
      "8/8 [==============================] - 1s 64ms/step - loss: 0.8107 - accuracy: 0.6201 - val_loss: 0.8160 - val_accuracy: 0.6469\n",
      "Epoch 5/30\n",
      "8/8 [==============================] - 1s 64ms/step - loss: 0.7745 - accuracy: 0.6321 - val_loss: 0.7926 - val_accuracy: 0.6309\n",
      "Epoch 6/30\n",
      "8/8 [==============================] - 1s 64ms/step - loss: 0.7537 - accuracy: 0.6536 - val_loss: 0.7716 - val_accuracy: 0.7032\n",
      "Epoch 7/30\n",
      "8/8 [==============================] - 1s 64ms/step - loss: 0.7316 - accuracy: 0.6862 - val_loss: 0.7492 - val_accuracy: 0.6940\n",
      "Epoch 8/30\n",
      "8/8 [==============================] - 1s 65ms/step - loss: 0.7119 - accuracy: 0.6906 - val_loss: 0.7446 - val_accuracy: 0.6780\n",
      "Epoch 9/30\n",
      "8/8 [==============================] - 1s 64ms/step - loss: 0.6898 - accuracy: 0.6823 - val_loss: 0.6843 - val_accuracy: 0.7139\n",
      "Epoch 10/30\n",
      "8/8 [==============================] - 1s 65ms/step - loss: 0.6672 - accuracy: 0.6869 - val_loss: 0.6662 - val_accuracy: 0.7119\n",
      "Epoch 11/30\n",
      "8/8 [==============================] - 1s 66ms/step - loss: 0.6456 - accuracy: 0.7114 - val_loss: 0.6558 - val_accuracy: 0.7459\n",
      "Epoch 12/30\n",
      "8/8 [==============================] - 1s 64ms/step - loss: 0.6286 - accuracy: 0.7189 - val_loss: 0.6548 - val_accuracy: 0.7517\n",
      "Epoch 13/30\n",
      "8/8 [==============================] - 1s 64ms/step - loss: 0.6314 - accuracy: 0.7304 - val_loss: 0.6236 - val_accuracy: 0.7464\n",
      "Epoch 14/30\n",
      "8/8 [==============================] - 1s 64ms/step - loss: 0.6074 - accuracy: 0.7310 - val_loss: 0.6369 - val_accuracy: 0.7585\n",
      "Epoch 15/30\n",
      "8/8 [==============================] - 1s 64ms/step - loss: 0.6042 - accuracy: 0.7299 - val_loss: 0.5980 - val_accuracy: 0.7536\n",
      "Epoch 16/30\n",
      "8/8 [==============================] - 1s 64ms/step - loss: 0.5967 - accuracy: 0.7352 - val_loss: 0.6588 - val_accuracy: 0.7202\n",
      "Epoch 17/30\n",
      "8/8 [==============================] - 1s 64ms/step - loss: 0.5910 - accuracy: 0.7333 - val_loss: 0.6130 - val_accuracy: 0.7158\n",
      "Epoch 18/30\n",
      "8/8 [==============================] - 1s 64ms/step - loss: 0.5760 - accuracy: 0.7359 - val_loss: 0.5982 - val_accuracy: 0.7658\n",
      "Epoch 19/30\n",
      "8/8 [==============================] - 1s 64ms/step - loss: 0.5563 - accuracy: 0.7495 - val_loss: 0.5938 - val_accuracy: 0.7629\n",
      "Epoch 20/30\n",
      "8/8 [==============================] - 1s 64ms/step - loss: 0.5480 - accuracy: 0.7514 - val_loss: 0.5630 - val_accuracy: 0.7915\n",
      "Epoch 21/30\n",
      "8/8 [==============================] - 1s 64ms/step - loss: 0.5350 - accuracy: 0.7693 - val_loss: 0.6009 - val_accuracy: 0.7682\n",
      "Epoch 22/30\n",
      "8/8 [==============================] - 1s 65ms/step - loss: 0.5392 - accuracy: 0.7618 - val_loss: 0.5802 - val_accuracy: 0.7696\n",
      "Epoch 23/30\n",
      "8/8 [==============================] - 1s 64ms/step - loss: 0.5420 - accuracy: 0.7554 - val_loss: 0.5853 - val_accuracy: 0.7371\n",
      "Epoch 24/30\n",
      "8/8 [==============================] - 1s 64ms/step - loss: 0.5368 - accuracy: 0.7625 - val_loss: 0.5726 - val_accuracy: 0.7653\n",
      "Epoch 25/30\n",
      "8/8 [==============================] - 1s 65ms/step - loss: 0.5297 - accuracy: 0.7606 - val_loss: 0.5367 - val_accuracy: 0.7832\n",
      "Epoch 26/30\n",
      "8/8 [==============================] - 1s 64ms/step - loss: 0.5336 - accuracy: 0.7580 - val_loss: 0.5447 - val_accuracy: 0.7837\n",
      "Epoch 27/30\n",
      "8/8 [==============================] - 1s 64ms/step - loss: 0.5224 - accuracy: 0.7656 - val_loss: 0.5278 - val_accuracy: 0.7973\n",
      "Epoch 28/30\n",
      "8/8 [==============================] - 1s 66ms/step - loss: 0.5144 - accuracy: 0.7620 - val_loss: 0.5211 - val_accuracy: 0.7934\n",
      "Epoch 29/30\n",
      "8/8 [==============================] - 1s 65ms/step - loss: 0.5057 - accuracy: 0.7705 - val_loss: 0.5523 - val_accuracy: 0.7759\n",
      "Epoch 30/30\n",
      "8/8 [==============================] - 1s 64ms/step - loss: 0.5049 - accuracy: 0.7748 - val_loss: 0.5178 - val_accuracy: 0.7779\n"
     ]
    },
    {
     "data": {
      "text/plain": [
       "<keras.callbacks.History at 0x7f8670f374c0>"
      ]
     },
     "execution_count": 22,
     "metadata": {},
     "output_type": "execute_result"
    }
   ],
   "source": [
    "mlp = tf.keras.Sequential([\n",
    "    tf.keras.layers.Dense(NUM_OF_FEATURES, activation='relu'),\n",
    "    tf.keras.layers.Dense(4096, activation='relu'),\n",
    "    tf.keras.layers.Dense(4096, activation='relu'),\n",
    "    tf.keras.layers.Dense(4096, activation='relu'),\n",
    "    tf.keras.layers.Dense(NUM_OF_ACTIVITY, activation='softmax'),\n",
    "])\n",
    "\n",
    "mlp.compile(optimizer=tf.keras.optimizers.Adam(learning_rate=1e-4),\n",
    "            loss='categorical_crossentropy',\n",
    "            metrics=['accuracy'])\n",
    "\n",
    "mlp.fit(X_train_13by13_index_based, y_train_onehot, validation_data=(X_val_13by13_index_based, y_val_onehot), epochs=30, batch_size=1024)"
   ]
  },
  {
   "cell_type": "code",
   "execution_count": 23,
   "metadata": {},
   "outputs": [
    {
     "name": "stdout",
     "output_type": "stream",
     "text": [
      "28/28 [==============================] - 0s 2ms/step - loss: 0.5487 - accuracy: 0.6994\n"
     ]
    },
    {
     "data": {
      "text/plain": [
       "[0.5487018823623657, 0.6994350552558899]"
      ]
     },
     "execution_count": 23,
     "metadata": {},
     "output_type": "execute_result"
    }
   ],
   "source": [
    "mlp.evaluate(X_test_13by13_index_based, y_test_onehot)"
   ]
  }
 ],
 "metadata": {
  "interpreter": {
   "hash": "7190ae378dd7298a835d7d91d57b4572e1a91bb8f4b6d673c87ae831e3ab4f27"
  },
  "kernelspec": {
   "display_name": "Python 3",
   "language": "python",
   "name": "python3"
  },
  "language_info": {
   "codemirror_mode": {
    "name": "ipython",
    "version": 3
   },
   "file_extension": ".py",
   "mimetype": "text/x-python",
   "name": "python",
   "nbconvert_exporter": "python",
   "pygments_lexer": "ipython3",
   "version": "3.8.10"
  }
 },
 "nbformat": 4,
 "nbformat_minor": 2
}
