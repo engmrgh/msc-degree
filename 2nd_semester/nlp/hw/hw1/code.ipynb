{
 "cells": [
  {
   "cell_type": "markdown",
   "metadata": {},
   "source": [
    "<div align=\"center\"><h3>HW1</h3></div>\n",
    "<div align=\"center\"><h5>Mohammadreza Ghofrani, 400131076</h5></div>"
   ]
  },
  {
   "cell_type": "markdown",
   "metadata": {},
   "source": [
    "# Loading Libraries"
   ]
  },
  {
   "cell_type": "code",
   "execution_count": 1,
   "metadata": {},
   "outputs": [],
   "source": [
    "import os\n",
    "os.environ['TF_CPP_MIN_LOG_LEVEL'] = '3'"
   ]
  },
  {
   "cell_type": "code",
   "execution_count": 2,
   "metadata": {},
   "outputs": [],
   "source": [
    "import numpy as np\n",
    "import tensorflow as tf"
   ]
  },
  {
   "cell_type": "markdown",
   "metadata": {},
   "source": [
    "# Initializing"
   ]
  },
  {
   "cell_type": "markdown",
   "metadata": {},
   "source": [
    "Reading the dataset"
   ]
  },
  {
   "cell_type": "code",
   "execution_count": 3,
   "metadata": {},
   "outputs": [],
   "source": [
    "with open('data/train.txt') as f:\n",
    "    train = f.read().split('\\n')\n",
    "with open('data/validation.txt') as f:\n",
    "    val = f.read().split('\\n')\n",
    "with open('data/test.txt') as f:\n",
    "    test = f.read().split('\\n')\n",
    "with open('data/test_incomplete.txt') as f:\n",
    "    test_inc = f.read().split('\\n')\n",
    "with open('data/test_incomplete_gold.txt') as f:\n",
    "    test_gld = f.read().split('\\n')"
   ]
  },
  {
   "cell_type": "markdown",
   "metadata": {},
   "source": [
    "# Statistical Langauge Models"
   ]
  },
  {
   "cell_type": "markdown",
   "metadata": {},
   "source": [
    "## Unigram"
   ]
  },
  {
   "cell_type": "code",
   "execution_count": 20,
   "metadata": {},
   "outputs": [],
   "source": [
    "class Unigram:\n",
    "    def __init__(self):\n",
    "        self.uni_delta = 0\n",
    "        self.vocab = set()\n",
    "        self.vocab_size = 0\n",
    "        self.word_count = 0\n",
    "        self.unigram = dict()\n",
    "\n",
    "    def _create_model(self, train):\n",
    "        for verse in train:\n",
    "            verse_ = list(filter(lambda str_: str_, verse.split(' ')))\n",
    "            for w in verse_:\n",
    "                self._update_zerogram(w)\n",
    "                self._update_unigram(w)\n",
    "\n",
    "    def _calculate_probablity(self, w, uni_delta):\n",
    "        a1 = (uni_delta / self.word_count) * self.vocab_size\n",
    "        return max(self.unigram.get(w, 0) - uni_delta, 0) / self.word_count +  \\\n",
    "                    a1 * 1 / self.vocab_size\n",
    "\n",
    "    def _calculate_perplexity(self, val, uni_delta):\n",
    "        N = 0\n",
    "        total_prob = 1\n",
    "        for verse in val:\n",
    "            verse_ = list(filter(lambda str_: str_, verse.split(' ')))\n",
    "            for w in verse_:\n",
    "                total_prob -= np.log(self._calculate_probablity(w, uni_delta))\n",
    "                N += 1\n",
    "        return (1/N) * total_prob\n",
    "\n",
    "    def _tune_parameter(self, val):\n",
    "        best_pp = float('inf')\n",
    "        for uni_delta in np.arange(0.02, 0.98, 0.02):\n",
    "            pp = self._calculate_perplexity(val, uni_delta)\n",
    "            if pp < best_pp:\n",
    "                best_pp = pp\n",
    "                self.uni_delta = uni_delta\n",
    "\n",
    "    def fit(self, train, val):\n",
    "        self._create_model(train)\n",
    "        self._tune_parameter(val)\n",
    "\n",
    "    def _update_zerogram(self, w):\n",
    "        self.vocab.add(w)\n",
    "        self.vocab_size = len(self.vocab)\n",
    "        self.word_count += 1\n",
    "\n",
    "    def _update_unigram(self, w):\n",
    "        if w not in self.unigram:\n",
    "            self.unigram[w] = 0\n",
    "        self.unigram[w] += 1\n",
    "\n",
    "    def predict(self, missing_words):\n",
    "        predicted_words = []\n",
    "        for _ in range(missing_words):\n",
    "            best_prob, selected_w = 0, ''\n",
    "            for w in self.unigram:\n",
    "                p = self._calculate_probablity(w, self.uni_delta)\n",
    "                if best_prob < p:\n",
    "                    best_prob = p\n",
    "                    selected_w = w\n",
    "            predicted_words.append(selected_w)\n",
    "        return predicted_words"
   ]
  },
  {
   "cell_type": "markdown",
   "metadata": {},
   "source": [
    "Training unigram model"
   ]
  },
  {
   "cell_type": "code",
   "execution_count": 21,
   "metadata": {},
   "outputs": [],
   "source": [
    "unigram = Unigram()\n",
    "unigram.fit(train, val)"
   ]
  },
  {
   "cell_type": "markdown",
   "metadata": {},
   "source": [
    "Best value for delta parameter"
   ]
  },
  {
   "cell_type": "code",
   "execution_count": 22,
   "metadata": {},
   "outputs": [
    {
     "name": "stdout",
     "output_type": "stream",
     "text": [
      "delta= 0.9600000000000001\n"
     ]
    }
   ],
   "source": [
    "print('delta=', unigram.uni_delta)"
   ]
  },
  {
   "cell_type": "markdown",
   "metadata": {},
   "source": [
    "Reporting perplexity on validation set:"
   ]
  },
  {
   "cell_type": "code",
   "execution_count": 23,
   "metadata": {},
   "outputs": [
    {
     "name": "stdout",
     "output_type": "stream",
     "text": [
      "Perplexity on Validation Data 1828.5071918543797\n"
     ]
    }
   ],
   "source": [
    "logppl = unigram._calculate_perplexity(val, unigram.uni_delta)\n",
    "print('Perplexity on Validation Data', np.exp(logppl))"
   ]
  },
  {
   "cell_type": "markdown",
   "metadata": {},
   "source": [
    "Reporting perplexity on test set:"
   ]
  },
  {
   "cell_type": "code",
   "execution_count": 24,
   "metadata": {},
   "outputs": [
    {
     "name": "stdout",
     "output_type": "stream",
     "text": [
      "Perplexity on Test Data 1810.0729902351718\n"
     ]
    }
   ],
   "source": [
    "logppl = unigram._calculate_perplexity(test, unigram.uni_delta)\n",
    "print('Perplexity on Test Data', np.exp(logppl))"
   ]
  },
  {
   "cell_type": "markdown",
   "metadata": {},
   "source": [
    "Predicting tokens on `test_incomplete.txt` verses."
   ]
  },
  {
   "cell_type": "code",
   "execution_count": 25,
   "metadata": {},
   "outputs": [
    {
     "name": "stdout",
     "output_type": "stream",
     "text": [
      "این سخن حقست اگر نزد سخن گستر ['و']\n",
      "آنکه با یوسف صدیق چنین خواهد ['و']\n",
      "هیچ دانی چکند صحبت او با ['و']\n",
      "سرمه دهی بصر بری سخت خوش است ['و']\n",
      "آتش ابراهیم را ['و', 'و']\n",
      "من که اندر سر ['و', 'و']\n",
      "هر شیر شرزه را که به نیش ['و', 'و']\n",
      "هرکه از حق به ['و', 'و', 'و']\n",
      "گفت این از ['و', 'و', 'و']\n",
      "کلاه لاله که لعل است ['و', 'و', 'و']\n"
     ]
    }
   ],
   "source": [
    "for ins in test_inc:\n",
    "    missing_words, verse = ins.split('###')\n",
    "    predicted_words = unigram.predict(int(missing_words))\n",
    "    print(verse, predicted_words)"
   ]
  },
  {
   "cell_type": "markdown",
   "metadata": {},
   "source": [
    "## Bigram"
   ]
  },
  {
   "cell_type": "markdown",
   "metadata": {},
   "source": [
    "### Implementation"
   ]
  },
  {
   "cell_type": "code",
   "execution_count": 27,
   "metadata": {},
   "outputs": [],
   "source": [
    "class Bigram:\n",
    "    def __init__(self):\n",
    "        self.bi_delta = 0\n",
    "        self.uni_delta = 0\n",
    "        self.vocab = set()\n",
    "        self.vocab_size = 0\n",
    "        self.word_count = 0\n",
    "        self.unigram = dict()\n",
    "        self.bigram = dict()\n",
    "        self.w_max = 0\n",
    "\n",
    "    def bi_B(self, w_prev):\n",
    "        return len(self.bigram[w_prev].keys())\n",
    "\n",
    "    def uni_B(self):\n",
    "        return self.vocab_size\n",
    "\n",
    "    def _create_model(self, train):\n",
    "        for verse in train:\n",
    "            verse_ = list(filter(lambda str_: str_, verse.split(' ')))\n",
    "            for i, w in enumerate(verse_):\n",
    "                self._update_zerogram(w)\n",
    "                self._update_unigram(w)\n",
    "                self._update_bigram(w, verse_[i-1])\n",
    "\n",
    "    def _calculate_probablity(self, w, w_prev, bi_delta, uni_delta):\n",
    "        if w_prev in self.bigram:\n",
    "            a1 = (bi_delta / self.unigram[w_prev]) * self.bi_B(w_prev)\n",
    "            a2 = (uni_delta / self.word_count) * self.uni_B()\n",
    "            return max(self.bigram[w_prev].get(w, 0) - bi_delta, 0) / self.unigram[w_prev] + \\\n",
    "                    a1 * (max(self.unigram.get(w, 0) - uni_delta, 0) / self.word_count +  \\\n",
    "                        a2 * 1 / self.vocab_size)\n",
    "        else:\n",
    "            a2 = (uni_delta / self.word_count) * self.uni_B()\n",
    "            return max(self.unigram.get(w, 0) - uni_delta, 0) / self.word_count +  \\\n",
    "                        a2 * 1 / self.vocab_size\n",
    "\n",
    "    def _calculate_perplexity(self, val, bi_delta, uni_delta):\n",
    "        N = 0\n",
    "        total_prob = 1\n",
    "        for verse in val:\n",
    "            verse_ = list(filter(lambda str_: str_, verse.split(' ')))\n",
    "            for i, w in enumerate(verse_):\n",
    "                total_prob -= np.log(self._calculate_probablity(w, verse_[i-1], bi_delta, uni_delta))\n",
    "                N += 1\n",
    "        return (1/N) * total_prob\n",
    "\n",
    "    def _tune_parameter(self, val):\n",
    "        best_pp = float('inf')\n",
    "        for bi_delta in np.arange(0.05, 0.95, 0.05):\n",
    "            for uni_delta in np.arange(0.05, 0.95, 0.05):\n",
    "                pp = self._calculate_perplexity(val, bi_delta, uni_delta)\n",
    "                if pp < best_pp:\n",
    "                    best_pp = pp\n",
    "                    self.bi_delta = bi_delta\n",
    "                    self.uni_delta = uni_delta\n",
    "\n",
    "    def fit(self, train, val):\n",
    "        self._create_model(train)\n",
    "        self._tune_parameter(val)\n",
    "\n",
    "    def _update_zerogram(self, w):\n",
    "        self.vocab.add(w)\n",
    "        self.vocab_size = len(self.vocab)\n",
    "        self.word_count += 1\n",
    "\n",
    "    def _update_unigram(self, w):\n",
    "        if w not in self.unigram:\n",
    "            self.unigram[w] = 0\n",
    "        self.unigram[w] += 1\n",
    "\n",
    "    def _update_bigram(self, w, w_prev):\n",
    "        if w_prev not in self.bigram:\n",
    "            self.bigram[w_prev] = dict()\n",
    "        if w not in self.bigram[w_prev]:\n",
    "            self.bigram[w_prev][w] = 0\n",
    "        self.bigram[w_prev][w] += 1\n",
    "\n",
    "    def predict(self, verse, missing_words):\n",
    "        predicted_words = []\n",
    "        last_word = verse[-1]\n",
    "        for _ in range(missing_words):\n",
    "            best_prob, selected_w = 0, ''\n",
    "            for w in self.unigram:\n",
    "                p = self._calculate_probablity(w, last_word, self.bi_delta, self.uni_delta)\n",
    "                if best_prob < p:\n",
    "                    best_prob = p\n",
    "                    selected_w = w\n",
    "            last_word = selected_w\n",
    "            predicted_words.append(selected_w)\n",
    "        return predicted_words"
   ]
  },
  {
   "cell_type": "markdown",
   "metadata": {},
   "source": [
    "Training bigram model"
   ]
  },
  {
   "cell_type": "code",
   "execution_count": 28,
   "metadata": {},
   "outputs": [],
   "source": [
    "bigram = Bigram()\n",
    "bigram.fit(train, val)"
   ]
  },
  {
   "cell_type": "markdown",
   "metadata": {},
   "source": [
    "Best Parameter for delta1 and delta2"
   ]
  },
  {
   "cell_type": "code",
   "execution_count": 32,
   "metadata": {},
   "outputs": [
    {
     "name": "stdout",
     "output_type": "stream",
     "text": [
      "delta1= 0.9000000000000001 delta2= 0.9000000000000001\n"
     ]
    }
   ],
   "source": [
    "print('delta1=', bigram.uni_delta, 'delta2=', bigram.bi_delta)"
   ]
  },
  {
   "cell_type": "markdown",
   "metadata": {},
   "source": [
    "Perplexity on validation dataset:"
   ]
  },
  {
   "cell_type": "code",
   "execution_count": 34,
   "metadata": {},
   "outputs": [
    {
     "name": "stdout",
     "output_type": "stream",
     "text": [
      "Perplexity on Validation data: 1223.1599054790358\n"
     ]
    }
   ],
   "source": [
    "logppl = bigram._calculate_perplexity(val, bigram.bi_delta, bigram.uni_delta)\n",
    "print('Perplexity on Validation data:', np.exp(logppl))"
   ]
  },
  {
   "cell_type": "markdown",
   "metadata": {},
   "source": [
    "Perplexity on test dataset:"
   ]
  },
  {
   "cell_type": "code",
   "execution_count": 35,
   "metadata": {},
   "outputs": [
    {
     "name": "stdout",
     "output_type": "stream",
     "text": [
      "Perplexity on Test data: 1217.7156570556717\n"
     ]
    }
   ],
   "source": [
    "logppl = bigram._calculate_perplexity(test, bigram.bi_delta, bigram.uni_delta)\n",
    "print('Perplexity on Test data:', np.exp(logppl))"
   ]
  },
  {
   "cell_type": "markdown",
   "metadata": {},
   "source": [
    "Predicting tokens on `test_incomplete.txt` verses."
   ]
  },
  {
   "cell_type": "code",
   "execution_count": 36,
   "metadata": {},
   "outputs": [
    {
     "name": "stdout",
     "output_type": "stream",
     "text": [
      "این سخن حقست اگر نزد سخن گستر ['و']\n",
      "آنکه با یوسف صدیق چنین خواهد ['ر']\n",
      "هیچ دانی چکند صحبت او با ['و']\n",
      "سرمه دهی بصر بری سخت خوش است ['را']\n",
      "آتش ابراهیم را ['و', 'از']\n",
      "من که اندر سر ['و', 'از']\n",
      "هر شیر شرزه را که به نیش ['در', 'آن']\n",
      "هرکه از حق به ['ر', 'و', 'از']\n",
      "گفت این از ['تو', 'در', 'آن']\n",
      "کلاه لاله که لعل است ['را', 'به', 'دست']\n"
     ]
    }
   ],
   "source": [
    "for ins in test_inc:\n",
    "    missing_words, verse = ins.split('###')\n",
    "    predicted_words = bigram.predict(verse, int(missing_words))\n",
    "    print(verse, predicted_words)"
   ]
  },
  {
   "cell_type": "markdown",
   "metadata": {},
   "source": [
    "## Neural Language Model"
   ]
  },
  {
   "cell_type": "markdown",
   "metadata": {},
   "source": [
    "Determining train, validation and test dataset."
   ]
  },
  {
   "cell_type": "code",
   "execution_count": 4,
   "metadata": {},
   "outputs": [],
   "source": [
    "NGRAMS = 4\n",
    "train_30_000 = train[:30_000]"
   ]
  },
  {
   "cell_type": "markdown",
   "metadata": {},
   "source": [
    "Constructing Dictionary"
   ]
  },
  {
   "cell_type": "code",
   "execution_count": 5,
   "metadata": {},
   "outputs": [],
   "source": [
    "def get_vocabluary(dataset):\n",
    "    vocab = set()\n",
    "    dataset_len = len(dataset)\n",
    "    for i in range(dataset_len):\n",
    "        verse = dataset[i]\n",
    "        words = verse.split(' ')\n",
    "        for w in words:\n",
    "            vocab.add(w)\n",
    "    vocab.add('<UNK>')\n",
    "    vocab2id = {t: i for i, t in enumerate(vocab)}\n",
    "    return vocab2id, vocab\n",
    "\n",
    "vocab2id, vocab = get_vocabluary(train_30_000)"
   ]
  },
  {
   "cell_type": "markdown",
   "metadata": {},
   "source": [
    "Encoding inputs as integer encoding & output as one hot encoding."
   ]
  },
  {
   "cell_type": "code",
   "execution_count": 6,
   "metadata": {},
   "outputs": [],
   "source": [
    "def dataset_encoder(dataset, n_gram):\n",
    "    def count_ngram():\n",
    "        n_gram_cnt = 0\n",
    "        for verse in dataset:\n",
    "            words = list(filter(lambda str_: str_, verse.split(' ')))\n",
    "            grams = [words[i:i+n_gram] for i in range(len(words)-n_gram+1)]\n",
    "            n_gram_cnt += len(grams)\n",
    "        return n_gram_cnt\n",
    "\n",
    "    def integer_encoder(n_gram_cnt):\n",
    "        arr = np.zeros((n_gram_cnt, n_gram-1), dtype=np.int16)\n",
    "        gram_id = -1\n",
    "        for verse in dataset:\n",
    "            words = list(filter(lambda str_: str_, verse.split(' ')))\n",
    "            grams = [words[i:i+n_gram] for i in range(len(words)-n_gram+1)]\n",
    "            for gram in grams:\n",
    "                gram_id += 1\n",
    "                for i, w in enumerate(gram[:-1]):\n",
    "                    arr[gram_id][i] = vocab2id.get(w, vocab2id['<UNK>'])\n",
    "        return arr\n",
    "\n",
    "    def one_hot_encoder(n_gram_cnt):\n",
    "        arr = np.zeros((n_gram_cnt, len(vocab)), dtype=np.int8)\n",
    "        gram_id = -1\n",
    "        for verse in dataset:\n",
    "            words = list(filter(lambda str_: str_, verse.split(' ')))\n",
    "            grams = [words[i:i+n_gram] for i in range(len(words)-n_gram+1)]\n",
    "            for gram in grams:\n",
    "                gram_id += 1\n",
    "                index = vocab2id.get(gram[-1], vocab2id.get('<UNK>'))\n",
    "                arr[gram_id][index] = 1\n",
    "        return arr\n",
    "\n",
    "    n_gram_cnt = count_ngram()\n",
    "    X = integer_encoder(n_gram_cnt)\n",
    "    y = one_hot_encoder(n_gram_cnt)\n",
    "    return X, y"
   ]
  },
  {
   "cell_type": "code",
   "execution_count": 7,
   "metadata": {},
   "outputs": [],
   "source": [
    "X_train, y_train = dataset_encoder(train_30_000, NGRAMS)\n",
    "X_val, y_val = dataset_encoder(val, NGRAMS)\n",
    "X_test, y_test = dataset_encoder(test, NGRAMS)"
   ]
  },
  {
   "cell_type": "markdown",
   "metadata": {},
   "source": [
    "Specifying the model"
   ]
  },
  {
   "cell_type": "code",
   "execution_count": 8,
   "metadata": {},
   "outputs": [],
   "source": [
    "model = tf.keras.Sequential([\n",
    "\ttf.keras.layers.Input((NGRAMS-1,), name=\"input\"),\n",
    "\ttf.keras.layers.Embedding(len(vocab), 128, name=\"embedding\"),\n",
    "\ttf.keras.layers.Flatten(name=\"Flatten\"),\n",
    "\ttf.keras.layers.Dense(256, activation='relu'),\n",
    "\ttf.keras.layers.Dense(len(vocab), activation='softmax'),\n",
    "])\n",
    "\n",
    "model.compile(optimizer='adam',\n",
    "              loss='categorical_crossentropy',\n",
    "              metrics=['accuracy'])"
   ]
  },
  {
   "cell_type": "code",
   "execution_count": 9,
   "metadata": {},
   "outputs": [
    {
     "name": "stdout",
     "output_type": "stream",
     "text": [
      "Epoch 1/10\n",
      "119/119 [==============================] - 35s 297ms/step - loss: 8.3645 - accuracy: 0.0446 - val_loss: 7.6852 - val_accuracy: 0.0501\n",
      "Epoch 2/10\n",
      "119/119 [==============================] - 35s 292ms/step - loss: 7.4614 - accuracy: 0.0515 - val_loss: 7.6905 - val_accuracy: 0.0501\n",
      "Epoch 3/10\n",
      "119/119 [==============================] - 35s 296ms/step - loss: 7.3398 - accuracy: 0.0517 - val_loss: 7.7055 - val_accuracy: 0.0520\n",
      "Epoch 4/10\n",
      "119/119 [==============================] - 35s 291ms/step - loss: 7.1984 - accuracy: 0.0553 - val_loss: 7.6866 - val_accuracy: 0.0570\n",
      "Epoch 5/10\n",
      "119/119 [==============================] - 34s 286ms/step - loss: 7.0322 - accuracy: 0.0633 - val_loss: 7.6953 - val_accuracy: 0.0633\n",
      "Epoch 6/10\n",
      "119/119 [==============================] - 34s 284ms/step - loss: 6.8495 - accuracy: 0.0727 - val_loss: 7.7339 - val_accuracy: 0.0666\n",
      "Epoch 7/10\n",
      "119/119 [==============================] - 34s 288ms/step - loss: 6.6490 - accuracy: 0.0837 - val_loss: 7.7990 - val_accuracy: 0.0686\n",
      "Epoch 8/10\n",
      "119/119 [==============================] - 34s 289ms/step - loss: 6.4275 - accuracy: 0.0947 - val_loss: 7.9124 - val_accuracy: 0.0691\n",
      "Epoch 9/10\n",
      "119/119 [==============================] - 34s 290ms/step - loss: 6.1795 - accuracy: 0.1075 - val_loss: 8.0832 - val_accuracy: 0.0678\n",
      "Epoch 10/10\n",
      "119/119 [==============================] - 35s 293ms/step - loss: 5.9023 - accuracy: 0.1212 - val_loss: 8.3262 - val_accuracy: 0.0673\n"
     ]
    },
    {
     "data": {
      "text/plain": [
       "<keras.callbacks.History at 0x7f297c12e4f0>"
      ]
     },
     "execution_count": 9,
     "metadata": {},
     "output_type": "execute_result"
    }
   ],
   "source": [
    "model.fit(x=X_train, y=y_train, validation_data=(X_val, y_val), epochs=10, batch_size=1024)"
   ]
  },
  {
   "cell_type": "code",
   "execution_count": 10,
   "metadata": {},
   "outputs": [
    {
     "data": {
      "image/png": "[encoded data removed]",
      "text/plain": [
       "<IPython.core.display.Image object>"
      ]
     },
     "execution_count": 10,
     "metadata": {},
     "output_type": "execute_result"
    }
   ],
   "source": [
    "tf.keras.utils.plot_model(model, show_shapes=True, rankdir=\"LR\")"
   ]
  },
  {
   "cell_type": "markdown",
   "metadata": {},
   "source": [
    "Perplexity in neural network"
   ]
  },
  {
   "cell_type": "code",
   "execution_count": 11,
   "metadata": {},
   "outputs": [
    {
     "name": "stdout",
     "output_type": "stream",
     "text": [
      "4 Neural network perplexity: 4129.806574588296\n"
     ]
    }
   ],
   "source": [
    "N = 0\n",
    "total_prob = 0\n",
    "model_output = model.predict(X_test)\n",
    "for i, y_ in enumerate(y_test):\n",
    "    idx = np.argmax(y_)\n",
    "    total_prob -= np.log(model_output[i][idx])\n",
    "    N += 1\n",
    "print(f'{NGRAMS} Neural network perplexity: {np.exp((1/N) * total_prob)}')"
   ]
  },
  {
   "cell_type": "code",
   "execution_count": 12,
   "metadata": {},
   "outputs": [],
   "source": [
    "def find_word_by_id(vocab2id, word_id):\n",
    "    for w in vocab2id:\n",
    "        if vocab2id[w] == word_id:\n",
    "            return w"
   ]
  },
  {
   "cell_type": "code",
   "execution_count": 13,
   "metadata": {},
   "outputs": [
    {
     "name": "stdout",
     "output_type": "stream",
     "text": [
      "این سخن حقست اگر نزد سخن گستر تو \n",
      "آنکه با یوسف صدیق چنین خواهد را \n",
      "هیچ دانی چکند صحبت او با نه \n",
      "سرمه دهی بصر بری سخت خوش است و \n",
      "آتش ابراهیم را و و \n",
      "من که اندر سر او جهان \n",
      "هر شیر شرزه را که به نیش بر دست \n",
      "هرکه از حق به تو و دست \n",
      "گفت این از و و آن \n",
      "کلاه لاله که لعل است در و و \n"
     ]
    }
   ],
   "source": [
    "for ins in test_inc:\n",
    "    missing_words, verse = ins.split('###')\n",
    "    missing_words = int(missing_words)\n",
    "    print(verse, end=' ')\n",
    "    words = verse.split(' ')\n",
    "    for i in range(missing_words):\n",
    "        grams = [vocab2id.get(words[-i], vocab2id['<UNK>']) for i in range(1, NGRAMS)]\n",
    "        predicted_word = find_word_by_id(vocab2id, np.argmax(model.predict([grams])))\n",
    "        print(predicted_word, end=' ')\n",
    "        words.append(predicted_word)\n",
    "    print()"
   ]
  }
 ],
 "metadata": {
  "interpreter": {
   "hash": "7190ae378dd7298a835d7d91d57b4572e1a91bb8f4b6d673c87ae831e3ab4f27"
  },
  "kernelspec": {
   "display_name": "Python 3 (ipykernel)",
   "language": "python",
   "name": "python3"
  },
  "language_info": {
   "codemirror_mode": {
    "name": "ipython",
    "version": 3
   },
   "file_extension": ".py",
   "mimetype": "text/x-python",
   "name": "python",
   "nbconvert_exporter": "python",
   "pygments_lexer": "ipython3",
   "version": "3.8.10"
  }
 },
 "nbformat": 4,
 "nbformat_minor": 2
}
