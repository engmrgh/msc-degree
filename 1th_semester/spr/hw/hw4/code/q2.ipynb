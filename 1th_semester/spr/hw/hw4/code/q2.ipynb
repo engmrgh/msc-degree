{
 "cells": [
  {
   "cell_type": "markdown",
   "metadata": {},
   "source": [
    "<div align=\"center\"><h3>HW4, Question 2</h3></div>\n",
    "<div align=\"center\"><h5>Mohammadreza Ghofrani, 400131076</h5></div>"
   ]
  },
  {
   "cell_type": "code",
   "execution_count": 1,
   "metadata": {},
   "outputs": [],
   "source": [
    "import scipy.io\n",
    "import numpy as np\n",
    "import pandas as pd\n",
    "from sklearn.metrics import accuracy_score"
   ]
  },
  {
   "cell_type": "markdown",
   "metadata": {},
   "source": [
    "# Configuration Parameters"
   ]
  },
  {
   "cell_type": "code",
   "execution_count": 2,
   "metadata": {},
   "outputs": [],
   "source": [
    "SAVE_FIGURE = False"
   ]
  },
  {
   "cell_type": "markdown",
   "metadata": {},
   "source": [
    "# Initialization"
   ]
  },
  {
   "cell_type": "code",
   "execution_count": 3,
   "metadata": {},
   "outputs": [],
   "source": [
    "x_train = pd.read_csv('data/P2/breast_data.csv', header=None).to_numpy()\n",
    "x_train = x_train.T\n",
    "y_train = pd.read_csv('data/P2/breast_labels.csv', header=None).to_numpy()[:,0]"
   ]
  },
  {
   "cell_type": "markdown",
   "metadata": {},
   "source": [
    "# Part A"
   ]
  },
  {
   "cell_type": "code",
   "execution_count": 4,
   "metadata": {},
   "outputs": [],
   "source": [
    "def kmeanscluster(x, k, mu, tol, maxIter):\n",
    "    number_of_features = x.shape[0]\n",
    "    number_of_data = x.shape[1]\n",
    "    current_centers = mu\n",
    "    distance_between_new_and_previous_centers = float(\"inf\")\n",
    "    iteration = 0\n",
    "    while distance_between_new_and_previous_centers > tol \\\n",
    "        and iteration < maxIter:\n",
    "        iteration += 1\n",
    "        previous_centers = current_centers\n",
    "        distances = np.zeros((k, number_of_data))\n",
    "        for i, center in enumerate(mu.T):\n",
    "            distances[i, :] = \\\n",
    "                np.sqrt(np.sum((x - center[np.newaxis].T)**2,\n",
    "                               axis=0))\n",
    "        y_predicted = np.argmin(distances, axis=0)\n",
    "        mu = np.zeros((number_of_features,k))\n",
    "        for i in range(k):\n",
    "            mu[:, i] = np.mean(x[:, y_predicted==i], axis=1)\n",
    "        current_centers = mu\n",
    "        distance_between_new_and_previous_centers = \\\n",
    "            np.sqrt(np.sum((current_centers - previous_centers)**2))\n",
    "    return y_predicted"
   ]
  },
  {
   "cell_type": "markdown",
   "metadata": {},
   "source": [
    "Using the defined function to cluster the dataset"
   ]
  },
  {
   "cell_type": "code",
   "execution_count": 20,
   "metadata": {},
   "outputs": [
    {
     "name": "stdout",
     "output_type": "stream",
     "text": [
      "Accuracy of the clustering was 0.8541\n"
     ]
    }
   ],
   "source": [
    "C = kmeanscluster(x=x_train, k=2, \n",
    "                  mu=x_train[:, np.random.choice(range(x_train.shape[1]), 2, replace=False)],\n",
    "                  tol=0.001, maxIter=10000)\n",
    "accuracy = max(accuracy_score(y_train, C), accuracy_score(y_train, 1-C))\n",
    "print(f\"Accuracy of the clustering was {accuracy:.4f}\")"
   ]
  },
  {
   "cell_type": "markdown",
   "metadata": {},
   "source": [
    "# Part B"
   ]
  },
  {
   "cell_type": "code",
   "execution_count": 21,
   "metadata": {},
   "outputs": [
    {
     "name": "stdout",
     "output_type": "stream",
     "text": [
      "Round #1: Accuracy of the clustering was 0.8541\n",
      "Round #2: Accuracy of the clustering was 0.8541\n",
      "Round #3: Accuracy of the clustering was 0.8541\n",
      "Round #4: Accuracy of the clustering was 0.8541\n",
      "Round #5: Accuracy of the clustering was 0.8541\n"
     ]
    }
   ],
   "source": [
    "for i in range(5):\n",
    "    C = kmeanscluster(x=x_train, k=2, \n",
    "                  mu=x_train[:, np.random.choice(range(x_train.shape[1]), 2, replace=False)],\n",
    "                  tol=0.001, maxIter=10000)\n",
    "    accuracy = max(accuracy_score(y_train, C), accuracy_score(y_train, 1-C))\n",
    "    print(f'Round #{i+1}: Accuracy of the clustering was {accuracy:.4f}')"
   ]
  },
  {
   "cell_type": "markdown",
   "metadata": {},
   "source": [
    "# Part C"
   ]
  },
  {
   "cell_type": "code",
   "execution_count": 23,
   "metadata": {},
   "outputs": [],
   "source": [
    "init_mu = scipy.io.loadmat('data/P2/init_mu.mat')['mu_init']"
   ]
  },
  {
   "cell_type": "code",
   "execution_count": 24,
   "metadata": {},
   "outputs": [
    {
     "name": "stdout",
     "output_type": "stream",
     "text": [
      "Accuracy of the clustering was 0.8541\n"
     ]
    }
   ],
   "source": [
    "C = kmeanscluster(x=x_train, k=2, mu=init_mu,\n",
    "                  tol=0.001, maxIter=10000)\n",
    "accuracy = max(accuracy_score(y_train, C), accuracy_score(y_train, 1-C))\n",
    "print(f\"Accuracy of the clustering was {accuracy:.4f}\")"
   ]
  },
  {
   "cell_type": "markdown",
   "metadata": {},
   "source": [
    "# Part D"
   ]
  },
  {
   "cell_type": "code",
   "execution_count": 25,
   "metadata": {},
   "outputs": [],
   "source": [
    "class0_x_train = x_train[:, y_train == 0]\n",
    "class1_x_train = x_train[:, y_train == 1]\n",
    "chosen_class0_mu_index = \\\n",
    "    np.random.choice(range(class0_x_train.shape[1]), 1, replace=False)\n",
    "chosen_class1_mu_index = \\\n",
    "    np.random.choice(range(class1_x_train.shape[1]), 1, replace=False)\n",
    "init_mu = \\np.concatenate((class0_x_train[:, chosen_class0_mu_index],\n",
    "                         class1_x_train[:, chosen_class1_mu_index]), axis=1)"
   ]
  },
  {
   "cell_type": "code",
   "execution_count": 26,
   "metadata": {},
   "outputs": [
    {
     "name": "stdout",
     "output_type": "stream",
     "text": [
      "Accuracy of the clustering was 0.8541\n"
     ]
    }
   ],
   "source": [
    "C = kmeanscluster(x=x_train, k=2, mu=init_mu,\n",
    "                  tol=0.001, maxIter=10000)\n",
    "accuracy = max(accuracy_score(y_train, C), accuracy_score(y_train, 1-C))\n",
    "print(f\"Accuracy of the clustering was {accuracy:.4f}\")"
   ]
  }
 ],
 "metadata": {
  "interpreter": {
   "hash": "65732f0d69e70372573999ff81d130ac629d79cab35c7233995f997b36f50166"
  },
  "kernelspec": {
   "display_name": "Python 3.10.2 64-bit ('venv': venv)",
   "language": "python",
   "name": "python3"
  },
  "language_info": {
   "codemirror_mode": {
    "name": "ipython",
    "version": 3
   },
   "file_extension": ".py",
   "mimetype": "text/x-python",
   "name": "python",
   "nbconvert_exporter": "python",
   "pygments_lexer": "ipython3",
   "version": "3.10.2"
  },
  "orig_nbformat": 4
 },
 "nbformat": 4,
 "nbformat_minor": 2
}
