{
 "cells": [
  {
   "cell_type": "markdown",
   "metadata": {},
   "source": [
    "<div align=\"center\"><h3>HW3, Question 5</h3></div>\n",
    "<div align=\"center\"><h5>Mohammadreza Ghofrani, 400131076</h5></div>"
   ]
  },
  {
   "cell_type": "code",
   "execution_count": 1,
   "metadata": {},
   "outputs": [],
   "source": [
    "import cv2\n",
    "import scipy\n",
    "import sklearn\n",
    "import numpy as np\n",
    "import pandas as pd\n",
    "from sklearn import *\n",
    "import matplotlib.pyplot as plt"
   ]
  },
  {
   "cell_type": "markdown",
   "metadata": {},
   "source": [
    "# Initializing"
   ]
  },
  {
   "cell_type": "code",
   "execution_count": 2,
   "metadata": {},
   "outputs": [],
   "source": [
    "digits = pd.read_csv('data/P5/digits.csv')\n",
    "digits = digits.to_numpy()"
   ]
  },
  {
   "cell_type": "markdown",
   "metadata": {},
   "source": [
    "# Part A"
   ]
  },
  {
   "cell_type": "markdown",
   "metadata": {},
   "source": [
    "Performing PCA on dataset"
   ]
  },
  {
   "cell_type": "code",
   "execution_count": 3,
   "metadata": {},
   "outputs": [],
   "source": [
    "pca = sklearn.decomposition.PCA(n_components=15, whiten=False)\n",
    "data = pca.fit_transform(digits.data)"
   ]
  },
  {
   "cell_type": "code",
   "execution_count": 4,
   "metadata": {},
   "outputs": [
    {
     "name": "stdout",
     "output_type": "stream",
     "text": [
      "eigenvalue: 179.00693009791823\n",
      "Corresponding eigenvector:\n",
      " [ 0.    -0.017 -0.223 -0.136 -0.033 -0.097 -0.008  0.002 -0.    -0.119\n",
      " -0.244  0.149 -0.047 -0.218 -0.015  0.004 -0.    -0.08   0.083  0.216\n",
      " -0.172 -0.164  0.029  0.004  0.     0.064  0.254 -0.036 -0.209 -0.043\n",
      "  0.051  0.    -0.     0.16   0.369  0.164  0.085  0.037  0.022 -0.\n",
      "  0.001  0.107  0.303  0.248  0.21   0.012 -0.037  0.002  0.001 -0.008\n",
      " -0.056  0.093  0.107 -0.138 -0.063  0.001  0.    -0.014 -0.236 -0.141\n",
      " -0.009 -0.089 -0.037 -0.011]\n",
      "\n",
      "eigenvalue: 163.71774688145402\n",
      "Corresponding eigenvector:\n",
      " [-0.    -0.01  -0.049 -0.009 -0.054 -0.118 -0.062 -0.008 -0.    -0.021\n",
      "  0.06  -0.005 -0.092 -0.052 -0.059 -0.003 -0.     0.036  0.198 -0.049\n",
      " -0.226 -0.005  0.027 -0.    -0.     0.077  0.188 -0.138 -0.261  0.05\n",
      "  0.065  0.    -0.     0.088  0.087 -0.271 -0.285  0.166  0.128 -0.\n",
      "  0.     0.051  0.13  -0.269 -0.302  0.24   0.218  0.001  0.     0.011\n",
      "  0.153 -0.12  -0.097  0.286  0.149  0.001 -0.    -0.01  -0.07   0.017\n",
      "  0.194  0.177  0.019 -0.007]\n",
      "\n",
      "eigenvalue: 141.788439091159\n",
      "Corresponding eigenvector:\n",
      " [-0.     0.018  0.126  0.132 -0.134 -0.265 -0.117 -0.017  0.     0.079\n",
      "  0.087  0.066 -0.001 -0.28  -0.16  -0.015  0.     0.042  0.005  0.074\n",
      "  0.097 -0.308 -0.148 -0.006  0.    -0.044 -0.073  0.071 -0.008 -0.353\n",
      " -0.148 -0.     0.    -0.055 -0.034  0.141  0.015 -0.258 -0.094  0.\n",
      " -0.    -0.024  0.122  0.171 -0.086 -0.145  0.07   0.003 -0.     0.019\n",
      "  0.235  0.17  -0.054  0.085  0.223  0.022 -0.     0.018  0.123  0.098\n",
      "  0.138  0.232  0.167  0.035]\n",
      "\n",
      "eigenvalue: 101.10037519808456\n",
      "Corresponding eigenvector:\n",
      " [ 0.     0.02   0.177  0.196  0.032  0.095  0.072  0.009  0.     0.075\n",
      "  0.308  0.037 -0.154  0.027  0.045  0.002  0.     0.124  0.22  -0.276\n",
      " -0.278 -0.057  0.022 -0.002  0.     0.098  0.116 -0.192 -0.216 -0.082\n",
      "  0.055 -0.    -0.     0.052  0.098  0.01  -0.132 -0.161  0.01  -0.\n",
      " -0.     0.006  0.052  0.059 -0.026 -0.194 -0.084 -0.002 -0.     0.011\n",
      "  0.107  0.132 -0.032 -0.226 -0.14  -0.016 -0.     0.021  0.203  0.208\n",
      " -0.225 -0.308 -0.099 -0.024]\n",
      "\n",
      "eigenvalue: 69.51316542035872\n",
      "Corresponding eigenvector:\n",
      " [-0.     0.014  0.083 -0.066 -0.015  0.167  0.095  0.004  0.     0.052\n",
      "  0.044 -0.005 -0.134 -0.215  0.035  0.009  0.     0.099  0.219  0.146\n",
      " -0.132 -0.362 -0.018  0.006  0.     0.113  0.315  0.308  0.028 -0.169\n",
      " -0.098  0.    -0.    -0.039 -0.075  0.005  0.073  0.017 -0.106 -0.\n",
      " -0.    -0.099 -0.399 -0.23   0.103  0.12  -0.041 -0.001 -0.001 -0.025\n",
      " -0.261 -0.196  0.124  0.046 -0.018  0.007 -0.     0.012  0.071  0.022\n",
      "  0.051 -0.036 -0.016  0.022]\n",
      "\n",
      "eigenvalue: 59.10852421034076\n",
      "Corresponding eigenvector:\n",
      " [-0.    -0.01  -0.081  0.013 -0.015  0.031  0.053  0.014 -0.    -0.012\n",
      " -0.05  -0.094 -0.285 -0.137  0.042  0.008 -0.    -0.033 -0.138 -0.302\n",
      " -0.254 -0.116 -0.004  0.004 -0.    -0.038 -0.105 -0.163  0.028  0.051\n",
      " -0.013  0.     0.    -0.034  0.034  0.193  0.285  0.255  0.053  0.\n",
      " -0.001 -0.064 -0.134  0.051 -0.101 -0.098  0.182  0.006 -0.001 -0.057\n",
      " -0.238 -0.024 -0.388 -0.177  0.266  0.018 -0.    -0.012 -0.071 -0.021\n",
      " -0.107  0.164  0.144  0.015]\n",
      "\n",
      "eigenvalue: 51.88453884418883\n",
      "Corresponding eigenvector:\n",
      " [-0.    -0.002 -0.037 -0.022 -0.113 -0.12   0.002  0.011 -0.    -0.001\n",
      " -0.044  0.104  0.003 -0.119  0.015  0.01   0.     0.036  0.021 -0.022\n",
      " -0.072 -0.019  0.045  0.002 -0.     0.034 -0.177 -0.471 -0.206  0.018\n",
      " -0.003 -0.     0.     0.013 -0.297 -0.386  0.032 -0.029 -0.035  0.\n",
      "  0.001  0.012 -0.212  0.027  0.331 -0.047 -0.09  -0.002  0.    -0.022\n",
      " -0.161  0.146  0.321 -0.007  0.081  0.038  0.    -0.001 -0.07   0.036\n",
      "  0.043  0.072  0.218  0.109]\n",
      "\n",
      "eigenvalue: 44.01510505706923\n",
      "Corresponding eigenvector:\n",
      " [-0.     0.023  0.207  0.1   -0.123 -0.316 -0.092 -0.005 -0.001  0.05\n",
      " -0.037 -0.076  0.077 -0.37  -0.143  0.002 -0.    -0.078 -0.261  0.008\n",
      "  0.195 -0.223 -0.021  0.006 -0.    -0.015 -0.11  -0.032  0.056  0.119\n",
      "  0.139  0.    -0.     0.136  0.083 -0.117 -0.082  0.314  0.173 -0.\n",
      "  0.002  0.097 -0.057 -0.037 -0.075  0.06   0.043 -0.001  0.001  0.026\n",
      " -0.101 -0.131  0.062 -0.085 -0.109 -0.01  -0.     0.02   0.226  0.039\n",
      " -0.123 -0.312 -0.146 -0.016]\n",
      "\n",
      "eigenvalue: 40.31098665347859\n",
      "Corresponding eigenvector:\n",
      " [-0.    -0.017 -0.099 -0.04  -0.188 -0.207 -0.031  0.006 -0.    -0.024\n",
      " -0.006  0.037  0.037 -0.091 -0.051  0.004  0.     0.094  0.249  0.145\n",
      "  0.137  0.141  0.024  0.002  0.     0.072  0.248  0.164  0.146  0.291\n",
      "  0.118  0.    -0.    -0.035 -0.081 -0.124 -0.291 -0.1    0.086 -0.\n",
      " -0.001 -0.084 -0.185  0.054 -0.134 -0.415  0.022  0.004 -0.001 -0.038\n",
      " -0.091  0.079 -0.186 -0.293  0.06   0.015  0.    -0.017 -0.127 -0.082\n",
      " -0.09   0.058  0.118  0.028]\n",
      "\n",
      "eigenvalue: 37.01173973174292\n",
      "Corresponding eigenvector:\n",
      " [-0.     0.025  0.005 -0.221  0.03   0.219  0.117  0.018 -0.     0.005\n",
      " -0.263 -0.165 -0.042 -0.018  0.102  0.016  0.    -0.074 -0.355  0.071\n",
      " -0.062 -0.21   0.052  0.003 -0.    -0.072 -0.148  0.024 -0.284 -0.212\n",
      "  0.064  0.    -0.    -0.026 -0.025 -0.166 -0.365 -0.264 -0.036 -0.\n",
      "  0.001  0.042 -0.    -0.091 -0.125 -0.209 -0.058 -0.001  0.002  0.045\n",
      "  0.037 -0.173 -0.125 -0.131 -0.059 -0.001  0.     0.025  0.029 -0.226\n",
      " -0.061  0.035  0.035 -0.003]\n",
      "\n",
      "eigenvalue: 28.51867761180831\n",
      "Corresponding eigenvector:\n",
      " [-0.     0.002  0.132  0.014 -0.336 -0.246 -0.029  0.007 -0.001 -0.072\n",
      " -0.013 -0.123 -0.398 -0.084  0.105  0.013 -0.001 -0.159 -0.036  0.015\n",
      " -0.201  0.233  0.202  0.012 -0.    -0.104 -0.048  0.124  0.04   0.207\n",
      "  0.103  0.     0.    -0.012  0.019  0.131  0.088 -0.179 -0.144  0.\n",
      "  0.     0.016  0.091 -0.16   0.191 -0.036 -0.211 -0.002 -0.     0.046\n",
      "  0.178 -0.297  0.053  0.023 -0.07   0.019 -0.     0.007  0.096  0.076\n",
      "  0.098  0.052  0.085  0.065]\n",
      "\n",
      "eigenvalue: 27.321086872094238\n",
      "Corresponding eigenvector:\n",
      " [-0.    -0.007  0.003  0.175 -0.026  0.086  0.2    0.049 -0.002 -0.148\n",
      " -0.028  0.311 -0.021 -0.03   0.221  0.034 -0.001 -0.252 -0.035  0.321\n",
      " -0.23  -0.072  0.131  0.007 -0.    -0.229 -0.192  0.25  -0.081  0.118\n",
      "  0.061  0.     0.    -0.165 -0.124 -0.    -0.102  0.175  0.069  0.\n",
      " -0.001 -0.09  -0.041 -0.01  -0.117  0.047  0.126  0.009  0.001  0.008\n",
      "  0.098  0.34   0.058  0.014  0.091  0.024  0.    -0.001  0.013  0.216\n",
      " -0.08  -0.089 -0.014  0.013]\n",
      "\n",
      "eigenvalue: 21.899396870335895\n",
      "Corresponding eigenvector:\n",
      " [ 0.    -0.027 -0.116 -0.063 -0.13   0.07   0.081  0.007 -0.001 -0.127\n",
      "  0.002 -0.036 -0.299 -0.026  0.05  -0.006 -0.001 -0.115  0.211  0.068\n",
      "  0.118 -0.083 -0.123 -0.012 -0.    -0.031 -0.04  -0.052  0.33  -0.208\n",
      " -0.253 -0.     0.     0.043 -0.251 -0.386  0.099  0.117 -0.051  0.\n",
      "  0.001  0.177  0.232 -0.014 -0.001  0.098  0.01  -0.002  0.001  0.069\n",
      "  0.213 -0.036 -0.175 -0.233 -0.073 -0.019  0.    -0.016 -0.105 -0.\n",
      " -0.09  -0.136 -0.085 -0.033]\n",
      "\n",
      "eigenvalue: 21.3232870719162\n",
      "Corresponding eigenvector:\n",
      " [-0.     0.053  0.281 -0.19  -0.164  0.238  0.186  0.017 -0.     0.133\n",
      "  0.057 -0.104  0.047 -0.042  0.122  0.005 -0.001  0.078  0.1    0.051\n",
      "  0.064 -0.05   0.021 -0.004 -0.    -0.019  0.127 -0.021  0.009  0.248\n",
      "  0.01  -0.     0.     0.009  0.059 -0.046  0.007  0.208 -0.023  0.\n",
      "  0.002  0.08   0.075  0.266  0.091  0.128 -0.053 -0.001  0.001  0.07\n",
      "  0.204  0.108  0.025  0.1    0.135  0.007  0.     0.057  0.321 -0.32\n",
      " -0.261  0.21   0.202  0.016]\n",
      "\n",
      "eigenvalue: 17.633601946305042\n",
      "Corresponding eigenvector:\n",
      " [ 0.    -0.01  -0.104 -0.173 -0.414 -0.14   0.171  0.048 -0.001 -0.036\n",
      "  0.108  0.166  0.228 -0.099  0.216  0.04   0.     0.043  0.165 -0.085\n",
      "  0.106 -0.041  0.162  0.016  0.    -0.016 -0.13  -0.21  -0.081 -0.125\n",
      "  0.027  0.    -0.    -0.103 -0.123  0.24   0.066 -0.071 -0.089 -0.\n",
      " -0.003 -0.111 -0.058  0.019 -0.258  0.105 -0.112 -0.008 -0.001 -0.033\n",
      " -0.051 -0.097 -0.142  0.224 -0.136 -0.034  0.    -0.002 -0.123 -0.168\n",
      " -0.139 -0.119 -0.191 -0.065]\n",
      "\n"
     ]
    }
   ],
   "source": [
    "with np.printoptions(precision=3, suppress=True):\n",
    "    for eigenvalue, eigenvector in zip(pca.explained_variance_, pca.components_):\n",
    "        print(\"eigenvalue:\", eigenvalue)\n",
    "        print(\"Corresponding eigenvector:\\n\", eigenvector)\n",
    "        print()"
   ]
  },
  {
   "cell_type": "markdown",
   "metadata": {},
   "source": [
    "# Part B"
   ]
  },
  {
   "cell_type": "markdown",
   "metadata": {},
   "source": [
    "Estimating bandwidth using `GridSearchCV` Function."
   ]
  },
  {
   "cell_type": "code",
   "execution_count": 5,
   "metadata": {},
   "outputs": [
    {
     "name": "stderr",
     "output_type": "stream",
     "text": [
      "/home/engmrgh/university/1th_semester/venv/lib/python3.8/site-packages/sklearn/model_selection/_search.py:969: UserWarning: One or more of the test scores are non-finite: [              nan -3466709.1490275   -745844.84825482  -291823.96653975\n",
      "  -149211.72787683   -91200.78716091   -61022.19758197   -46490.39223013\n",
      "   -38802.99088539   -33682.43682005   -29783.65314202   -26966.66043344\n",
      "   -25289.86758456   -23708.77005526   -22676.71962772   -21611.11901415\n",
      "   -20636.01485561   -19998.75508      -19537.57800202   -19029.12551512\n",
      "   -18616.43092563   -18304.23390548   -17993.88260551   -17773.37181368\n",
      "   -17518.47933103   -17361.99198684   -17209.25570758   -17068.68687035\n",
      "   -16972.79495071   -16895.78572774   -16823.97809412   -16776.75569774\n",
      "   -16742.64342795   -16717.89733395   -16705.53253879   -16700.93703288\n",
      "   -16703.57144773   -16713.05866609   -16728.09710542   -16748.03544209\n",
      "   -16772.1894176    -16799.98389489   -16830.91139349   -16864.53529027\n",
      "   -16900.47481801   -16938.39863183   -16978.01768304   -17019.07959096\n",
      "   -17061.36365968   -17104.67670704   -17148.84945567   -17193.73345523\n",
      "   -17239.19841944   -17285.12993545   -17331.42748222   -17378.0027141\n",
      "   -17424.77797089   -17471.68498192   -17518.66373665   -17565.66149828\n",
      "   -17612.63194069   -17659.53439207   -17706.33317068   -17752.99700098\n",
      "   -17799.49849958   -17845.81372238   -17891.92176537   -17937.8044124\n",
      "   -17983.44582454   -18028.83226593   -18073.95186186   -18118.79438527\n",
      "   -18163.35106834   -18207.61443615   -18251.57815992   -18295.23692737\n",
      "   -18338.58632831   -18381.62275365   -18424.34330614   -18466.74572174\n",
      "   -18508.82830003   -18550.58984293   -18592.0296006    -18633.14722367\n",
      "   -18673.94272118   -18714.41642346   -18754.56894944   -18794.4011778\n",
      "   -18833.9142216    -18873.10940588   -18911.98824794   -18950.55243999\n",
      "   -18988.80383379   -19026.74442709   -19064.37635173   -19101.70186298\n",
      "   -19138.72333016   -19175.44322823   -19211.86413033   -19247.98870096]\n",
      "  warnings.warn(\n"
     ]
    },
    {
     "data": {
      "text/plain": [
       "GridSearchCV(estimator=KernelDensity(),\n",
       "             param_grid={'bandwidth': array([ 0.        ,  0.1010101 ,  0.2020202 ,  0.3030303 ,  0.4040404 ,\n",
       "        0.50505051,  0.60606061,  0.70707071,  0.80808081,  0.90909091,\n",
       "        1.01010101,  1.11111111,  1.21212121,  1.31313131,  1.41414141,\n",
       "        1.51515152,  1.61616162,  1.71717172,  1.81818182,  1.91919192,\n",
       "        2.02020202,  2.12121212,  2.22222222,  2.32323232,  2.42424242,\n",
       "        2.52525253,  2.6262...\n",
       "        6.56565657,  6.66666667,  6.76767677,  6.86868687,  6.96969697,\n",
       "        7.07070707,  7.17171717,  7.27272727,  7.37373737,  7.47474747,\n",
       "        7.57575758,  7.67676768,  7.77777778,  7.87878788,  7.97979798,\n",
       "        8.08080808,  8.18181818,  8.28282828,  8.38383838,  8.48484848,\n",
       "        8.58585859,  8.68686869,  8.78787879,  8.88888889,  8.98989899,\n",
       "        9.09090909,  9.19191919,  9.29292929,  9.39393939,  9.49494949,\n",
       "        9.5959596 ,  9.6969697 ,  9.7979798 ,  9.8989899 , 10.        ])})"
      ]
     },
     "execution_count": 5,
     "metadata": {},
     "output_type": "execute_result"
    }
   ],
   "source": [
    "params = {\"bandwidth\": np.linspace(0, 10, 100)}\n",
    "grid = sklearn.model_selection.GridSearchCV(sklearn.neighbors.KernelDensity(), params)\n",
    "grid.fit(data)"
   ]
  },
  {
   "cell_type": "markdown",
   "metadata": {},
   "source": [
    "# Part C"
   ]
  },
  {
   "cell_type": "markdown",
   "metadata": {},
   "source": [
    "Creating 20 new data from estimated density."
   ]
  },
  {
   "cell_type": "code",
   "execution_count": 6,
   "metadata": {},
   "outputs": [],
   "source": [
    "kde = grid.best_estimator_\n",
    "new_data = kde.sample(20)\n",
    "new_data = pca.inverse_transform(new_data)"
   ]
  },
  {
   "cell_type": "markdown",
   "metadata": {},
   "source": [
    "Ploting the created data"
   ]
  },
  {
   "cell_type": "code",
   "execution_count": 7,
   "metadata": {},
   "outputs": [
    {
     "name": "stderr",
     "output_type": "stream",
     "text": [
      "/tmp/ipykernel_2383/2402170599.py:5: UserWarning: Matplotlib is currently using module://matplotlib_inline.backend_inline, which is a non-GUI backend, so cannot show the figure.\n",
      "  fig.show()\n"
     ]
    },
    {
     "data": {
      "image/png": "[encoded data removed]",
      "text/plain": [
       "<Figure size 432x288 with 20 Axes>"
      ]
     },
     "metadata": {},
     "output_type": "display_data"
    }
   ],
   "source": [
    "fig, ax = plt.subplots(4, 5, subplot_kw=dict(xticks=[], yticks=[]))\n",
    "for i, sample in enumerate(new_data):\n",
    "    im = ax[i//5, i%5].imshow(sample.reshape(8,8), cmap=plt.cm.binary, interpolation=\"nearest\")\n",
    "fig.suptitle('Digits created using PCA and Kernel Density Estimation')\n",
    "fig.show()"
   ]
  },
  {
   "cell_type": "markdown",
   "metadata": {},
   "source": [
    "# Part D"
   ]
  },
  {
   "cell_type": "markdown",
   "metadata": {},
   "source": [
    "Estimating the best value for bandwidth parameter in range (-1, 1)."
   ]
  },
  {
   "cell_type": "code",
   "execution_count": 8,
   "metadata": {},
   "outputs": [
    {
     "name": "stderr",
     "output_type": "stream",
     "text": [
      "/home/engmrgh/university/1th_semester/venv/lib/python3.8/site-packages/sklearn/model_selection/_search.py:969: UserWarning: One or more of the test scores are non-finite: [              nan -8252255.71740607 -1524711.35911569  -597005.3921078\n",
      "  -285816.39510017  -175571.07093779  -145150.62053793  -100382.16699822\n",
      "   -90433.26430773   -72862.82107603   -63718.15783429   -59995.90105993\n",
      "   -58073.00804985   -55167.21468534   -53379.55778919   -53083.82113581\n",
      "   -52943.09091144   -52507.7524319    -53063.38088206   -52695.41793806\n",
      "   -53151.92748086   -53477.5669274    -53320.86589982   -53828.63673217\n",
      "   -54324.75924925   -54332.82360895   -54746.38399468   -55048.58382259\n",
      "   -55302.30043803   -55731.77318926   -56077.57499307   -56390.18538635\n",
      "   -56764.5136927    -57134.19713115   -57502.74043028   -57865.26392271\n",
      "   -58223.47364092   -58597.58244876   -58965.53591111   -59330.77072349\n",
      "   -59701.66667958   -60072.86658497   -60439.31143238   -60806.98808518\n",
      "   -61171.48287149   -61533.89921766   -61894.19971369   -62251.63489068\n",
      "   -62606.72670513   -62958.70975482   -63307.56647609   -63653.18677514\n",
      "   -63995.46381726   -64334.31806656   -64669.68932298   -65001.53289538\n",
      "   -65329.82070795   -65654.53700726   -65975.67696532   -66293.24509828\n",
      "   -66607.25390924   -66917.72267708   -67224.67641745   -67528.14499668\n",
      "   -67828.16234291   -68124.76576804   -68417.99538124   -68707.89357581\n",
      "   -68994.50458622   -69277.87410201   -69558.04893403   -69835.07672458\n",
      "   -70109.00569634   -70379.88443571   -70647.7617054    -70912.68628329\n",
      "   -71174.70682384   -71433.87173949   -71690.22909942   -71943.82654363\n",
      "   -72194.71121042   -72442.92967554   -72688.52790177   -72931.55119741\n",
      "   -73172.04418276   -73410.05076364   -73645.61411086   -73878.77664513\n",
      "   -74109.58002659   -74338.06514836   -74564.27213365   -74788.24033584\n",
      "   -75010.00834121   -75229.61397393   -75447.09430288   -75662.48565027\n",
      "   -75875.82360156   -76087.14301662   -76296.47804194   -76503.86212375]\n",
      "  warnings.warn(\n"
     ]
    },
    {
     "data": {
      "text/plain": [
       "GridSearchCV(estimator=KernelDensity(),\n",
       "             param_grid={'bandwidth': array([ 0.        ,  0.1010101 ,  0.2020202 ,  0.3030303 ,  0.4040404 ,\n",
       "        0.50505051,  0.60606061,  0.70707071,  0.80808081,  0.90909091,\n",
       "        1.01010101,  1.11111111,  1.21212121,  1.31313131,  1.41414141,\n",
       "        1.51515152,  1.61616162,  1.71717172,  1.81818182,  1.91919192,\n",
       "        2.02020202,  2.12121212,  2.22222222,  2.32323232,  2.42424242,\n",
       "        2.52525253,  2.6262...\n",
       "        6.56565657,  6.66666667,  6.76767677,  6.86868687,  6.96969697,\n",
       "        7.07070707,  7.17171717,  7.27272727,  7.37373737,  7.47474747,\n",
       "        7.57575758,  7.67676768,  7.77777778,  7.87878788,  7.97979798,\n",
       "        8.08080808,  8.18181818,  8.28282828,  8.38383838,  8.48484848,\n",
       "        8.58585859,  8.68686869,  8.78787879,  8.88888889,  8.98989899,\n",
       "        9.09090909,  9.19191919,  9.29292929,  9.39393939,  9.49494949,\n",
       "        9.5959596 ,  9.6969697 ,  9.7979798 ,  9.8989899 , 10.        ])})"
      ]
     },
     "execution_count": 8,
     "metadata": {},
     "output_type": "execute_result"
    }
   ],
   "source": [
    "params = {\"bandwidth\": np.linspace(0, 10, 100)}\n",
    "grid = sklearn.model_selection.GridSearchCV(sklearn.neighbors.KernelDensity(), params)\n",
    "grid.fit(digits)"
   ]
  },
  {
   "cell_type": "markdown",
   "metadata": {},
   "source": [
    "Creating new data using estimated density."
   ]
  },
  {
   "cell_type": "code",
   "execution_count": 9,
   "metadata": {},
   "outputs": [],
   "source": [
    "kde = grid.best_estimator_\n",
    "new_data = kde.sample(20)"
   ]
  },
  {
   "cell_type": "markdown",
   "metadata": {},
   "source": [
    "Plotting the generated data."
   ]
  },
  {
   "cell_type": "code",
   "execution_count": 11,
   "metadata": {},
   "outputs": [
    {
     "name": "stderr",
     "output_type": "stream",
     "text": [
      "/tmp/ipykernel_2383/3970178266.py:5: UserWarning: Matplotlib is currently using module://matplotlib_inline.backend_inline, which is a non-GUI backend, so cannot show the figure.\n",
      "  fig.show()\n"
     ]
    },
    {
     "data": {
      "image/png": "[encoded data removed]",
      "text/plain": [
       "<Figure size 432x288 with 20 Axes>"
      ]
     },
     "metadata": {},
     "output_type": "display_data"
    }
   ],
   "source": [
    "fig, ax = plt.subplots(4, 5, subplot_kw=dict(xticks=[], yticks=[]))\n",
    "for i, sample in enumerate(new_data):\n",
    "    im = ax[i//5, i%5].imshow(sample.reshape(8,8), cmap=plt.cm.binary, interpolation=\"nearest\")\n",
    "fig.suptitle('Digits created using Kernel Density Estimation but without PCA')\n",
    "fig.show()"
   ]
  }
 ],
 "metadata": {
  "interpreter": {
   "hash": "81857156c6a6b578c04523987513777a38f8ded292ea0cf7d8c1fe93bdd0c4f4"
  },
  "kernelspec": {
   "display_name": "Python 3.8.10 64-bit ('venv': venv)",
   "language": "python",
   "name": "python3"
  },
  "language_info": {
   "codemirror_mode": {
    "name": "ipython",
    "version": 3
   },
   "file_extension": ".py",
   "mimetype": "text/x-python",
   "name": "python",
   "nbconvert_exporter": "python",
   "pygments_lexer": "ipython3",
   "version": "3.8.10"
  },
  "orig_nbformat": 4
 },
 "nbformat": 4,
 "nbformat_minor": 2
}
