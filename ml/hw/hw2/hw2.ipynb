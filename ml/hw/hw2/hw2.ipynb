{
 "cells": [
  {
   "cell_type": "code",
   "execution_count": 14,
   "metadata": {},
   "outputs": [],
   "source": [
    "import scipy\n",
    "import sklearn\n",
    "import numpy as np\n",
    "import pandas as pd\n",
    "import plotly.express as px\n",
    "import plotly.graph_objects as go\n",
    "from scipy.stats import multivariate_normal\n",
    "from sklearn.tree import DecisionTreeClassifier\n",
    "from sklearn.model_selection import train_test_split\n",
    "\n",
    "pd.options.plotting.backend = \"plotly\""
   ]
  },
  {
   "cell_type": "markdown",
   "metadata": {},
   "source": [
    "# Qeustion 1"
   ]
  },
  {
   "cell_type": "markdown",
   "metadata": {},
   "source": [
    "Loading dataset"
   ]
  },
  {
   "cell_type": "code",
   "execution_count": 2,
   "metadata": {},
   "outputs": [],
   "source": [
    "heart_df = pd.read_csv('data/heart.csv')\n",
    "train, test = train_test_split(heart_df, train_size=0.8, test_size=0.2)"
   ]
  },
  {
   "cell_type": "markdown",
   "metadata": {},
   "source": [
    "Define continuous and discrete features"
   ]
  },
  {
   "cell_type": "code",
   "execution_count": 3,
   "metadata": {},
   "outputs": [],
   "source": [
    "CONTINUOUS_FEATURES = ['age', 'trestbps', 'chol', 'thalach', 'oldpeak']\n",
    "DISCRETE_FEATURES = ['sex', 'cp', 'fbs', 'restecg', 'exang', 'slope', 'ca', 'thal']\n",
    "EPSILON = 0.001"
   ]
  },
  {
   "cell_type": "markdown",
   "metadata": {},
   "source": [
    "## Part A"
   ]
  },
  {
   "cell_type": "markdown",
   "metadata": {},
   "source": [
    "Defining naive bayes classifier"
   ]
  },
  {
   "cell_type": "code",
   "execution_count": 4,
   "metadata": {},
   "outputs": [],
   "source": [
    "class DependantVariableNaiveBayesClassifier:\n",
    "    def __init__(self, dataset, train, continuous_features=CONTINUOUS_FEATURES, discrete_features=DISCRETE_FEATURES):\n",
    "        self.continuous_features = continuous_features\n",
    "        self.discrete_features = discrete_features\n",
    "        # Ppos: Probability of positive class occurrence,\n",
    "        # Pneg: Probability of negative class occurrence\n",
    "        plus_count, neg_count = train['target'].value_counts()\n",
    "        self.Ppos = plus_count / len(train['target'])\n",
    "        self.Pneg = neg_count / len(train['target'])\n",
    "\n",
    "        # Conditional Probability for discrete features\n",
    "        self.P_disc = {'+': dict(), '-': dict()}\n",
    "        for feature in self.discrete_features:\n",
    "            self.P_disc['+'][feature] = dict()\n",
    "            self.P_disc['-'][feature] = dict()\n",
    "            for value in pd.unique(dataset[feature]):\n",
    "                self.P_disc['+'][feature][value] = \\\n",
    "                    train[(train['target'] == 1) & (train[feature] == value)][feature].count() / plus_count\n",
    "                self.P_disc['-'][feature][value] = \\\n",
    "                    train[(train['target'] == 0) & (train[feature] == value)][feature].count() / neg_count\n",
    "\n",
    "        # Conditional Probability for continuous features\n",
    "        self.P_cont = {\n",
    "            '+': multivariate_normal(\n",
    "                mean=train[self.continuous_features][(train['target'] == 1)].mean(),\n",
    "                cov=train[self.continuous_features][(train['target'] == 1)].cov()),\n",
    "            '-': multivariate_normal(\n",
    "                mean=train[self.continuous_features][(train['target'] == 0)].mean(),\n",
    "                cov=train[self.continuous_features][(train['target'] == 0)].cov())\n",
    "            }\n",
    "\n",
    "    def predict(self, sample):\n",
    "        # Initiazling probability based on prior probability\n",
    "        pos_probability = self.Ppos\n",
    "        neg_probability = self.Pneg\n",
    "\n",
    "        # Applying probability of continuous features\n",
    "        pos_probability = self.P_cont['+'].pdf(sample[self.continuous_features])\n",
    "        neg_probability = self.P_cont['-'].pdf(sample[self.continuous_features])\n",
    "\n",
    "        # Applying probability of discrete features\n",
    "        for (feature, value) in sample.items():\n",
    "            if feature in self.discrete_features:\n",
    "                pos_probability *= self.P_disc['+'][feature][value] * EPSILON\n",
    "                neg_probability *= self.P_disc['-'][feature][value] * EPSILON\n",
    "\n",
    "        return int(pos_probability > neg_probability)"
   ]
  },
  {
   "cell_type": "markdown",
   "metadata": {},
   "source": [
    "Learning the model"
   ]
  },
  {
   "cell_type": "code",
   "execution_count": 5,
   "metadata": {},
   "outputs": [],
   "source": [
    "dependant_nbc = DependantVariableNaiveBayesClassifier(heart_df, train)"
   ]
  },
  {
   "cell_type": "markdown",
   "metadata": {},
   "source": [
    "Testing trained model."
   ]
  },
  {
   "cell_type": "code",
   "execution_count": 6,
   "metadata": {},
   "outputs": [
    {
     "name": "stdout",
     "output_type": "stream",
     "text": [
      "Metrics based on Train Dataset\n"
     ]
    },
    {
     "data": {
      "text/html": [
       "<div>\n",
       "<style scoped>\n",
       "    .dataframe tbody tr th:only-of-type {\n",
       "        vertical-align: middle;\n",
       "    }\n",
       "\n",
       "    .dataframe tbody tr th {\n",
       "        vertical-align: top;\n",
       "    }\n",
       "\n",
       "    .dataframe thead th {\n",
       "        text-align: right;\n",
       "    }\n",
       "</style>\n",
       "<table border=\"1\" class=\"dataframe\">\n",
       "  <thead>\n",
       "    <tr style=\"text-align: right;\">\n",
       "      <th></th>\n",
       "      <th>Precision</th>\n",
       "      <th>Recall</th>\n",
       "      <th>F1</th>\n",
       "      <th>Accuracy</th>\n",
       "    </tr>\n",
       "  </thead>\n",
       "  <tbody>\n",
       "    <tr>\n",
       "      <th>0</th>\n",
       "      <td>0.855814</td>\n",
       "      <td>0.87619</td>\n",
       "      <td>0.865882</td>\n",
       "      <td>0.860976</td>\n",
       "    </tr>\n",
       "  </tbody>\n",
       "</table>\n",
       "</div>"
      ],
      "text/plain": [
       "   Precision   Recall        F1  Accuracy\n",
       "0   0.855814  0.87619  0.865882  0.860976"
      ]
     },
     "execution_count": 6,
     "metadata": {},
     "output_type": "execute_result"
    }
   ],
   "source": [
    "y_true = train['target']\n",
    "y_pred = list()\n",
    "for _, sample in train.iterrows():\n",
    "    y_pred.append(dependant_nbc.predict(sample))\n",
    "\n",
    "print(\"Metrics based on Train Dataset\")\n",
    "pd.DataFrame(\n",
    "    {\n",
    "        'Precision': [sklearn.metrics.precision_score(y_true, y_pred)],\n",
    "        'Recall': [sklearn.metrics.recall_score(y_true, y_pred)],\n",
    "        'F1': [sklearn.metrics.f1_score(y_true, y_pred)],\n",
    "        'Accuracy': [sklearn.metrics.accuracy_score(y_true, y_pred)]\n",
    "    }\n",
    ")"
   ]
  },
  {
   "cell_type": "code",
   "execution_count": 7,
   "metadata": {},
   "outputs": [
    {
     "name": "stdout",
     "output_type": "stream",
     "text": [
      "Metrics based on Test Dataset\n"
     ]
    },
    {
     "data": {
      "text/html": [
       "<div>\n",
       "<style scoped>\n",
       "    .dataframe tbody tr th:only-of-type {\n",
       "        vertical-align: middle;\n",
       "    }\n",
       "\n",
       "    .dataframe tbody tr th {\n",
       "        vertical-align: top;\n",
       "    }\n",
       "\n",
       "    .dataframe thead th {\n",
       "        text-align: right;\n",
       "    }\n",
       "</style>\n",
       "<table border=\"1\" class=\"dataframe\">\n",
       "  <thead>\n",
       "    <tr style=\"text-align: right;\">\n",
       "      <th></th>\n",
       "      <th>Precision</th>\n",
       "      <th>Recall</th>\n",
       "      <th>F1</th>\n",
       "      <th>Accuracy</th>\n",
       "    </tr>\n",
       "  </thead>\n",
       "  <tbody>\n",
       "    <tr>\n",
       "      <th>0</th>\n",
       "      <td>0.845455</td>\n",
       "      <td>0.869159</td>\n",
       "      <td>0.857143</td>\n",
       "      <td>0.84878</td>\n",
       "    </tr>\n",
       "  </tbody>\n",
       "</table>\n",
       "</div>"
      ],
      "text/plain": [
       "   Precision    Recall        F1  Accuracy\n",
       "0   0.845455  0.869159  0.857143   0.84878"
      ]
     },
     "execution_count": 7,
     "metadata": {},
     "output_type": "execute_result"
    }
   ],
   "source": [
    "y_true = test['target']\n",
    "y_pred = list()\n",
    "for _, sample in test.iterrows():\n",
    "    y_pred.append(dependant_nbc.predict(sample))\n",
    "\n",
    "print(\"Metrics based on Test Dataset\")\n",
    "pd.DataFrame(\n",
    "    {\n",
    "        'Precision': [sklearn.metrics.precision_score(y_true, y_pred)],\n",
    "        'Recall': [sklearn.metrics.recall_score(y_true, y_pred)],\n",
    "        'F1': [sklearn.metrics.f1_score(y_true, y_pred)],\n",
    "        'Accuracy': [sklearn.metrics.accuracy_score(y_true, y_pred)]\n",
    "    }\n",
    ")"
   ]
  },
  {
   "cell_type": "markdown",
   "metadata": {},
   "source": [
    "## Part B"
   ]
  },
  {
   "cell_type": "code",
   "execution_count": 7,
   "metadata": {},
   "outputs": [],
   "source": [
    "class IndependantVariableNaiveBayesClassifier:\n",
    "    def __init__(self, dataset, train, contiuous_features=CONTINUOUS_FEATURES, discrete_features=DISCRETE_FEATURES):\n",
    "        self.continuous_features = contiuous_features\n",
    "        self.discrete_features = discrete_features\n",
    "        # Ppos: Probability of positive class occurrence,\n",
    "        # Pneg: Probability of negative class occurrence\n",
    "        plus_count, neg_count = train['target'].value_counts()\n",
    "        self.Ppos = plus_count / len(train['target'])\n",
    "        self.Pneg = neg_count / len(train['target'])\n",
    "\n",
    "        # Conditional Probability for discrete features\n",
    "        self.P_disc = {'+': dict(), '-': dict()}\n",
    "        for feature in self.discrete_features:\n",
    "            self.P_disc['+'][feature] = dict()\n",
    "            self.P_disc['-'][feature] = dict()\n",
    "            for value in pd.unique(dataset[feature]):\n",
    "                self.P_disc['+'][feature][value] = \\\n",
    "                    train[(train['target'] == 1) & (train[feature] == value)][feature].count() / plus_count\n",
    "                self.P_disc['-'][feature][value] = \\\n",
    "                    train[(train['target'] == 0) & (train[feature] == value)][feature].count() / neg_count\n",
    "\n",
    "        # Conditional Probability for continuous features\n",
    "        self.P_cont = {'+': dict(), '-': dict()}\n",
    "        for feature in self.continuous_features:\n",
    "            self.P_cont['+'][feature] = \\\n",
    "                scipy.stats.norm(loc=train[(train['target'] == 1)][feature].mean(),\n",
    "                                 scale=train[(train['target'] == 1)][feature].cov(train[(train['target'] == 1)][feature]))\n",
    "            self.P_cont['-'][feature] = \\\n",
    "                scipy.stats.norm(loc=train[(train['target'] == 0)][feature].mean(),\n",
    "                                 scale=train[(train['target'] == 0)][feature].cov(train[(train['target'] == 0)][feature]))\n",
    "\n",
    "    def predict(self, sample):\n",
    "        # Initiazling probability based on prior probability\n",
    "        pos_probability = self.Ppos\n",
    "        neg_probability = self.Pneg\n",
    "\n",
    "        for (feature, value) in sample.items():\n",
    "            # Applying probability of discrete features\n",
    "            if feature in self.discrete_features:\n",
    "                pos_probability *= self.P_disc['+'][feature][value]\n",
    "                neg_probability *= self.P_disc['-'][feature][value]\n",
    "            # Applying probability of continuous features\n",
    "            elif feature in self.continuous_features:\n",
    "                pos_probability *= self.P_cont['+'][feature].pdf(value) * EPSILON\n",
    "                neg_probability *= self.P_cont['-'][feature].pdf(value) * EPSILON\n",
    "\n",
    "        return int(pos_probability > neg_probability)"
   ]
  },
  {
   "cell_type": "markdown",
   "metadata": {},
   "source": [
    "Learning the model"
   ]
  },
  {
   "cell_type": "code",
   "execution_count": 8,
   "metadata": {},
   "outputs": [],
   "source": [
    "independant_nbc = IndependantVariableNaiveBayesClassifier(heart_df, train)"
   ]
  },
  {
   "cell_type": "markdown",
   "metadata": {},
   "source": [
    "Testing trained model."
   ]
  },
  {
   "cell_type": "code",
   "execution_count": 9,
   "metadata": {},
   "outputs": [
    {
     "name": "stdout",
     "output_type": "stream",
     "text": [
      "Metrics based on Train Dataset\n"
     ]
    },
    {
     "data": {
      "text/html": [
       "<div>\n",
       "<style scoped>\n",
       "    .dataframe tbody tr th:only-of-type {\n",
       "        vertical-align: middle;\n",
       "    }\n",
       "\n",
       "    .dataframe tbody tr th {\n",
       "        vertical-align: top;\n",
       "    }\n",
       "\n",
       "    .dataframe thead th {\n",
       "        text-align: right;\n",
       "    }\n",
       "</style>\n",
       "<table border=\"1\" class=\"dataframe\">\n",
       "  <thead>\n",
       "    <tr style=\"text-align: right;\">\n",
       "      <th></th>\n",
       "      <th>Precision</th>\n",
       "      <th>Recall</th>\n",
       "      <th>F1</th>\n",
       "      <th>Accuracy</th>\n",
       "    </tr>\n",
       "  </thead>\n",
       "  <tbody>\n",
       "    <tr>\n",
       "      <th>0</th>\n",
       "      <td>0.824834</td>\n",
       "      <td>0.885714</td>\n",
       "      <td>0.854191</td>\n",
       "      <td>0.845122</td>\n",
       "    </tr>\n",
       "  </tbody>\n",
       "</table>\n",
       "</div>"
      ],
      "text/plain": [
       "   Precision    Recall        F1  Accuracy\n",
       "0   0.824834  0.885714  0.854191  0.845122"
      ]
     },
     "execution_count": 9,
     "metadata": {},
     "output_type": "execute_result"
    }
   ],
   "source": [
    "y_true = train['target']\n",
    "y_pred = list()\n",
    "for _, sample in train.iterrows():\n",
    "    y_pred.append(independant_nbc.predict(sample))\n",
    "\n",
    "print(\"Metrics based on Train Dataset\")\n",
    "pd.DataFrame(\n",
    "    {\n",
    "        'Precision': [sklearn.metrics.precision_score(y_true, y_pred)],\n",
    "        'Recall': [sklearn.metrics.recall_score(y_true, y_pred)],\n",
    "        'F1': [sklearn.metrics.f1_score(y_true, y_pred)],\n",
    "        'Accuracy': [sklearn.metrics.accuracy_score(y_true, y_pred)]\n",
    "    }\n",
    ")"
   ]
  },
  {
   "cell_type": "code",
   "execution_count": 10,
   "metadata": {},
   "outputs": [
    {
     "name": "stdout",
     "output_type": "stream",
     "text": [
      "Metrics based on Test Dataset\n"
     ]
    },
    {
     "data": {
      "text/html": [
       "<div>\n",
       "<style scoped>\n",
       "    .dataframe tbody tr th:only-of-type {\n",
       "        vertical-align: middle;\n",
       "    }\n",
       "\n",
       "    .dataframe tbody tr th {\n",
       "        vertical-align: top;\n",
       "    }\n",
       "\n",
       "    .dataframe thead th {\n",
       "        text-align: right;\n",
       "    }\n",
       "</style>\n",
       "<table border=\"1\" class=\"dataframe\">\n",
       "  <thead>\n",
       "    <tr style=\"text-align: right;\">\n",
       "      <th></th>\n",
       "      <th>Precision</th>\n",
       "      <th>Recall</th>\n",
       "      <th>F1</th>\n",
       "      <th>Accuracy</th>\n",
       "    </tr>\n",
       "  </thead>\n",
       "  <tbody>\n",
       "    <tr>\n",
       "      <th>0</th>\n",
       "      <td>0.807018</td>\n",
       "      <td>0.867925</td>\n",
       "      <td>0.836364</td>\n",
       "      <td>0.82439</td>\n",
       "    </tr>\n",
       "  </tbody>\n",
       "</table>\n",
       "</div>"
      ],
      "text/plain": [
       "   Precision    Recall        F1  Accuracy\n",
       "0   0.807018  0.867925  0.836364   0.82439"
      ]
     },
     "execution_count": 10,
     "metadata": {},
     "output_type": "execute_result"
    }
   ],
   "source": [
    "y_true = test['target']\n",
    "y_pred = list()\n",
    "for _, sample in test.iterrows():\n",
    "    y_pred.append(independant_nbc.predict(sample))\n",
    "\n",
    "print(\"Metrics based on Test Dataset\")\n",
    "pd.DataFrame(\n",
    "    {\n",
    "        'Precision': [sklearn.metrics.precision_score(y_true, y_pred)],\n",
    "        'Recall': [sklearn.metrics.recall_score(y_true, y_pred)],\n",
    "        'F1': [sklearn.metrics.f1_score(y_true, y_pred)],\n",
    "        'Accuracy': [sklearn.metrics.accuracy_score(y_true, y_pred)]\n",
    "    }\n",
    ")"
   ]
  },
  {
   "cell_type": "markdown",
   "metadata": {},
   "source": [
    "## Part C"
   ]
  },
  {
   "cell_type": "markdown",
   "metadata": {},
   "source": [
    "Removing the `chol` feature and training based on this feature"
   ]
  },
  {
   "cell_type": "code",
   "execution_count": 11,
   "metadata": {},
   "outputs": [
    {
     "name": "stdout",
     "output_type": "stream",
     "text": [
      "Metrics for Train Dataset\n",
      "   Precision    Recall        F1  Accuracy\n",
      "0   0.853147  0.871429  0.862191  0.857317\n",
      "Metrics for Test Dataset\n",
      "   Precision    Recall        F1  Accuracy\n",
      "0   0.842593  0.858491  0.850467  0.843902\n"
     ]
    }
   ],
   "source": [
    "dependant_nbc = DependantVariableNaiveBayesClassifier(heart_df, train,continuous_features=['age', 'trestbps', 'thalach', 'oldpeak'])\n",
    "y_true = train['target']\n",
    "y_pred = list()\n",
    "for _, sample in train.iterrows():\n",
    "    y_pred.append(dependant_nbc.predict(sample))\n",
    "\n",
    "print(\"Metrics for Train Dataset\")\n",
    "print(\n",
    "    pd.DataFrame(\n",
    "        {\n",
    "            'Precision': [sklearn.metrics.precision_score(y_true, y_pred)],\n",
    "            'Recall': [sklearn.metrics.recall_score(y_true, y_pred)],\n",
    "            'F1': [sklearn.metrics.f1_score(y_true, y_pred)],\n",
    "            'Accuracy': [sklearn.metrics.accuracy_score(y_true, y_pred)]\n",
    "        }\n",
    "    )\n",
    ")\n",
    "\n",
    "y_true = test['target']\n",
    "y_pred = list()\n",
    "for _, sample in test.iterrows():\n",
    "    y_pred.append(dependant_nbc.predict(sample))\n",
    "\n",
    "print(\"Metrics for Test Dataset\")\n",
    "print(\n",
    "    pd.DataFrame(\n",
    "        {\n",
    "            'Precision': [sklearn.metrics.precision_score(y_true, y_pred)],\n",
    "            'Recall': [sklearn.metrics.recall_score(y_true, y_pred)],\n",
    "            'F1': [sklearn.metrics.f1_score(y_true, y_pred)],\n",
    "            'Accuracy': [sklearn.metrics.accuracy_score(y_true, y_pred)]\n",
    "        }\n",
    "    )\n",
    ")"
   ]
  },
  {
   "cell_type": "markdown",
   "metadata": {},
   "source": [
    "Removing the `oldpeak` feature and training based on this feature"
   ]
  },
  {
   "cell_type": "code",
   "execution_count": 13,
   "metadata": {},
   "outputs": [
    {
     "name": "stdout",
     "output_type": "stream",
     "text": [
      "Metrics for Train Dataset\n",
      "   Precision  Recall        F1  Accuracy\n",
      "0   0.858173    0.85  0.854067   0.85122\n",
      "Metrics for Test Dataset\n",
      "   Precision    Recall        F1  Accuracy\n",
      "0   0.833333  0.801887  0.817308  0.814634\n"
     ]
    }
   ],
   "source": [
    "dependant_nbc = DependantVariableNaiveBayesClassifier(heart_df, train,continuous_features=['age', 'trestbps', 'chol', 'thalach'])\n",
    "y_true = train['target']\n",
    "y_pred = list()\n",
    "for _, sample in train.iterrows():\n",
    "    y_pred.append(dependant_nbc.predict(sample))\n",
    "\n",
    "print(\"Metrics for Train Dataset\")\n",
    "print(\n",
    "    pd.DataFrame(\n",
    "        {\n",
    "            'Precision': [sklearn.metrics.precision_score(y_true, y_pred)],\n",
    "            'Recall': [sklearn.metrics.recall_score(y_true, y_pred)],\n",
    "            'F1': [sklearn.metrics.f1_score(y_true, y_pred)],\n",
    "            'Accuracy': [sklearn.metrics.accuracy_score(y_true, y_pred)]\n",
    "        }\n",
    "    )\n",
    ")\n",
    "\n",
    "y_true = test['target']\n",
    "y_pred = list()\n",
    "for _, sample in test.iterrows():\n",
    "    y_pred.append(dependant_nbc.predict(sample))\n",
    "\n",
    "print(\"Metrics for Test Dataset\")\n",
    "print(\n",
    "    pd.DataFrame(\n",
    "        {\n",
    "            'Precision': [sklearn.metrics.precision_score(y_true, y_pred)],\n",
    "            'Recall': [sklearn.metrics.recall_score(y_true, y_pred)],\n",
    "            'F1': [sklearn.metrics.f1_score(y_true, y_pred)],\n",
    "            'Accuracy': [sklearn.metrics.accuracy_score(y_true, y_pred)]\n",
    "        }\n",
    "    )\n",
    ")"
   ]
  },
  {
   "cell_type": "markdown",
   "metadata": {},
   "source": [
    "# Question 2"
   ]
  },
  {
   "cell_type": "markdown",
   "metadata": {},
   "source": [
    "Loadind from file"
   ]
  },
  {
   "cell_type": "code",
   "execution_count": 15,
   "metadata": {},
   "outputs": [],
   "source": [
    "train = pd.read_csv('data/titanic/train.csv')\n",
    "test = pd.read_csv('data/titanic/test.csv')"
   ]
  },
  {
   "cell_type": "markdown",
   "metadata": {},
   "source": [
    "## Part A"
   ]
  },
  {
   "cell_type": "markdown",
   "metadata": {},
   "source": [
    "Checking missing values in Train and Test dataset"
   ]
  },
  {
   "cell_type": "code",
   "execution_count": 16,
   "metadata": {},
   "outputs": [
    {
     "data": {
      "text/html": [
       "<div>\n",
       "<style scoped>\n",
       "    .dataframe tbody tr th:only-of-type {\n",
       "        vertical-align: middle;\n",
       "    }\n",
       "\n",
       "    .dataframe tbody tr th {\n",
       "        vertical-align: top;\n",
       "    }\n",
       "\n",
       "    .dataframe thead th {\n",
       "        text-align: right;\n",
       "    }\n",
       "</style>\n",
       "<table border=\"1\" class=\"dataframe\">\n",
       "  <thead>\n",
       "    <tr style=\"text-align: right;\">\n",
       "      <th></th>\n",
       "      <th>Train Quantity</th>\n",
       "      <th>Train Percent</th>\n",
       "      <th>Test Quantity</th>\n",
       "      <th>Test Percent</th>\n",
       "    </tr>\n",
       "  </thead>\n",
       "  <tbody>\n",
       "    <tr>\n",
       "      <th>PassengerId</th>\n",
       "      <td>0</td>\n",
       "      <td>0.000000</td>\n",
       "      <td>0.0</td>\n",
       "      <td>0.000000</td>\n",
       "    </tr>\n",
       "    <tr>\n",
       "      <th>Survived</th>\n",
       "      <td>0</td>\n",
       "      <td>0.000000</td>\n",
       "      <td>NaN</td>\n",
       "      <td>NaN</td>\n",
       "    </tr>\n",
       "    <tr>\n",
       "      <th>Pclass</th>\n",
       "      <td>0</td>\n",
       "      <td>0.000000</td>\n",
       "      <td>0.0</td>\n",
       "      <td>0.000000</td>\n",
       "    </tr>\n",
       "    <tr>\n",
       "      <th>Name</th>\n",
       "      <td>0</td>\n",
       "      <td>0.000000</td>\n",
       "      <td>0.0</td>\n",
       "      <td>0.000000</td>\n",
       "    </tr>\n",
       "    <tr>\n",
       "      <th>Sex</th>\n",
       "      <td>0</td>\n",
       "      <td>0.000000</td>\n",
       "      <td>0.0</td>\n",
       "      <td>0.000000</td>\n",
       "    </tr>\n",
       "    <tr>\n",
       "      <th>Age</th>\n",
       "      <td>177</td>\n",
       "      <td>0.198653</td>\n",
       "      <td>86.0</td>\n",
       "      <td>0.205742</td>\n",
       "    </tr>\n",
       "    <tr>\n",
       "      <th>SibSp</th>\n",
       "      <td>0</td>\n",
       "      <td>0.000000</td>\n",
       "      <td>0.0</td>\n",
       "      <td>0.000000</td>\n",
       "    </tr>\n",
       "    <tr>\n",
       "      <th>Parch</th>\n",
       "      <td>0</td>\n",
       "      <td>0.000000</td>\n",
       "      <td>0.0</td>\n",
       "      <td>0.000000</td>\n",
       "    </tr>\n",
       "    <tr>\n",
       "      <th>Ticket</th>\n",
       "      <td>0</td>\n",
       "      <td>0.000000</td>\n",
       "      <td>0.0</td>\n",
       "      <td>0.000000</td>\n",
       "    </tr>\n",
       "    <tr>\n",
       "      <th>Fare</th>\n",
       "      <td>0</td>\n",
       "      <td>0.000000</td>\n",
       "      <td>1.0</td>\n",
       "      <td>0.002392</td>\n",
       "    </tr>\n",
       "    <tr>\n",
       "      <th>Cabin</th>\n",
       "      <td>687</td>\n",
       "      <td>0.771044</td>\n",
       "      <td>327.0</td>\n",
       "      <td>0.782297</td>\n",
       "    </tr>\n",
       "    <tr>\n",
       "      <th>Embarked</th>\n",
       "      <td>2</td>\n",
       "      <td>0.002245</td>\n",
       "      <td>0.0</td>\n",
       "      <td>0.000000</td>\n",
       "    </tr>\n",
       "  </tbody>\n",
       "</table>\n",
       "</div>"
      ],
      "text/plain": [
       "             Train Quantity  Train Percent  Test Quantity  Test Percent\n",
       "PassengerId               0       0.000000            0.0      0.000000\n",
       "Survived                  0       0.000000            NaN           NaN\n",
       "Pclass                    0       0.000000            0.0      0.000000\n",
       "Name                      0       0.000000            0.0      0.000000\n",
       "Sex                       0       0.000000            0.0      0.000000\n",
       "Age                     177       0.198653           86.0      0.205742\n",
       "SibSp                     0       0.000000            0.0      0.000000\n",
       "Parch                     0       0.000000            0.0      0.000000\n",
       "Ticket                    0       0.000000            0.0      0.000000\n",
       "Fare                      0       0.000000            1.0      0.002392\n",
       "Cabin                   687       0.771044          327.0      0.782297\n",
       "Embarked                  2       0.002245            0.0      0.000000"
      ]
     },
     "execution_count": 16,
     "metadata": {},
     "output_type": "execute_result"
    }
   ],
   "source": [
    "pd.concat(\n",
    "    [\n",
    "        train.isnull().sum().rename('Train Quantity'), \n",
    "        train.isnull().sum().rename('Train Percent') / len(train),\n",
    "        test.isnull().sum().rename('Test Quantity'),\n",
    "        test.isnull().sum().rename('Test Percent') / len(test)\n",
    "    ], \n",
    "    axis=1)"
   ]
  },
  {
   "cell_type": "markdown",
   "metadata": {},
   "source": [
    "We do following Cleanups:\n",
    "\n",
    "    - Removing `Cabin` column because most of the rows are missing.\n",
    "    - Filling `Age` missing column with mean of the known values.\n",
    "    - Filling `Fare` missing column with mean of the known values.\n",
    "    - Filling `Embarked` with mode of the known values"
   ]
  },
  {
   "cell_type": "code",
   "execution_count": 17,
   "metadata": {},
   "outputs": [],
   "source": [
    "train = train.drop(['Cabin'], axis=1)\n",
    "train['Age'].fillna(train['Age'].mean(), inplace=True)\n",
    "train['Embarked'].fillna(train['Embarked'].mode().iloc[0], inplace=True)\n",
    "\n",
    "test = test.drop(['Cabin'], axis=1)\n",
    "test['Age'].fillna(test['Age'].mean(), inplace=True)\n",
    "test['Fare'].fillna(test['Fare'].mean(), inplace=True)"
   ]
  },
  {
   "cell_type": "markdown",
   "metadata": {},
   "source": [
    "## Part B"
   ]
  },
  {
   "cell_type": "markdown",
   "metadata": {},
   "source": [
    "Dropping unneccessary columns and training the DecisionTreeClassifier"
   ]
  },
  {
   "cell_type": "code",
   "execution_count": 18,
   "metadata": {},
   "outputs": [
    {
     "name": "stderr",
     "output_type": "stream",
     "text": [
      "/home/engmrgh/university/m.sc./1th_semester/.venv/lib/python3.8/site-packages/pandas/core/indexing.py:1773: SettingWithCopyWarning: \n",
      "A value is trying to be set on a copy of a slice from a DataFrame.\n",
      "Try using .loc[row_indexer,col_indexer] = value instead\n",
      "\n",
      "See the caveats in the documentation: https://pandas.pydata.org/pandas-docs/stable/user_guide/indexing.html#returning-a-view-versus-a-copy\n",
      "  self._setitem_single_column(ilocs[0], value, pi)\n"
     ]
    }
   ],
   "source": [
    "x_train = train.loc[:, (train.columns!='Survived') & (train.columns!='PassengerId') & (train.columns!='Name') & (train.columns!='Ticket')]\n",
    "x_train.loc[:,'Sex']=x_train['Sex'].map({'male':0, 'female': 1})\n",
    "x_train.loc[:,'Embarked']=x_train['Embarked'].map({'S': 0, 'C': 1, 'Q': 2})\n",
    "y_train = train.loc[:, train.columns=='Survived']\n",
    "clf = DecisionTreeClassifier()\n",
    "clf.fit(x_train, y_train)\n",
    "predictions = clf.predict(x_train).astype('bool')\n",
    "np.savetxt(\"train_predictions.csv\", predictions, delimiter=\",\")"
   ]
  },
  {
   "cell_type": "markdown",
   "metadata": {},
   "source": [
    "## Part C"
   ]
  },
  {
   "cell_type": "markdown",
   "metadata": {},
   "source": [
    "Clearing up the test dataset and predicting the survivals."
   ]
  },
  {
   "cell_type": "code",
   "execution_count": 19,
   "metadata": {},
   "outputs": [
    {
     "name": "stderr",
     "output_type": "stream",
     "text": [
      "/home/engmrgh/university/m.sc./1th_semester/.venv/lib/python3.8/site-packages/pandas/core/indexing.py:1773: SettingWithCopyWarning: \n",
      "A value is trying to be set on a copy of a slice from a DataFrame.\n",
      "Try using .loc[row_indexer,col_indexer] = value instead\n",
      "\n",
      "See the caveats in the documentation: https://pandas.pydata.org/pandas-docs/stable/user_guide/indexing.html#returning-a-view-versus-a-copy\n",
      "  self._setitem_single_column(ilocs[0], value, pi)\n"
     ]
    }
   ],
   "source": [
    "x_test = test.loc[:, (test.columns!='Survived') & (test.columns!='PassengerId') & (test.columns!='Name') & (test.columns!='Ticket')]\n",
    "x_test.loc[:,'Sex']=x_test['Sex'].map({'male':0, 'female': 1})\n",
    "x_test.loc[:,'Embarked']=x_test['Embarked'].map({'S': 0, 'C': 1, 'Q': 2})\n",
    "predictions = clf.predict(x_test).astype('bool')\n",
    "np.savetxt(\"test_predictions.csv\", predictions, delimiter=\",\")"
   ]
  },
  {
   "cell_type": "markdown",
   "metadata": {},
   "source": [
    "# Question 3"
   ]
  },
  {
   "cell_type": "markdown",
   "metadata": {},
   "source": [
    "Loading the dataset"
   ]
  },
  {
   "cell_type": "code",
   "execution_count": 44,
   "metadata": {},
   "outputs": [],
   "source": [
    "iris = pd.read_csv('data/iris.csv')"
   ]
  },
  {
   "cell_type": "markdown",
   "metadata": {},
   "source": [
    "Implementing of KNN algorithm."
   ]
  },
  {
   "cell_type": "code",
   "execution_count": 55,
   "metadata": {},
   "outputs": [],
   "source": [
    "def KNN(k, train, test):\n",
    "    confusion_matrix = {\n",
    "        'Iris-setosa': {\n",
    "            'Iris-setosa': 0,\n",
    "            'Iris-versicolor': 0,\n",
    "            'Iris-virginica': 0\n",
    "        },\n",
    "        'Iris-versicolor': {\n",
    "            'Iris-setosa': 0,\n",
    "            'Iris-versicolor': 0,\n",
    "            'Iris-virginica': 0\n",
    "        },\n",
    "        'Iris-virginica': {\n",
    "            'Iris-setosa': 0,\n",
    "            'Iris-versicolor': 0,\n",
    "            'Iris-virginica': 0\n",
    "        }\n",
    "    }\n",
    "\n",
    "    x_train = train.loc[:, train.columns != 'class'].to_numpy()  # Train dataset features\n",
    "    y_train = train['class']  # Train dataset target\n",
    "    for _, p in test.iterrows():\n",
    "        class_p = p['class']\n",
    "        x_p = p.drop('class').to_numpy('float')\n",
    "        # Find distance from the point p to other points\n",
    "        distances = np.linalg.norm(x_train - x_p, axis=1)\n",
    "        # Sort distances and get corresponding indices\n",
    "        top_nearest_neighbors = np.argsort(distances)\n",
    "        # Find class of the top nearest neighbors\n",
    "        label_of_top_nearst_neighbors = np.take(y_train, top_nearest_neighbors)\n",
    "        # Select top K neighbors and find the mode of the lables\n",
    "        knn_predicted_class = scipy.stats.mode(label_of_top_nearst_neighbors[:k])[0][0]\n",
    "        confusion_matrix[class_p][knn_predicted_class] += 1\n",
    "    return confusion_matrix\n"
   ]
  },
  {
   "cell_type": "markdown",
   "metadata": {},
   "source": [
    "# Part A"
   ]
  },
  {
   "cell_type": "markdown",
   "metadata": {},
   "source": [
    "Implementing 10-fold cross validation to determine best value for K in KNN."
   ]
  },
  {
   "cell_type": "code",
   "execution_count": 56,
   "metadata": {},
   "outputs": [],
   "source": [
    "folds_number = 10\n",
    "dataset_length = len(iris)\n",
    "\n",
    "# Making folds\n",
    "step = dataset_length//folds_number\n",
    "folds = [iris[i*step:(i+1)*step] for i in range(folds_number)]\n",
    "\n",
    "# Determining error on train and test data\n",
    "accuracy = {\"k\": list(), \"accuracy\": list()}\n",
    "for k in range(1, 30, 2):\n",
    "    fold_mean_accuracy = 0\n",
    "    for i, fold in enumerate(folds):\n",
    "        # Specify train dataset\n",
    "        train = pd.concat(folds[:i] + folds[i+1:]).reset_index(drop=True)\n",
    "        # Specify test dataset\n",
    "        test = folds[i]\n",
    "        confusion_matrix = KNN(k,train,test)\n",
    "        fold_accuracy = (confusion_matrix['Iris-setosa']['Iris-setosa'] + \\\n",
    "                         confusion_matrix['Iris-versicolor']['Iris-versicolor'] + \\\n",
    "                         confusion_matrix['Iris-virginica']['Iris-virginica']) / len(test)\n",
    "        fold_mean_accuracy += (fold_accuracy/folds_number)\n",
    "    accuracy[\"k\"].append(k)\n",
    "    accuracy[\"accuracy\"].append(round(fold_mean_accuracy,4))"
   ]
  },
  {
   "cell_type": "code",
   "execution_count": 57,
   "metadata": {},
   "outputs": [
    {
     "data": {
      "application/vnd.plotly.v1+json": {
       "config": {
        "plotlyServerURL": "https://plot.ly"
       },
       "data": [
        {
         "hovertemplate": "k=%{x}<br>accuracy=%{text}<extra></extra>",
         "legendgroup": "",
         "line": {
          "color": "#1F77B4",
          "dash": "solid"
         },
         "marker": {
          "symbol": "circle"
         },
         "mode": "markers+lines+text",
         "name": "",
         "orientation": "v",
         "showlegend": false,
         "text": [
          0.96,
          0.9467,
          0.9333,
          0.9333,
          0.9333,
          0.9333,
          0.94,
          0.9267,
          0.9267,
          0.9267,
          0.92,
          0.9267,
          0.9133,
          0.9067,
          0.9
         ],
         "type": "scatter",
         "x": [
          1,
          3,
          5,
          7,
          9,
          11,
          13,
          15,
          17,
          19,
          21,
          23,
          25,
          27,
          29
         ],
         "xaxis": "x",
         "y": [
          0.96,
          0.9467,
          0.9333,
          0.9333,
          0.9333,
          0.9333,
          0.94,
          0.9267,
          0.9267,
          0.9267,
          0.92,
          0.9267,
          0.9133,
          0.9067,
          0.9
         ],
         "yaxis": "y"
        }
       ],
       "layout": {
        "legend": {
         "tracegroupgap": 0
        },
        "template": {
         "layout": {
          "xaxis": {
           "dtick": 2
          }
         }
        },
        "title": {
         "text": "Check Impact of K in KNN"
        },
        "xaxis": {
         "anchor": "y",
         "domain": [
          0,
          1
         ],
         "title": {
          "text": "k"
         }
        },
        "yaxis": {
         "anchor": "x",
         "domain": [
          0,
          1
         ],
         "title": {
          "text": "accuracy"
         }
        }
       }
      }
     },
     "metadata": {},
     "output_type": "display_data"
    }
   ],
   "source": [
    "fig = px.line(pd.DataFrame(accuracy), x='k', y='accuracy', text=\"accuracy\",\n",
    "        title='Check Impact of K in KNN', markers=True,\n",
    "        template=dict(layout=go.Layout(xaxis=dict(dtick=2))))\n",
    "fig.show()"
   ]
  },
  {
   "cell_type": "markdown",
   "metadata": {},
   "source": [
    "## Part B"
   ]
  },
  {
   "cell_type": "code",
   "execution_count": 58,
   "metadata": {},
   "outputs": [],
   "source": [
    "train, test = train_test_split(iris, train_size=0.8, test_size=0.2)"
   ]
  },
  {
   "cell_type": "code",
   "execution_count": 61,
   "metadata": {},
   "outputs": [
    {
     "data": {
      "text/html": [
       "<div>\n",
       "<style scoped>\n",
       "    .dataframe tbody tr th:only-of-type {\n",
       "        vertical-align: middle;\n",
       "    }\n",
       "\n",
       "    .dataframe tbody tr th {\n",
       "        vertical-align: top;\n",
       "    }\n",
       "\n",
       "    .dataframe thead th {\n",
       "        text-align: right;\n",
       "    }\n",
       "</style>\n",
       "<table border=\"1\" class=\"dataframe\">\n",
       "  <thead>\n",
       "    <tr style=\"text-align: right;\">\n",
       "      <th></th>\n",
       "      <th>Iris-setosa</th>\n",
       "      <th>Iris-versicolor</th>\n",
       "      <th>Iris-virginica</th>\n",
       "    </tr>\n",
       "  </thead>\n",
       "  <tbody>\n",
       "    <tr>\n",
       "      <th>Iris-setosa</th>\n",
       "      <td>38</td>\n",
       "      <td>0</td>\n",
       "      <td>0</td>\n",
       "    </tr>\n",
       "    <tr>\n",
       "      <th>Iris-versicolor</th>\n",
       "      <td>0</td>\n",
       "      <td>42</td>\n",
       "      <td>0</td>\n",
       "    </tr>\n",
       "    <tr>\n",
       "      <th>Iris-virginica</th>\n",
       "      <td>0</td>\n",
       "      <td>0</td>\n",
       "      <td>40</td>\n",
       "    </tr>\n",
       "  </tbody>\n",
       "</table>\n",
       "</div>"
      ],
      "text/plain": [
       "                 Iris-setosa  Iris-versicolor  Iris-virginica\n",
       "Iris-setosa               38                0               0\n",
       "Iris-versicolor            0               42               0\n",
       "Iris-virginica             0                0              40"
      ]
     },
     "execution_count": 61,
     "metadata": {},
     "output_type": "execute_result"
    }
   ],
   "source": [
    "pd.DataFrame(KNN(1,train,train))"
   ]
  },
  {
   "cell_type": "code",
   "execution_count": 60,
   "metadata": {},
   "outputs": [
    {
     "data": {
      "text/html": [
       "<div>\n",
       "<style scoped>\n",
       "    .dataframe tbody tr th:only-of-type {\n",
       "        vertical-align: middle;\n",
       "    }\n",
       "\n",
       "    .dataframe tbody tr th {\n",
       "        vertical-align: top;\n",
       "    }\n",
       "\n",
       "    .dataframe thead th {\n",
       "        text-align: right;\n",
       "    }\n",
       "</style>\n",
       "<table border=\"1\" class=\"dataframe\">\n",
       "  <thead>\n",
       "    <tr style=\"text-align: right;\">\n",
       "      <th></th>\n",
       "      <th>Iris-setosa</th>\n",
       "      <th>Iris-versicolor</th>\n",
       "      <th>Iris-virginica</th>\n",
       "    </tr>\n",
       "  </thead>\n",
       "  <tbody>\n",
       "    <tr>\n",
       "      <th>Iris-setosa</th>\n",
       "      <td>12</td>\n",
       "      <td>0</td>\n",
       "      <td>0</td>\n",
       "    </tr>\n",
       "    <tr>\n",
       "      <th>Iris-versicolor</th>\n",
       "      <td>0</td>\n",
       "      <td>8</td>\n",
       "      <td>1</td>\n",
       "    </tr>\n",
       "    <tr>\n",
       "      <th>Iris-virginica</th>\n",
       "      <td>0</td>\n",
       "      <td>0</td>\n",
       "      <td>9</td>\n",
       "    </tr>\n",
       "  </tbody>\n",
       "</table>\n",
       "</div>"
      ],
      "text/plain": [
       "                 Iris-setosa  Iris-versicolor  Iris-virginica\n",
       "Iris-setosa               12                0               0\n",
       "Iris-versicolor            0                8               1\n",
       "Iris-virginica             0                0               9"
      ]
     },
     "execution_count": 60,
     "metadata": {},
     "output_type": "execute_result"
    }
   ],
   "source": [
    "pd.DataFrame(KNN(1,train,test))"
   ]
  }
 ],
 "metadata": {
  "interpreter": {
   "hash": "676a4a00f6425beb987317664ee8c4682d59771b334aa577e04ffd5d0c95a693"
  },
  "kernelspec": {
   "display_name": "Python 3.8.10 64-bit ('.venv': venv)",
   "language": "python",
   "name": "python3"
  },
  "language_info": {
   "codemirror_mode": {
    "name": "ipython",
    "version": 3
   },
   "file_extension": ".py",
   "mimetype": "text/x-python",
   "name": "python",
   "nbconvert_exporter": "python",
   "pygments_lexer": "ipython3",
   "version": "3.8.10"
  },
  "orig_nbformat": 4
 },
 "nbformat": 4,
 "nbformat_minor": 2
}
