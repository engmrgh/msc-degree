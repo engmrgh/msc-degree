{
 "cells": [
  {
   "cell_type": "code",
   "execution_count": 1,
   "metadata": {},
   "outputs": [],
   "source": [
    "__title__ = \"SML HW2 Q3\"\n",
    "__author__ = \"Mohammadreza Ghofrani\"\n",
    "__stdid__ = \"400131076\""
   ]
  },
  {
   "cell_type": "code",
   "execution_count": 2,
   "metadata": {},
   "outputs": [],
   "source": [
    "import numpy as np\n",
    "import pandas as pd\n",
    "from scipy.stats import norm\n",
    "from matplotlib import pyplot as plt"
   ]
  },
  {
   "cell_type": "code",
   "execution_count": 20,
   "metadata": {},
   "outputs": [],
   "source": [
    "data = pd.read_csv('data/earthquake fiji/quakes.csv')\n",
    "d = np.array(data['mag'].sort_values())"
   ]
  },
  {
   "attachments": {},
   "cell_type": "markdown",
   "metadata": {},
   "source": [
    "# Part a"
   ]
  },
  {
   "cell_type": "code",
   "execution_count": 12,
   "metadata": {},
   "outputs": [],
   "source": [
    "F = np.vectorize(lambda x: sum(d < x) / len(d))"
   ]
  },
  {
   "attachments": {},
   "cell_type": "markdown",
   "metadata": {},
   "source": [
    "# Part b"
   ]
  },
  {
   "cell_type": "code",
   "execution_count": 58,
   "metadata": {},
   "outputs": [
    {
     "data": {
      "image/png": "[encoded data removed]",
      "text/plain": [
       "<Figure size 432x288 with 1 Axes>"
      ]
     },
     "metadata": {
      "needs_background": "light"
     },
     "output_type": "display_data"
    }
   ],
   "source": [
    "n = len(d)\n",
    "alpha = 0.05\n",
    "\n",
    "eps = np.sqrt((1/(2*n)) * np.log(2/alpha))\n",
    "\n",
    "L = np.vectorize(lambda x: max(F(x) - eps, 0.0))\n",
    "U = np.vectorize(lambda x: min(F(x) + eps, 1.0))\n",
    "\n",
    "plt.plot(d, L(d), label='Lower Bound')\n",
    "plt.plot(d, F(d), label='Main Function')\n",
    "plt.plot(d, U(d), label='Upper Bound')\n",
    "plt.xlabel('Magnitude')\n",
    "plt.ylabel('CDF')\n",
    "plt.legend()\n",
    "plt.show()"
   ]
  },
  {
   "attachments": {},
   "cell_type": "markdown",
   "metadata": {},
   "source": [
    "# Part c"
   ]
  },
  {
   "cell_type": "code",
   "execution_count": 65,
   "metadata": {},
   "outputs": [],
   "source": [
    "value = F(4.9) - F(4.3)"
   ]
  },
  {
   "attachments": {},
   "cell_type": "markdown",
   "metadata": {},
   "source": [
    "## Pivotal"
   ]
  },
  {
   "cell_type": "code",
   "execution_count": 66,
   "metadata": {},
   "outputs": [],
   "source": [
    "B = 1000\n",
    "\n",
    "b_vectors = []\n",
    "sample_size = len(d)\n",
    "for i in range(B):\n",
    "    D_star = np.random.choice(d, sample_size, replace=True)\n",
    "    F_star = np.vectorize(lambda x: sum(D_star < x) / len(D_star))\n",
    "    b_vectors.append(F_star(4.9) - F_star(4.3))\n",
    "\n",
    "b_vectors = np.array(b_vectors)"
   ]
  },
  {
   "cell_type": "code",
   "execution_count": 67,
   "metadata": {},
   "outputs": [
    {
     "name": "stdout",
     "output_type": "stream",
     "text": [
      "95% Confidence Interval Using Pivot Method: [0.5260, 0.5890]\n"
     ]
    }
   ],
   "source": [
    "print(f\"95% Confidence Interval Using Pivot Method: [{2*value - np.quantile(b_vectors, .975):.4f}, {2*value - np.quantile(b_vectors, .025):.4f}]\")"
   ]
  },
  {
   "attachments": {},
   "cell_type": "markdown",
   "metadata": {},
   "source": [
    "## Normal"
   ]
  },
  {
   "cell_type": "code",
   "execution_count": 68,
   "metadata": {},
   "outputs": [
    {
     "name": "stdout",
     "output_type": "stream",
     "text": [
      "95% confidence interval: (0.5262, 0.5878)\n"
     ]
    }
   ],
   "source": [
    "alpha = 0.05\n",
    "z_95 = norm.ppf(1-alpha/2)\n",
    "se = np.sqrt(value * (1 - value) / n)\n",
    "\n",
    "print(f'95% confidence interval: ({value - z_95 * se:.4f}, {value + z_95 * se:.4f})')"
   ]
  },
  {
   "attachments": {},
   "cell_type": "markdown",
   "metadata": {},
   "source": [
    "## Percentile"
   ]
  },
  {
   "cell_type": "code",
   "execution_count": 69,
   "metadata": {},
   "outputs": [
    {
     "name": "stdout",
     "output_type": "stream",
     "text": [
      "95% Confidence Interval Using Norm  al Method: [0.5250, 0.5880]\n"
     ]
    }
   ],
   "source": [
    "print(f\"95% Confidence Interval Using Norm  al Method: [{np.quantile(b_vectors, .025):.4f}, {np.quantile(b_vectors, .975):.4f}]\")"
   ]
  }
 ],
 "metadata": {
  "kernelspec": {
   "display_name": "uni",
   "language": "python",
   "name": "python3"
  },
  "language_info": {
   "codemirror_mode": {
    "name": "ipython",
    "version": 3
   },
   "file_extension": ".py",
   "mimetype": "text/x-python",
   "name": "python",
   "nbconvert_exporter": "python",
   "pygments_lexer": "ipython3",
   "version": "3.8.13"
  },
  "orig_nbformat": 4,
  "vscode": {
   "interpreter": {
    "hash": "479457d19d124b75d067f664f0e0759e9e397b556c1291d5d80b872e89cac1af"
   }
  }
 },
 "nbformat": 4,
 "nbformat_minor": 2
}
