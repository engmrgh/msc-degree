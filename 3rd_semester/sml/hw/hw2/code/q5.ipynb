{
 "cells": [
  {
   "cell_type": "code",
   "execution_count": 1,
   "metadata": {},
   "outputs": [],
   "source": [
    "__title__ = \"SML HW2 Q5\"\n",
    "__author__ = \"Mohammadreza Ghofrani\"\n",
    "__stdid__ = \"400131076\""
   ]
  },
  {
   "cell_type": "code",
   "execution_count": 3,
   "metadata": {},
   "outputs": [],
   "source": [
    "import numpy as np\n",
    "from scipy.stats import norm\n",
    "from matplotlib import pyplot as plt"
   ]
  },
  {
   "attachments": {},
   "cell_type": "markdown",
   "metadata": {},
   "source": [
    "# Part a"
   ]
  },
  {
   "cell_type": "code",
   "execution_count": 4,
   "metadata": {},
   "outputs": [],
   "source": [
    "X = np.random.normal(loc=5, scale=1, size=100)"
   ]
  },
  {
   "attachments": {},
   "cell_type": "markdown",
   "metadata": {},
   "source": [
    "# Part b"
   ]
  },
  {
   "cell_type": "code",
   "execution_count": 13,
   "metadata": {},
   "outputs": [
    {
     "name": "stdout",
     "output_type": "stream",
     "text": [
      "e_hat: 179.6543\n",
      "p_hat_std: 16.2246\n"
     ]
    }
   ],
   "source": [
    "B = 1000\n",
    "\n",
    "b_vectors = []\n",
    "sample_size = len(X)\n",
    "for i in range(B):\n",
    "    X_star = np.random.choice(X, sample_size, replace=True)\n",
    "    x_star_bar = np.mean(X_star)\n",
    "    e = np.exp(x_star_bar)\n",
    "    b_vectors.append(e)\n",
    "\n",
    "e_std = np.std(b_vectors)\n",
    "print(f\"e_hat: {np.exp(np.mean(X)):.4f}\")\n",
    "print(f\"p_hat_std: {e_std:.4f}\")"
   ]
  },
  {
   "cell_type": "code",
   "execution_count": 12,
   "metadata": {},
   "outputs": [
    {
     "name": "stdout",
     "output_type": "stream",
     "text": [
      "94% Confidence Interval Using Norm  al Method: [152.5282, 212.0277]\n"
     ]
    }
   ],
   "source": [
    "print(f\"94% Confidence Interval Using Normal Method: [{np.quantile(b_vectors, .03):.4f}, {np.quantile(b_vectors, .97):.4f}]\")"
   ]
  },
  {
   "attachments": {},
   "cell_type": "markdown",
   "metadata": {},
   "source": [
    "# Part c"
   ]
  },
  {
   "cell_type": "code",
   "execution_count": 51,
   "metadata": {},
   "outputs": [
    {
     "data": {
      "image/png": "[encoded data removed]",
      "text/plain": [
       "<Figure size 432x288 with 1 Axes>"
      ]
     },
     "metadata": {
      "needs_background": "light"
     },
     "output_type": "display_data"
    },
    {
     "data": {
      "image/png": "[encoded data removed]",
      "text/plain": [
       "<Figure size 432x288 with 1 Axes>"
      ]
     },
     "metadata": {
      "needs_background": "light"
     },
     "output_type": "display_data"
    }
   ],
   "source": [
    "X_bar = np.random.normal(loc=np.mean(X), scale=np.std(X)/np.sqrt(len(X)), size=10_000)\n",
    "\n",
    "plt.hist(np.exp(X_bar), bins=20, density=True, color='C0')\n",
    "plt.title(\"e^u distribution using normal method\")\n",
    "plt.ylabel(\"Density\")\n",
    "plt.xlabel(\"e^u\")\n",
    "plt.show()\n",
    "\n",
    "plt.hist(b_vectors, bins=20, density=True, color='C1')\n",
    "plt.title(\"e^u distribution using bootstrape method\")\n",
    "plt.ylabel(\"Density\")\n",
    "plt.xlabel(\"e^u\")\n",
    "plt.show()"
   ]
  }
 ],
 "metadata": {
  "kernelspec": {
   "display_name": "uni",
   "language": "python",
   "name": "python3"
  },
  "language_info": {
   "codemirror_mode": {
    "name": "ipython",
    "version": 3
   },
   "file_extension": ".py",
   "mimetype": "text/x-python",
   "name": "python",
   "nbconvert_exporter": "python",
   "pygments_lexer": "ipython3",
   "version": "3.8.13 | packaged by conda-forge | (default, Mar 25 2022, 06:04:10) \n[GCC 10.3.0]"
  },
  "orig_nbformat": 4,
  "vscode": {
   "interpreter": {
    "hash": "479457d19d124b75d067f664f0e0759e9e397b556c1291d5d80b872e89cac1af"
   }
  }
 },
 "nbformat": 4,
 "nbformat_minor": 2
}
