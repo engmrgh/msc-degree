{
 "cells": [
  {
   "cell_type": "code",
   "execution_count": 1,
   "metadata": {},
   "outputs": [],
   "source": [
    "__title__ = \"SML HW2 Q4\"\n",
    "__author__ = \"Mohammadreza Ghofrani\"\n",
    "__stdid__ = \"400131076\""
   ]
  },
  {
   "cell_type": "code",
   "execution_count": 2,
   "metadata": {},
   "outputs": [],
   "source": [
    "import numpy as np\n",
    "import pandas as pd\n",
    "from scipy.stats import norm\n",
    "from matplotlib import pyplot as plt"
   ]
  },
  {
   "cell_type": "code",
   "execution_count": 14,
   "metadata": {},
   "outputs": [],
   "source": [
    "LSAT = np.array([576, 635, 558, 578, 666, 580, 555, 661, 651, 605, 653, 575, 545, 572, 594])\n",
    "GPA = np.array([3.39, 3.30, 2.81, 3.03, 3.44, 3.07, 3.00, 3.43, 3.36, 3.13, 3.12, 2.74, 2.76, 2.88, 3.96])\n",
    "\n",
    "X = LSAT\n",
    "Y = GPA"
   ]
  },
  {
   "attachments": {},
   "cell_type": "markdown",
   "metadata": {},
   "source": [
    "# Part a"
   ]
  },
  {
   "cell_type": "code",
   "execution_count": 19,
   "metadata": {},
   "outputs": [
    {
     "name": "stdout",
     "output_type": "stream",
     "text": [
      "p_hat: 0.5459\n"
     ]
    }
   ],
   "source": [
    "X_bar = np.mean(X)\n",
    "Y_bar = np.mean(Y)\n",
    "\n",
    "p_hat = (np.sum((X - X_bar)*(Y - Y_bar)))/(np.sqrt(np.sum((X - X_bar)**2)) * np.sqrt(np.sum((Y - Y_bar)**2)))\n",
    "print(f\"p_hat: {p_hat:.4f}\")"
   ]
  },
  {
   "attachments": {},
   "cell_type": "markdown",
   "metadata": {},
   "source": [
    "# Part b"
   ]
  },
  {
   "cell_type": "code",
   "execution_count": 18,
   "metadata": {},
   "outputs": [
    {
     "name": "stdout",
     "output_type": "stream",
     "text": [
      "p_hat_std: 0.1757\n"
     ]
    }
   ],
   "source": [
    "B = 1000\n",
    "\n",
    "b_vectors = []\n",
    "sample_size = len(X)\n",
    "indices = np.arange(len(X))\n",
    "for i in range(B):\n",
    "    I_star = np.random.choice(indices, sample_size, replace=True)\n",
    "    X_star, Y_star = X[I_star], Y[I_star]\n",
    "    p_star_hat = (np.sum((X_star - X_bar)*(Y_star - Y_bar)))/(np.sqrt(np.sum((X_star - X_bar)**2)) * np.sqrt(np.sum((Y_star - Y_bar)**2)))\n",
    "    b_vectors.append(p_star_hat)\n",
    "\n",
    "p_hat_std = np.std(b_vectors)\n",
    "print(f\"p_hat_std: {p_hat_std:.4f}\")"
   ]
  },
  {
   "attachments": {},
   "cell_type": "markdown",
   "metadata": {},
   "source": [
    "# Part c"
   ]
  },
  {
   "attachments": {},
   "cell_type": "markdown",
   "metadata": {},
   "source": [
    "## Pivotal"
   ]
  },
  {
   "cell_type": "code",
   "execution_count": 35,
   "metadata": {},
   "outputs": [],
   "source": [
    "B = 1000\n",
    "\n",
    "b_vectors = []\n",
    "sample_size = len(X)\n",
    "indices = np.arange(len(X))\n",
    "for i in range(B):\n",
    "    I_star = np.random.choice(indices, sample_size, replace=True)\n",
    "    X_star, Y_star = X[I_star], Y[I_star]\n",
    "    p_star_hat = (np.sum((X_star - X_bar)*(Y_star - Y_bar)))/(np.sqrt(np.sum((X_star - X_bar)**2)) * np.sqrt(np.sum((Y_star - Y_bar)**2)))\n",
    "    b_vectors.append(p_star_hat)\n",
    "\n",
    "b_vectors = np.array(b_vectors)"
   ]
  },
  {
   "cell_type": "code",
   "execution_count": 34,
   "metadata": {},
   "outputs": [
    {
     "name": "stdout",
     "output_type": "stream",
     "text": [
      "95% Confidence Interval Using Pivot Method: [0.2033, 0.8438]\n"
     ]
    }
   ],
   "source": [
    "print(f\"95% Confidence Interval Using Pivot Method: [{2*p_hat - np.quantile(b_vectors, .975):.4f}, {2*p_hat - np.quantile(b_vectors, .025):.4f}]\")"
   ]
  },
  {
   "attachments": {},
   "cell_type": "markdown",
   "metadata": {},
   "source": [
    "## Normal"
   ]
  },
  {
   "cell_type": "code",
   "execution_count": 17,
   "metadata": {},
   "outputs": [
    {
     "name": "stdout",
     "output_type": "stream",
     "text": [
      "95% Confidence Interval [0.1669, 0.8796]\n"
     ]
    }
   ],
   "source": [
    "z_95 = norm.ppf(0.975)\n",
    "\n",
    "print(f\"95% Confidence Interval Using Normal Method: [{p_hat - z_95 * p_hat_std:.4f}, {p_hat + z_95 * p_hat_std:.4f}]\")"
   ]
  },
  {
   "attachments": {},
   "cell_type": "markdown",
   "metadata": {},
   "source": [
    "## Percentile"
   ]
  },
  {
   "cell_type": "code",
   "execution_count": 33,
   "metadata": {},
   "outputs": [
    {
     "name": "stdout",
     "output_type": "stream",
     "text": [
      "95% Confidence Interval Using Normal Method: [0.2480, 0.8886]\n"
     ]
    }
   ],
   "source": [
    "print(f\"95% Confidence Interval Using Norm  al Method: [{np.quantile(b_vectors, .025):.4f}, {np.quantile(b_vectors, .975):.4f}]\")"
   ]
  }
 ],
 "metadata": {
  "kernelspec": {
   "display_name": "uni",
   "language": "python",
   "name": "python3"
  },
  "language_info": {
   "codemirror_mode": {
    "name": "ipython",
    "version": 3
   },
   "file_extension": ".py",
   "mimetype": "text/x-python",
   "name": "python",
   "nbconvert_exporter": "python",
   "pygments_lexer": "ipython3",
   "version": "3.8.13 | packaged by conda-forge | (default, Mar 25 2022, 06:04:10) \n[GCC 10.3.0]"
  },
  "orig_nbformat": 4,
  "vscode": {
   "interpreter": {
    "hash": "479457d19d124b75d067f664f0e0759e9e397b556c1291d5d80b872e89cac1af"
   }
  }
 },
 "nbformat": 4,
 "nbformat_minor": 2
}
