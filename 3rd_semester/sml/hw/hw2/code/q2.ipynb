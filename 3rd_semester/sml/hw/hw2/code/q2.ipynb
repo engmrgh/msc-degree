{
 "cells": [
  {
   "cell_type": "code",
   "execution_count": 2,
   "metadata": {},
   "outputs": [],
   "source": [
    "__title__ = \"SML HW2 Q2\"\n",
    "__author__ = \"Mohammadreza Ghofrani\"\n",
    "__stdid__ = \"400131076\""
   ]
  },
  {
   "cell_type": "code",
   "execution_count": 1,
   "metadata": {},
   "outputs": [],
   "source": [
    "import numpy as np\n",
    "import pandas as pd\n",
    "from scipy.stats import norm"
   ]
  },
  {
   "cell_type": "code",
   "execution_count": 5,
   "metadata": {},
   "outputs": [],
   "source": [
    "data = pd.read_csv('data/faithful.csv')"
   ]
  },
  {
   "attachments": {},
   "cell_type": "markdown",
   "metadata": {},
   "source": [
    "# Part a"
   ]
  },
  {
   "cell_type": "code",
   "execution_count": 13,
   "metadata": {},
   "outputs": [
    {
     "name": "stdout",
     "output_type": "stream",
     "text": [
      "X_bar: 70.8971\n",
      "X_bar_std: 0.8243\n"
     ]
    }
   ],
   "source": [
    "x_bar = data['waiting'].mean()\n",
    "x_bar_std = data['waiting'].std() / np.sqrt(len(data))\n",
    "\n",
    "print(f\"X_bar: {x_bar:.4f}\")\n",
    "print(f\"X_bar_std: {x_bar_std:.4f}\")"
   ]
  },
  {
   "attachments": {},
   "cell_type": "markdown",
   "metadata": {},
   "source": [
    "# Part b"
   ]
  },
  {
   "cell_type": "code",
   "execution_count": 17,
   "metadata": {},
   "outputs": [
    {
     "name": "stdout",
     "output_type": "stream",
     "text": [
      "90% Confidence Interval [69.5412, 72.2529]\n"
     ]
    }
   ],
   "source": [
    "z_5 = norm.ppf(0.95)\n",
    "\n",
    "print(f\"90% Confidence Interval [{x_bar - z_5 * x_bar_std:.4f}, {x_bar + z_5 * x_bar_std:.4f}]\")"
   ]
  },
  {
   "attachments": {},
   "cell_type": "markdown",
   "metadata": {},
   "source": [
    "# Part c"
   ]
  },
  {
   "cell_type": "code",
   "execution_count": 26,
   "metadata": {},
   "outputs": [
    {
     "name": "stdout",
     "output_type": "stream",
     "text": [
      "Median: 76.0000\n",
      "Median std: 0.9854\n"
     ]
    }
   ],
   "source": [
    "median = data['waiting'].median()\n",
    "\n",
    "median_vectors = []\n",
    "B = 1000\n",
    "sample_size = len(data)\n",
    "for i in range(B):\n",
    "    X_star = np.random.choice(data['waiting'], sample_size, replace=True)\n",
    "    median_vectors.append(np.median(X_star))\n",
    "\n",
    "median_std = np.std(median_vectors)\n",
    "print(f\"Median: {median:.4f}\")\n",
    "print(f\"Median std: {median_std:.4f}\")"
   ]
  }
 ],
 "metadata": {
  "kernelspec": {
   "display_name": "uni",
   "language": "python",
   "name": "python3"
  },
  "language_info": {
   "codemirror_mode": {
    "name": "ipython",
    "version": 3
   },
   "file_extension": ".py",
   "mimetype": "text/x-python",
   "name": "python",
   "nbconvert_exporter": "python",
   "pygments_lexer": "ipython3",
   "version": "3.8.13 | packaged by conda-forge | (default, Mar 25 2022, 06:04:10) \n[GCC 10.3.0]"
  },
  "orig_nbformat": 4,
  "vscode": {
   "interpreter": {
    "hash": "479457d19d124b75d067f664f0e0759e9e397b556c1291d5d80b872e89cac1af"
   }
  }
 },
 "nbformat": 4,
 "nbformat_minor": 2
}
