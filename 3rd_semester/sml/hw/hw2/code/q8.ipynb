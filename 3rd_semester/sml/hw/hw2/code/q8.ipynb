{
 "cells": [
  {
   "cell_type": "code",
   "execution_count": 1,
   "metadata": {},
   "outputs": [],
   "source": [
    "__title__ = \"SML HW2 Q8\"\n",
    "__author__ = \"Mohammadreza Ghofrani\"\n",
    "__stdid__ = \"400131076\""
   ]
  },
  {
   "cell_type": "code",
   "execution_count": 12,
   "metadata": {},
   "outputs": [],
   "source": [
    "import numpy as np\n",
    "from tqdm import tqdm\n",
    "from scipy.stats import norm"
   ]
  },
  {
   "cell_type": "code",
   "execution_count": 15,
   "metadata": {},
   "outputs": [
    {
     "name": "stderr",
     "output_type": "stream",
     "text": [
      "100%|██████████| 1000000/1000000 [00:20<00:00, 49148.73it/s]"
     ]
    },
    {
     "name": "stdout",
     "output_type": "stream",
     "text": [
      "Fraction of rejections: 0.0512\n"
     ]
    },
    {
     "name": "stderr",
     "output_type": "stream",
     "text": [
      "\n"
     ]
    }
   ],
   "source": [
    "n = 50\n",
    "B = 1000\n",
    "lambda_ = 1.0\n",
    "alpha = 0.05\n",
    "n_exp = 1000000\n",
    "z_025 = norm.ppf(1 - (alpha/2))\n",
    "\n",
    "n_reject = 0\n",
    "for _ in tqdm(range(n_exp)):\n",
    "    X = np.random.poisson(lam=lambda_, size=n)\n",
    "    lambda_hat = np.mean(X)\n",
    "    se_hat = np.sqrt(lambda_hat/n)\n",
    "\n",
    "    w = (lambda_hat - lambda_) / se_hat\n",
    "    if np.abs(w) > z_025:\n",
    "        n_reject += 1\n",
    "\n",
    "print(f'Fraction of rejections: {n_reject/n_exp:.4f}')"
   ]
  }
 ],
 "metadata": {
  "kernelspec": {
   "display_name": "uni",
   "language": "python",
   "name": "python3"
  },
  "language_info": {
   "codemirror_mode": {
    "name": "ipython",
    "version": 3
   },
   "file_extension": ".py",
   "mimetype": "text/x-python",
   "name": "python",
   "nbconvert_exporter": "python",
   "pygments_lexer": "ipython3",
   "version": "3.8.13"
  },
  "orig_nbformat": 4,
  "vscode": {
   "interpreter": {
    "hash": "479457d19d124b75d067f664f0e0759e9e397b556c1291d5d80b872e89cac1af"
   }
  }
 },
 "nbformat": 4,
 "nbformat_minor": 2
}
