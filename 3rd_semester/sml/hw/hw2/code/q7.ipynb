{
 "cells": [
  {
   "cell_type": "code",
   "execution_count": 1,
   "metadata": {},
   "outputs": [],
   "source": [
    "__title__ = \"SML HW2 Q7\"\n",
    "__author__ = \"Mohammadreza Ghofrani\"\n",
    "__stdid__ = \"400131076\""
   ]
  },
  {
   "cell_type": "code",
   "execution_count": 6,
   "metadata": {},
   "outputs": [],
   "source": [
    "import numpy as np\n",
    "from scipy.stats import norm"
   ]
  },
  {
   "cell_type": "code",
   "execution_count": 7,
   "metadata": {},
   "outputs": [
    {
     "name": "stdout",
     "output_type": "stream",
     "text": [
      "theta_hat:  0.480\n",
      "se_hat: 0.011\n",
      "95%% confidence interval: (0.458, 0.503)\n",
      "Wald statistic: -1.713\n",
      "p-value: 0.087\n"
     ]
    }
   ],
   "source": [
    "n = 1919\n",
    "X = 922\n",
    "theta_hat = 922 / 1919\n",
    "se_hat = np.sqrt(theta_hat * (1 - theta_hat) / n)\n",
    "\n",
    "z_05 = norm.ppf(0.975)\n",
    "confidence_interval = (theta_hat - z_05 * se_hat, theta_hat + z_05 * se_hat)\n",
    "\n",
    "w = (theta_hat - 0.5) / se_hat\n",
    "p_value = 2 * (1 - norm.cdf(abs(w)))\n",
    "\n",
    "print(f'theta_hat:  {theta_hat:.3f}')\n",
    "print(f'se_hat: {se_hat:.3f}')\n",
    "print(f'95% confidence interval: ({confidence_interval[0]:.3f}, {confidence_interval[1]:.3f})')\n",
    "print(f'Wald statistic: {w:.3f}')\n",
    "print(f'p-value: {p_value:.3f}')"
   ]
  }
 ],
 "metadata": {
  "kernelspec": {
   "display_name": "uni",
   "language": "python",
   "name": "python3"
  },
  "language_info": {
   "codemirror_mode": {
    "name": "ipython",
    "version": 3
   },
   "file_extension": ".py",
   "mimetype": "text/x-python",
   "name": "python",
   "nbconvert_exporter": "python",
   "pygments_lexer": "ipython3",
   "version": "3.8.13 | packaged by conda-forge | (default, Mar 25 2022, 06:04:10) \n[GCC 10.3.0]"
  },
  "orig_nbformat": 4,
  "vscode": {
   "interpreter": {
    "hash": "479457d19d124b75d067f664f0e0759e9e397b556c1291d5d80b872e89cac1af"
   }
  }
 },
 "nbformat": 4,
 "nbformat_minor": 2
}
