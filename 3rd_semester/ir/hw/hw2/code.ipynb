{
  "cells": [
    {
      "cell_type": "code",
      "execution_count": 95,
      "metadata": {
        "id": "ahJKEL3cavkO"
      },
      "outputs": [],
      "source": [
        "__title__ = \"IR HW2\"\n",
        "__author__ = \"Mohammadreza Ghofrani\"\n",
        "__stdid__ = \"400131076\""
      ]
    },
    {
      "cell_type": "code",
      "execution_count": 97,
      "metadata": {
        "colab": {
          "base_uri": "https://localhost:8080/"
        },
        "id": "aKaOrAKravkS",
        "outputId": "7dfef277-b9e5-4b22-d4eb-2664525385b3"
      },
      "outputs": [
        {
          "data": {
            "text/plain": [
              "<torch._C.Generator at 0x7f125995d4d0>"
            ]
          },
          "execution_count": 97,
          "metadata": {},
          "output_type": "execute_result"
        }
      ],
      "source": [
        "import re\n",
        "from copy import deepcopy\n",
        "from collections import Counter\n",
        "\n",
        "import numpy as np\n",
        "import pandas as pd\n",
        "from tqdm import tqdm\n",
        "\n",
        "import torch\n",
        "import torch.nn as nn\n",
        "from torch.utils.tensorboard import SummaryWriter\n",
        "import torch.nn.functional as F\n",
        "from torch.utils.data import Dataset, DataLoader\n",
        "from torch.nn.utils.rnn import pack_padded_sequence\n",
        "import torch.optim as optim\n",
        "\n",
        "import gensim\n",
        "import gensim.downloader\n",
        "from gensim.matutils import cossim\n",
        "\n",
        "from transformers import AutoTokenizer, AutoModel\n",
        "\n",
        "torch.manual_seed(1)"
      ]
    },
    {
      "cell_type": "code",
      "execution_count": 98,
      "metadata": {
        "id": "qdDD4bSVavkT"
      },
      "outputs": [],
      "source": [
        "class config:\n",
        "    top_k = 10"
      ]
    },
    {
      "cell_type": "markdown",
      "metadata": {
        "id": "gPFAa2NxavkT"
      },
      "source": [
        "# Evaluation Functions"
      ]
    },
    {
      "cell_type": "code",
      "execution_count": 99,
      "metadata": {
        "id": "4Cr2XH2DavkU"
      },
      "outputs": [],
      "source": [
        "def reciprocal_rank(ref, pred):\n",
        "    for i, p in enumerate(pred):\n",
        "        if p in ref:\n",
        "            return 1 / (i+1)\n",
        "    return 0\n",
        "\n",
        "def MRR(ref_set, pred_set):\n",
        "    m = len(ref_set)\n",
        "    mean_reciprocal_rank = 0\n",
        "    for doc_id in ref_set:\n",
        "        mean_reciprocal_rank += reciprocal_rank(ref_set[doc_id], pred_set[doc_id]) / m\n",
        "    return mean_reciprocal_rank"
      ]
    },
    {
      "cell_type": "code",
      "execution_count": 100,
      "metadata": {
        "id": "in85CsQzavkV"
      },
      "outputs": [],
      "source": [
        "def p_at_k(ref, k_pred):\n",
        "    pred_relevent = len(set(k_pred).intersection(set(ref)))\n",
        "    return pred_relevent / len(k_pred)\n",
        "\n",
        "def MAP(ref_set, pred_set):\n",
        "    m = len(ref_set)\n",
        "    mean_average_precision = 0\n",
        "    for doc_id in ref_set:\n",
        "        sum_avg_precision = 0\n",
        "        ref, pred = ref_set[doc_id], pred_set[doc_id]\n",
        "\n",
        "        ref_unseen = deepcopy(ref)\n",
        "        for k in range(1, config.top_k+1):\n",
        "            k_pred = pred[:k]\n",
        "            if k_pred[-1] in ref_unseen:\n",
        "                ref_unseen.remove(k_pred[-1])\n",
        "                sum_avg_precision += (p_at_k(ref, k_pred) / len(ref))\n",
        "        mean_average_precision += (sum_avg_precision / m)\n",
        "\n",
        "    return mean_average_precision\n",
        "\n",
        "def AP(ref_set, pred_set, k):\n",
        "    m = len(ref_set)\n",
        "    avg_precision = 0\n",
        "    for doc_id in ref_set:\n",
        "        ref, k_pred = ref_set[doc_id], pred_set[doc_id][:k]\n",
        "        avg_precision += (p_at_k(ref, k_pred)/m)\n",
        "\n",
        "    return avg_precision"
      ]
    },
    {
      "cell_type": "markdown",
      "metadata": {
        "id": "_TvmTEs2avkV"
      },
      "source": [
        "# Reading Dataset"
      ]
    },
    {
      "cell_type": "code",
      "execution_count": null,
      "metadata": {
        "id": "2ZUXNmGPavkW"
      },
      "outputs": [],
      "source": [
        "train_df = pd.read_csv('data/train_data.csv')\n",
        "val_df = pd.read_csv('data/valid_data.csv')\n",
        "test_df = pd.read_csv('data/test_data.csv')"
      ]
    },
    {
      "cell_type": "code",
      "execution_count": null,
      "metadata": {
        "id": "-x84pAfDavkW"
      },
      "outputs": [],
      "source": [
        "query_answer_ref = dict()\n",
        "\n",
        "test_qid1_grouped = test_df.groupby('qid1')\n",
        "for qid1 in test_df.qid1.unique():\n",
        "    group = test_qid1_grouped.get_group(qid1)\n",
        "    query_answer_ref[qid1] = group['qid2'].values.tolist()\n",
        "\n",
        "query_answer_val_ref = dict()\n",
        "val_qid1_grouped = val_df.groupby('qid1')\n",
        "for qid1 in val_df.qid1.unique():\n",
        "    group = val_qid1_grouped.get_group(qid1)\n",
        "    query_answer_val_ref[qid1] = group['qid2'].values.tolist()"
      ]
    },
    {
      "cell_type": "markdown",
      "metadata": {
        "id": "8Uvsm_f8avkX"
      },
      "source": [
        "# Part 1"
      ]
    },
    {
      "cell_type": "code",
      "execution_count": 165,
      "metadata": {
        "colab": {
          "base_uri": "https://localhost:8080/",
          "height": 251,
          "referenced_widgets": [
            "0821434efabd4911a8a10774aaf7d5a2",
            "c1e2c6f7df224ce0b274f0dfbc4d0590",
            "8b587202017e44d99742013e9aae2ef8",
            "e40c53d96bac46c0b9db763ea5d97008",
            "7042634d057c4d2e80b30b20658cbea1",
            "81fa7a295f9a4aaf9086a9580626868f",
            "a11b1b0f2e1d4b3caeef1a0b10286e29",
            "46d3a2dcba63421f821a69d7b47968b6",
            "6fa1e3b58a134cd39d1e19f91dd3114c",
            "41dbaf047b1f452aa11f8ed0bab50834",
            "b56882daa1584284ac887924cd7db008",
            "34d0da8472a644b498e014332b6dd2ba",
            "94b3b3c579274ce8afbb8e3faa4e114d",
            "3c060d2bc62d48dd820ab3eef3e9a305",
            "fed5c3d6f70b43bca4c244868eebf1de",
            "f77f0c67bcf5491ea430aef6ea1b2f4c",
            "e59b67ff33454401a7edd272b4eb07a3",
            "5e2a1b13bc544b8994b7fff4fe27474b",
            "48a349dc1326402eb83128163d22a39a",
            "372e860e256842eb88d8b01f2e425925",
            "97257b4a9a2d48d5a872837d33f20266",
            "ef68a56e58674c438510bf719d6d90e1",
            "ed685e93f46849a396802841965e45a0",
            "f0a3c4b6c26f49de90be64f93f42d72e",
            "a47ddcc296d04a49bbcd467009433f12",
            "beb1354c8d6a4c2fb12581a2f6f1a1f3",
            "eadf473cfde340e9ba6208b10f0b6551",
            "de1ac104d73e4be98d0b253dc1d9efc5",
            "70d8f67cdae04b6a9d6faba3cc78f8f7",
            "bc6d2d3373bf44569ac3e21073d70863",
            "204e7385768f43a5a0f7e6e3c88c7490",
            "42925e5eecd74111ab77ed4afc19218e",
            "7b63b3d743e141c98d6a945c71a9ef08",
            "b746d6d120d34765b3774627e7b64f0d",
            "4bbd8e81bdf142148d4620c941f37c90",
            "7547b9f6dfae4acf836f425a94c34339",
            "2b26e1f0d88b4e298d7ecaedfe6f1690",
            "e90b0a183aa242cb96510b5d20033437",
            "8ebc8249508b4b6d81bdc95607960b83",
            "0de9b204e66d4aacb7ed9c0193f8f881",
            "a0c7eebc7cba402abbadeda3c6dc82d2",
            "b84c66415d0c46668baa8e13568175ab",
            "0daec651b99b430e8360dda5d42bdf0e",
            "f43f86c6f625437cae08bd63b389c433",
            "d49d5090f3ec405c869f452133672cb5",
            "921ac39f20b347dbaa5249c9a9d57c54",
            "c64c40ecb2bb4eaa979d8f87ab5f8414",
            "b1122e50d01f4a9086a7b34cfd8aa81c",
            "56a7fda650ca43138b8da02c029ac98e",
            "8db6bf79d5cd45fbb4eaf19fd15cccfb",
            "06c96884281b430caaf999a81e1bc837",
            "417bb0472cca4b2292bdaffdf6704d6c",
            "cb5b9d130d1846c0976e7ef86121294c",
            "46cfa68e8fea44219e8aed947998a174",
            "c1d08d418e2f4553ad034ad8ac4a203d"
          ]
        },
        "id": "bWNo0ZzjavkX",
        "outputId": "c7bc9247-2b5d-4b1f-d9e3-ca73d045307a"
      },
      "outputs": [
        {
          "data": {
            "application/vnd.jupyter.widget-view+json": {
              "model_id": "0821434efabd4911a8a10774aaf7d5a2",
              "version_major": 2,
              "version_minor": 0
            },
            "text/plain": [
              "Downloading:   0%|          | 0.00/481 [00:00<?, ?B/s]"
            ]
          },
          "metadata": {},
          "output_type": "display_data"
        },
        {
          "data": {
            "application/vnd.jupyter.widget-view+json": {
              "model_id": "34d0da8472a644b498e014332b6dd2ba",
              "version_major": 2,
              "version_minor": 0
            },
            "text/plain": [
              "Downloading:   0%|          | 0.00/899k [00:00<?, ?B/s]"
            ]
          },
          "metadata": {},
          "output_type": "display_data"
        },
        {
          "data": {
            "application/vnd.jupyter.widget-view+json": {
              "model_id": "ed685e93f46849a396802841965e45a0",
              "version_major": 2,
              "version_minor": 0
            },
            "text/plain": [
              "Downloading:   0%|          | 0.00/456k [00:00<?, ?B/s]"
            ]
          },
          "metadata": {},
          "output_type": "display_data"
        },
        {
          "data": {
            "application/vnd.jupyter.widget-view+json": {
              "model_id": "b746d6d120d34765b3774627e7b64f0d",
              "version_major": 2,
              "version_minor": 0
            },
            "text/plain": [
              "Downloading:   0%|          | 0.00/1.36M [00:00<?, ?B/s]"
            ]
          },
          "metadata": {},
          "output_type": "display_data"
        },
        {
          "data": {
            "application/vnd.jupyter.widget-view+json": {
              "model_id": "d49d5090f3ec405c869f452133672cb5",
              "version_major": 2,
              "version_minor": 0
            },
            "text/plain": [
              "Downloading:   0%|          | 0.00/501M [00:00<?, ?B/s]"
            ]
          },
          "metadata": {},
          "output_type": "display_data"
        },
        {
          "name": "stderr",
          "output_type": "stream",
          "text": [
            "Some weights of the model checkpoint at roberta-base were not used when initializing RobertaModel: ['lm_head.decoder.weight', 'lm_head.layer_norm.weight', 'lm_head.dense.weight', 'lm_head.layer_norm.bias', 'lm_head.dense.bias', 'lm_head.bias']\n",
            "- This IS expected if you are initializing RobertaModel from the checkpoint of a model trained on another task or with another architecture (e.g. initializing a BertForSequenceClassification model from a BertForPreTraining model).\n",
            "- This IS NOT expected if you are initializing RobertaModel from the checkpoint of a model that you expect to be exactly identical (initializing a BertForSequenceClassification model from a BertForSequenceClassification model).\n"
          ]
        }
      ],
      "source": [
        "tokenizer = AutoTokenizer.from_pretrained(\"roberta-base\")\n",
        "model = AutoModel.from_pretrained(\"roberta-base\")"
      ]
    },
    {
      "cell_type": "code",
      "execution_count": 166,
      "metadata": {
        "colab": {
          "base_uri": "https://localhost:8080/"
        },
        "id": "ZGf0WaJBavkY",
        "outputId": "25142398-14dd-41cc-dab5-718229c7200d"
      },
      "outputs": [
        {
          "name": "stderr",
          "output_type": "stream",
          "text": [
            "100%|██████████| 37250/37250 [06:14<00:00, 99.41it/s] \n"
          ]
        }
      ],
      "source": [
        "with torch.no_grad():\n",
        "    model.eval()\n",
        "    model.to('cuda')\n",
        "\n",
        "    doc_repr = dict()\n",
        "    for _, (doc_id, doc) in tqdm(train_df[['qid2', 'question2']].iterrows(), total=len(train_df)):\n",
        "        inputs = tokenizer(doc, return_tensors=\"pt\").to('cuda')\n",
        "        outputs = model(**inputs)\n",
        "        doc_repr[doc_id] = outputs.last_hidden_state.mean(dim=1).squeeze()"
      ]
    },
    {
      "cell_type": "code",
      "execution_count": 167,
      "metadata": {
        "colab": {
          "base_uri": "https://localhost:8080/"
        },
        "id": "o7i_xfMUavkY",
        "outputId": "c728ee6c-eb7c-4c7b-efba-69b8983ed972"
      },
      "outputs": [
        {
          "name": "stderr",
          "output_type": "stream",
          "text": [
            "100%|██████████| 980/980 [04:13<00:00,  3.87it/s]\n"
          ]
        }
      ],
      "source": [
        "with torch.no_grad():\n",
        "    model.eval()\n",
        "    model.to('cuda')\n",
        "    query_answer_bert = dict()\n",
        "    for _, (qid, qtext) in tqdm(test_df[['qid1', 'question1']].iterrows(), total=len(test_df)):\n",
        "        if qid in query_answer_bert:\n",
        "            continue\n",
        "\n",
        "        inputs = tokenizer(qtext, return_tensors=\"pt\").to('cuda')\n",
        "        output = model(**inputs)\n",
        "        query_vec = output.last_hidden_state.mean(dim=1).squeeze()\n",
        "\n",
        "        doc_score = []\n",
        "        for doc_id in doc_repr:\n",
        "            doc_vec = doc_repr[doc_id]\n",
        "\n",
        "            sim = F.cosine_similarity(query_vec, doc_vec, dim=0).item()\n",
        "            doc_score.append((doc_id, sim))\n",
        "\n",
        "        doc_score = pd.DataFrame(doc_score, columns =['id', 'score']).sort_values('score', ascending=False)\n",
        "        topk = doc_score.nlargest(n=config.top_k, columns='score')\n",
        "        query_answer_bert[qid] = topk['id'].tolist()"
      ]
    },
    {
      "cell_type": "markdown",
      "metadata": {
        "id": "TbK51hzaavkZ"
      },
      "source": [
        "## Evaluation"
      ]
    },
    {
      "cell_type": "code",
      "execution_count": 168,
      "metadata": {
        "colab": {
          "base_uri": "https://localhost:8080/"
        },
        "id": "2L546KGTavkZ",
        "outputId": "4c4b48ba-4a28-453d-cd11-39b06f3e69ac"
      },
      "outputs": [
        {
          "name": "stdout",
          "output_type": "stream",
          "text": [
            "map= 0.45695022228266463\n",
            "mrr= 0.7656936290497952\n",
            "ap@5= 0.4999999999999992\n",
            "ap@10= 0.3458904109589043\n"
          ]
        }
      ],
      "source": [
        "map_ = MAP(ref_set=query_answer_ref, pred_set=query_answer_bert)\n",
        "mrr = MRR(ref_set=query_answer_ref, pred_set=query_answer_bert)\n",
        "avg_p_at_5 = AP(ref_set=query_answer_ref, pred_set=query_answer_bert, k=5)\n",
        "avg_p_at_10 = AP(ref_set=query_answer_ref, pred_set=query_answer_bert, k=10)\n",
        "print('map=', map_)\n",
        "print('mrr=', mrr)\n",
        "print('ap@5=', avg_p_at_5)\n",
        "print('ap@10=', avg_p_at_10)"
      ]
    },
    {
      "cell_type": "markdown",
      "metadata": {
        "id": "6K2YKS1CavkZ"
      },
      "source": [
        "# Part 2"
      ]
    },
    {
      "cell_type": "code",
      "execution_count": 115,
      "metadata": {
        "id": "hMhiHUAUavka"
      },
      "outputs": [],
      "source": [
        "DEVICE = 'cuda'\n",
        "N_EPOCHS = 10\n",
        "THRESHOLD = 0.5\n",
        "\n",
        "MAX_LENGTH = 64\n",
        "HIDDEN_DIM = 128\n",
        "EMBEDDING_DIM = 300\n",
        "\n",
        "N_LOGGING_STEPS = 1000"
      ]
    },
    {
      "cell_type": "code",
      "execution_count": 152,
      "metadata": {
        "id": "ye2wA_Evavka"
      },
      "outputs": [],
      "source": [
        "class SiameseDataset(Dataset):\n",
        "    def __init__(self, embedding, dataframe):\n",
        "        self.id1_list = dataframe['qid1'].to_list()\n",
        "        self.sent1_list = dataframe['question1'].tolist()\n",
        "        self.id2_list = dataframe['qid2'].tolist()\n",
        "        self.sent2_list = dataframe['question2'].tolist()\n",
        "        self.label_list = dataframe['is_duplicate'].tolist()\n",
        "        self.embedding = embedding\n",
        "\n",
        "    def __len__(self):\n",
        "        return len(self.sent1_list)\n",
        "\n",
        "    def prepare_sequence(self, seq):\n",
        "        embedding = list()\n",
        "        for i in range(MAX_LENGTH):\n",
        "            if i < len(seq):\n",
        "                w = seq[i]\n",
        "                if w in self.embedding:\n",
        "                    embedding.append(self.embedding[w])\n",
        "                else:\n",
        "                    embedding.append(np.ones(EMBEDDING_DIM))\n",
        "            else:\n",
        "                embedding.append(np.zeros(EMBEDDING_DIM))\n",
        "        return torch.tensor(np.array(embedding), dtype=torch.float)\n",
        "\n",
        "    def __getitem__(self, index):\n",
        "        sent1 = self.sent1_list[index]\n",
        "        sent2 = self.sent2_list[index]\n",
        "        label = self.label_list[index]\n",
        "\n",
        "        sent1_seq = list(filter(None, re.split('\\W+', sent1.lower())))\n",
        "        sent1_embedding = self.prepare_sequence(sent1_seq)\n",
        "        sent2_seq = list(filter(None, re.split('\\W+', sent2.lower())))\n",
        "        sent2_embedding = self.prepare_sequence(sent2_seq)\n",
        "        label_tensor = torch.tensor([label], dtype=torch.float)\n",
        "\n",
        "        return {\n",
        "            'id1': self.id1_list[index],\n",
        "            'sentence1': sent1_embedding,\n",
        "            'sentence1_len': len(sent1_seq),\n",
        "            'id2': self.id2_list[index],\n",
        "            'sentence2': sent2_embedding,\n",
        "            'sentence2_len': len(sent2_seq),\n",
        "            'label': label_tensor\n",
        "        }"
      ]
    },
    {
      "cell_type": "code",
      "execution_count": 153,
      "metadata": {
        "id": "e17DuV4_avka"
      },
      "outputs": [],
      "source": [
        "class SiameseNN(nn.Module):\n",
        "    def __init__(self, embedding_dim, hidden_dim, \n",
        "                 bidirectional=False, initial_embedding=None, output_composition='linear'):\n",
        "        super(SiameseNN, self).__init__()\n",
        "        target_size = 1\n",
        "\n",
        "        self.bidirectional = bidirectional\n",
        "        self.lstm_layer = nn.LSTM(embedding_dim, hidden_dim,\n",
        "                                  bidirectional=bidirectional, batch_first=True)\n",
        "        self.dropout = nn.Dropout(p=0.2)\n",
        "\n",
        "        self.output_composition = output_composition\n",
        "        if self.output_composition == 'cosine':\n",
        "            self.cls = nn.CosineSimilarity(dim=1)\n",
        "        elif self.output_composition == 'linear':\n",
        "            in_features = 4*hidden_dim if bidirectional else 2*hidden_dim\n",
        "            self.cls = nn.Linear(in_features, target_size)\n",
        "        else:\n",
        "            raise NotImplementedError(\"Only 'cosine' and 'linear' are implemented for output_composition\")\n",
        "\n",
        "    def get_text_embedding(self, sent):\n",
        "        seq = sent.split()\n",
        "        idxs = [self.word2id.get(w, 0) for w in seq]\n",
        "        idxs = torch.tensor(idxs, dtype=torch.long)\n",
        "        return self._text_embedder(idxs)\n",
        "\n",
        "    def get_text_similarity(self, sent1_embed, sent2_embed):\n",
        "        if self.output_composition == 'cosine':\n",
        "            sim_score = self.cls(sent1_embed, sent2_embed)\n",
        "            sim_score = torch.clamp(sim_score, min=0.0, max=1.0)\n",
        "            sim_score = sim_score.unsqueeze(dim=1)\n",
        "\n",
        "        elif self.output_composition == 'linear':\n",
        "            cls_out = self.cls(torch.cat((sent1_embed, sent2_embed), dim=1))\n",
        "            sim_score = torch.sigmoid(cls_out)\n",
        "\n",
        "        return sim_score\n",
        "\n",
        "    def _text_embedder(self, sent_embed, sent_len):\n",
        "        pack_pad_embed = pack_padded_sequence(sent_embed, sent_len, batch_first=True, enforce_sorted=False)\n",
        "        out, (hidden, ct) = self.lstm_layer(pack_pad_embed)\n",
        "        embedding = self.dropout(hidden.squeeze(dim=0))\n",
        "        if self.bidirectional:\n",
        "            embedding = torch.cat((embedding[0], embedding[1]), dim=1)\n",
        "        return embedding\n",
        "\n",
        "    def forward(self, sent1_embed, sent1_length, sent2_embed, sent2_length):\n",
        "        embed1 = self._text_embedder(sent1_embed, sent1_length)\n",
        "        embed2 = self._text_embedder(sent2_embed, sent2_length)\n",
        "\n",
        "        sim_score = self.get_text_similarity(embed1, embed2)\n",
        "        return sim_score"
      ]
    },
    {
      "cell_type": "code",
      "execution_count": 154,
      "metadata": {
        "id": "ZtzvCgKNaqkC"
      },
      "outputs": [],
      "source": [
        "def train_document_embedder(model, train_loader, device):\n",
        "    model.eval()\n",
        "    with torch.no_grad():\n",
        "        model.to(device)\n",
        "\n",
        "        doc_ids = list()\n",
        "        doc_embedding = list()\n",
        "        doc_init_embedding = list()\n",
        "        for data in (pbar := tqdm(train_loader)):\n",
        "            qid2 = data['id2'].to(device)\n",
        "            sent2_embedding = data['sentence2'].to(device)\n",
        "            sent2_length = data['sentence2_len'].to(torch.int64)\n",
        "            batch_doc_reprs = model._text_embedder(sent2_embedding, sent2_length)\n",
        "            for doc_id, sent2_embed, doc_embed in zip(qid2, sent2_embedding, batch_doc_reprs):\n",
        "                _doc_id = doc_id.item()\n",
        "                if _doc_id not in doc_ids:\n",
        "                    doc_ids.append(_doc_id)\n",
        "                    doc_init_embedding.append(sent2_embed.unsqueeze(dim=0))\n",
        "                    doc_embedding.append(doc_embed.unsqueeze(dim=0))\n",
        "\n",
        "    doc_embedding = torch.cat(doc_embedding, dim=0)\n",
        "    doc_init_embedding = torch.cat(doc_init_embedding, dim=0)\n",
        "    return doc_ids, doc_embedding\n",
        "\n",
        "def get_query_answer(model, test_loader, doc_ids, doc_embedding, device):\n",
        "    model.eval()\n",
        "    with torch.no_grad():\n",
        "        model.to(device)\n",
        "        query_answer = dict()\n",
        "        for data in (pbar := tqdm(test_loader)):\n",
        "            batch_qid = data['id1'].to(device)\n",
        "            query_embedding = data['sentence1'].to(device)\n",
        "            query_length = data['sentence1_len'].to(torch.int64)\n",
        "            batch_query_reprs = model._text_embedder(query_embedding, query_length)\n",
        "            for qid, query_vec in zip(batch_qid, batch_query_reprs):\n",
        "                _qid = qid.item()\n",
        "                if _qid in query_answer:\n",
        "                    continue\n",
        "\n",
        "                similarities = model.get_text_similarity(query_vec.repeat((doc_embedding.shape[0],1)), doc_embedding).squeeze().tolist()\n",
        "                query_answer[_qid] = [_id for _, _id in sorted(zip(similarities, doc_ids), reverse=True)]\n",
        "    return query_answer"
      ]
    },
    {
      "cell_type": "code",
      "execution_count": 157,
      "metadata": {
        "id": "TR3dm_j5avkb"
      },
      "outputs": [],
      "source": [
        "def eval(model, loss_function, train_loader, dev_loader, device, epoch):\n",
        "    model.eval()\n",
        "    with torch.no_grad():\n",
        "        print(f'epoch {epoch+1}', end=' ')\n",
        "        for desc, data_loader in [('train', train_loader), ('val', dev_loader)]:\n",
        "            n = 0\n",
        "            acc = 0\n",
        "            total_loss = 0\n",
        "            for data in data_loader:\n",
        "                y = data['label'].to(device)\n",
        "                sentence1 = data['sentence1'].to(device)\n",
        "                sent1_length = data['sentence1_len'].to(torch.int64)\n",
        "                sentence2 = data['sentence2'].to(device)\n",
        "                sent2_length = data['sentence2_len'].to(torch.int64)\n",
        "                sim_score = model(sentence1, sent1_length, sentence2, sent2_length)\n",
        "                y_pred = (sim_score > THRESHOLD).float()\n",
        "\n",
        "                n += 1\n",
        "                acc += (y_pred == y).sum().item() / y.shape[0]\n",
        "                total_loss += loss_function(sim_score, y).item()\n",
        "            acc = acc/n\n",
        "            total_loss = total_loss / n\n",
        "            print(f'{desc}-acc {acc:.3f} {desc}-loss {total_loss:.3f}', end=' ')\n",
        "        print()\n",
        "        model.train()\n",
        "\n",
        "def train(model, n_epochs, train_loader, val_loader, device):\n",
        "    model.train()\n",
        "    loss_function = nn.BCELoss()\n",
        "    optimizer = optim.Adam(model.parameters(), lr=1e-4)\n",
        "\n",
        "    global_steps = 0\n",
        "    model.to(device)\n",
        "    for epoch in range(n_epochs):\n",
        "        for data in train_loader:\n",
        "            global_steps += 1\n",
        "            model.zero_grad()\n",
        "\n",
        "            y = data['label'].to(device)\n",
        "            sentence1 = data['sentence1'].to(device)\n",
        "            sent1_length = data['sentence1_len'].to(torch.int64)\n",
        "            sentence2 = data['sentence2'].to(device)\n",
        "            sent2_length = data['sentence2_len'].to(torch.int64)\n",
        "\n",
        "            sim_score = model(sentence1, sent1_length, sentence2, sent2_length)\n",
        "\n",
        "            loss = loss_function(sim_score, y)\n",
        "            loss.backward()\n",
        "            optimizer.step()\n",
        "\n",
        "        eval(model, loss_function, train_loader, val_loader, device, epoch)\n",
        "    return model"
      ]
    },
    {
      "cell_type": "markdown",
      "metadata": {
        "id": "JRwcmYAKIs3A"
      },
      "source": [
        "## Word2Vec"
      ]
    },
    {
      "cell_type": "code",
      "execution_count": null,
      "metadata": {
        "colab": {
          "base_uri": "https://localhost:8080/"
        },
        "id": "sxYHrrFGIxuf",
        "outputId": "ae40f94f-1dca-496d-f64a-0f902ee8f86f"
      },
      "outputs": [
        {
          "name": "stdout",
          "output_type": "stream",
          "text": [
            "[=================================================-] 99.7% 1657.4/1662.8MB downloaded\n"
          ]
        }
      ],
      "source": [
        "word2vec = gensim.downloader.load('word2vec-google-news-300')"
      ]
    },
    {
      "cell_type": "code",
      "execution_count": null,
      "metadata": {
        "id": "mQtRMYAlavka"
      },
      "outputs": [],
      "source": [
        "train_set = SiameseDataset(word2vec, train_df)\n",
        "val_set = SiameseDataset(word2vec, val_df)\n",
        "test_set = SiameseDataset(word2vec, test_df)\n",
        "\n",
        "train_loader = DataLoader(train_set, batch_size=32, shuffle=True, num_workers=0)\n",
        "val_loader = DataLoader(val_set, batch_size=16, shuffle=False, num_workers=0)\n",
        "test_loader = DataLoader(test_set, batch_size=16, shuffle=False, num_workers=0)"
      ]
    },
    {
      "cell_type": "markdown",
      "metadata": {
        "id": "QzkLvI8dJMBH"
      },
      "source": [
        "## Uni-directional"
      ]
    },
    {
      "cell_type": "markdown",
      "metadata": {
        "id": "IyEqXNOzJbAA"
      },
      "source": [
        "#### Linear"
      ]
    },
    {
      "cell_type": "code",
      "execution_count": 162,
      "metadata": {
        "colab": {
          "base_uri": "https://localhost:8080/"
        },
        "id": "a_MatHShqiaw",
        "outputId": "54a13671-9c52-46d7-b638-e345d3b3a705"
      },
      "outputs": [
        {
          "name": "stdout",
          "output_type": "stream",
          "text": [
            "epoch 1 train-acc 0.802 train-loss 0.432 val-acc 0.899 val-loss 0.340 \n",
            "epoch 2 train-acc 0.829 train-loss 0.392 val-acc 0.872 val-loss 0.349 \n",
            "epoch 3 train-acc 0.852 train-loss 0.353 val-acc 0.900 val-loss 0.275 \n",
            "epoch 4 train-acc 0.866 train-loss 0.333 val-acc 0.900 val-loss 0.292 \n",
            "epoch 5 train-acc 0.870 train-loss 0.324 val-acc 0.895 val-loss 0.298 \n",
            "epoch 6 train-acc 0.875 train-loss 0.313 val-acc 0.909 val-loss 0.266 \n",
            "epoch 7 train-acc 0.883 train-loss 0.300 val-acc 0.910 val-loss 0.253 \n",
            "epoch 8 train-acc 0.887 train-loss 0.294 val-acc 0.884 val-loss 0.305 \n",
            "epoch 9 train-acc 0.892 train-loss 0.283 val-acc 0.896 val-loss 0.279 \n",
            "epoch 10 train-acc 0.895 train-loss 0.280 val-acc 0.899 val-loss 0.293 \n"
          ]
        }
      ],
      "source": [
        "n_epochs = 10\n",
        "model = SiameseNN(EMBEDDING_DIM, HIDDEN_DIM, bidirectional=False, output_composition='linear')\n",
        "model = train(model, n_epochs, train_loader, val_loader, DEVICE)"
      ]
    },
    {
      "cell_type": "code",
      "execution_count": 163,
      "metadata": {
        "colab": {
          "base_uri": "https://localhost:8080/"
        },
        "id": "S1pHKNyhKEu0",
        "outputId": "d3aa118c-ef53-4152-c689-4d7691098929"
      },
      "outputs": [
        {
          "name": "stderr",
          "output_type": "stream",
          "text": [
            "100%|██████████| 1165/1165 [00:17<00:00, 68.36it/s]\n",
            "100%|██████████| 62/62 [00:01<00:00, 36.15it/s]\n"
          ]
        },
        {
          "name": "stdout",
          "output_type": "stream",
          "text": [
            "\n",
            "map= 0.0006030270132897983\n",
            "mrr= 0.0052720079008686934\n",
            "ap@5= 0.00410958904109589\n",
            "ap@10= 0.0027397260273972603\n"
          ]
        }
      ],
      "source": [
        "train_doc_ids, train_doc_embedding = train_document_embedder(model, train_loader, DEVICE)\n",
        "query_answer = get_query_answer(model, test_loader, train_doc_ids, train_doc_embedding, DEVICE)\n",
        "\n",
        "map_ = MAP(ref_set=query_answer_ref, pred_set=query_answer)\n",
        "mrr = MRR(ref_set=query_answer_ref, pred_set=query_answer)\n",
        "avg_p_at_5 = AP(ref_set=query_answer_ref, pred_set=query_answer, k=5)\n",
        "avg_p_at_10 = AP(ref_set=query_answer_ref, pred_set=query_answer, k=10)\n",
        "\n",
        "print()\n",
        "print('map=', map_)\n",
        "print('mrr=', mrr)\n",
        "print('ap@5=', avg_p_at_5)\n",
        "print('ap@10=', avg_p_at_10)"
      ]
    },
    {
      "cell_type": "markdown",
      "metadata": {
        "id": "-xcfRwEDJc6t"
      },
      "source": [
        "#### Cosine"
      ]
    },
    {
      "cell_type": "code",
      "execution_count": 169,
      "metadata": {
        "colab": {
          "base_uri": "https://localhost:8080/"
        },
        "id": "lgUi1S44ZjB3",
        "outputId": "1e8a5608-f54d-44f3-cb4f-50a377f26b8f"
      },
      "outputs": [
        {
          "name": "stdout",
          "output_type": "stream",
          "text": [
            "epoch 1 train-acc 0.800 train-loss 0.990 val-acc 0.899 val-loss 0.524 \n",
            "epoch 2 train-acc 0.802 train-loss 0.967 val-acc 0.899 val-loss 0.492 \n",
            "epoch 3 train-acc 0.809 train-loss 0.936 val-acc 0.900 val-loss 0.464 \n",
            "epoch 4 train-acc 0.815 train-loss 0.842 val-acc 0.907 val-loss 0.358 \n",
            "epoch 5 train-acc 0.826 train-loss 0.810 val-acc 0.910 val-loss 0.335 \n",
            "epoch 6 train-acc 0.833 train-loss 0.788 val-acc 0.909 val-loss 0.310 \n",
            "epoch 7 train-acc 0.849 train-loss 0.760 val-acc 0.915 val-loss 0.294 \n",
            "epoch 8 train-acc 0.846 train-loss 0.784 val-acc 0.923 val-loss 0.283 \n",
            "epoch 9 train-acc 0.846 train-loss 0.645 val-acc 0.915 val-loss 0.389 \n",
            "epoch 10 train-acc 0.853 train-loss 0.750 val-acc 0.919 val-loss 0.292 \n"
          ]
        }
      ],
      "source": [
        "n_epochs = 10\n",
        "model = SiameseNN(EMBEDDING_DIM, HIDDEN_DIM,bidirectional=False, output_composition='cosine')\n",
        "model = train(model, n_epochs, train_loader, val_loader, DEVICE)"
      ]
    },
    {
      "cell_type": "code",
      "execution_count": 170,
      "metadata": {
        "colab": {
          "base_uri": "https://localhost:8080/"
        },
        "id": "31ua_SDLaMka",
        "outputId": "90edd148-0703-4609-804f-8e0138a96bc7"
      },
      "outputs": [
        {
          "name": "stderr",
          "output_type": "stream",
          "text": [
            "100%|██████████| 1165/1165 [00:17<00:00, 66.06it/s]\n",
            "100%|██████████| 62/62 [00:01<00:00, 33.69it/s]"
          ]
        },
        {
          "name": "stdout",
          "output_type": "stream",
          "text": [
            "\n",
            "map= 0.26169488741973956\n",
            "mrr= 0.5703474654126499\n",
            "ap@5= 0.29863013698630103\n",
            "ap@10= 0.21232876712328744\n"
          ]
        },
        {
          "name": "stderr",
          "output_type": "stream",
          "text": [
            "\n"
          ]
        }
      ],
      "source": [
        "train_doc_ids, train_doc_embedding = train_document_embedder(model, train_loader, DEVICE)\n",
        "query_answer = get_query_answer(model, test_loader, train_doc_ids, train_doc_embedding, DEVICE)\n",
        "\n",
        "map_ = MAP(ref_set=query_answer_ref, pred_set=query_answer)\n",
        "mrr = MRR(ref_set=query_answer_ref, pred_set=query_answer)\n",
        "avg_p_at_5 = AP(ref_set=query_answer_ref, pred_set=query_answer, k=5)\n",
        "avg_p_at_10 = AP(ref_set=query_answer_ref, pred_set=query_answer, k=10)\n",
        "\n",
        "print()\n",
        "print('map=', map_)\n",
        "print('mrr=', mrr)\n",
        "print('ap@5=', avg_p_at_5)\n",
        "print('ap@10=', avg_p_at_10)"
      ]
    },
    {
      "cell_type": "markdown",
      "metadata": {
        "id": "FyIqHGB0Je5u"
      },
      "source": [
        "### Bi-directional"
      ]
    },
    {
      "cell_type": "markdown",
      "metadata": {
        "id": "MxpOur9dJheY"
      },
      "source": [
        "#### Linear"
      ]
    },
    {
      "cell_type": "code",
      "execution_count": 171,
      "metadata": {
        "colab": {
          "base_uri": "https://localhost:8080/"
        },
        "id": "kFZL9hLMrPFm",
        "outputId": "b6ce2599-f740-4eb8-e106-bd65343d22ec"
      },
      "outputs": [
        {
          "name": "stdout",
          "output_type": "stream",
          "text": [
            "epoch 1 train-acc 0.827 train-loss 0.391 val-acc 0.902 val-loss 0.294 \n",
            "epoch 2 train-acc 0.851 train-loss 0.353 val-acc 0.916 val-loss 0.272 \n",
            "epoch 3 train-acc 0.868 train-loss 0.334 val-acc 0.899 val-loss 0.280 \n",
            "epoch 4 train-acc 0.882 train-loss 0.308 val-acc 0.905 val-loss 0.267 \n",
            "epoch 5 train-acc 0.887 train-loss 0.298 val-acc 0.895 val-loss 0.295 \n",
            "epoch 6 train-acc 0.892 train-loss 0.288 val-acc 0.917 val-loss 0.256 \n",
            "epoch 7 train-acc 0.898 train-loss 0.273 val-acc 0.912 val-loss 0.259 \n",
            "epoch 8 train-acc 0.901 train-loss 0.268 val-acc 0.907 val-loss 0.268 \n",
            "epoch 9 train-acc 0.904 train-loss 0.260 val-acc 0.913 val-loss 0.268 \n",
            "epoch 10 train-acc 0.906 train-loss 0.257 val-acc 0.923 val-loss 0.241 \n"
          ]
        }
      ],
      "source": [
        "n_epochs = 10\n",
        "model = SiameseNN(EMBEDDING_DIM, HIDDEN_DIM, bidirectional=True, output_composition='linear')\n",
        "model = train(model, n_epochs, train_loader, val_loader, DEVICE)"
      ]
    },
    {
      "cell_type": "code",
      "execution_count": 172,
      "metadata": {
        "colab": {
          "base_uri": "https://localhost:8080/"
        },
        "id": "TRrdpci2bcml",
        "outputId": "09655be9-4ea3-4fba-8cb2-c47d4b3214a4"
      },
      "outputs": [
        {
          "name": "stderr",
          "output_type": "stream",
          "text": [
            "100%|██████████| 1165/1165 [00:17<00:00, 65.89it/s]\n",
            "100%|██████████| 62/62 [00:01<00:00, 34.65it/s]\n"
          ]
        },
        {
          "name": "stdout",
          "output_type": "stream",
          "text": [
            "\n",
            "map= 7.872775940796725e-05\n",
            "mrr= 0.003760231778857556\n",
            "ap@5= 0.0013698630136986301\n",
            "ap@10= 0.0006849315068493151\n"
          ]
        }
      ],
      "source": [
        "train_doc_ids, train_doc_embedding = train_document_embedder(model, train_loader, DEVICE)\n",
        "query_answer = get_query_answer(model, test_loader, train_doc_ids, train_doc_embedding, DEVICE)\n",
        "\n",
        "map_ = MAP(ref_set=query_answer_ref, pred_set=query_answer)\n",
        "mrr = MRR(ref_set=query_answer_ref, pred_set=query_answer)\n",
        "avg_p_at_5 = AP(ref_set=query_answer_ref, pred_set=query_answer, k=5)\n",
        "avg_p_at_10 = AP(ref_set=query_answer_ref, pred_set=query_answer, k=10)\n",
        "\n",
        "print()\n",
        "print('map=', map_)\n",
        "print('mrr=', mrr)\n",
        "print('ap@5=', avg_p_at_5)\n",
        "print('ap@10=', avg_p_at_10)"
      ]
    },
    {
      "cell_type": "markdown",
      "metadata": {
        "id": "lazqtIk_JilL"
      },
      "source": [
        "#### Cosine"
      ]
    },
    {
      "cell_type": "code",
      "execution_count": null,
      "metadata": {
        "id": "z0lJrsXnbep3"
      },
      "outputs": [],
      "source": [
        "n_epochs = 10\n",
        "model = SiameseNN(EMBEDDING_DIM, HIDDEN_DIM, bidirectional=True, output_composition='cosine')\n",
        "model = train(model, n_epochs, train_loader, val_loader, DEVICE)"
      ]
    },
    {
      "cell_type": "code",
      "execution_count": 174,
      "metadata": {
        "colab": {
          "base_uri": "https://localhost:8080/"
        },
        "id": "QvEPVnWdbiU8",
        "outputId": "49d080f8-5f2c-42a2-bb11-7f92040794d0"
      },
      "outputs": [
        {
          "name": "stderr",
          "output_type": "stream",
          "text": [
            "100%|██████████| 1165/1165 [00:18<00:00, 62.68it/s]\n",
            "100%|██████████| 62/62 [00:02<00:00, 30.20it/s]"
          ]
        },
        {
          "name": "stdout",
          "output_type": "stream",
          "text": [
            "\n",
            "map= 0.21823231551812347\n",
            "mrr= 0.5327716366396211\n",
            "ap@5= 0.2671232876712327\n",
            "ap@10= 0.18630136986301346\n"
          ]
        },
        {
          "name": "stderr",
          "output_type": "stream",
          "text": [
            "\n"
          ]
        }
      ],
      "source": [
        "train_doc_ids, train_doc_embedding = train_document_embedder(model, train_loader, DEVICE)\n",
        "query_answer = get_query_answer(model, test_loader, train_doc_ids, train_doc_embedding, DEVICE)\n",
        "\n",
        "map_ = MAP(ref_set=query_answer_ref, pred_set=query_answer)\n",
        "mrr = MRR(ref_set=query_answer_ref, pred_set=query_answer)\n",
        "avg_p_at_5 = AP(ref_set=query_answer_ref, pred_set=query_answer, k=5)\n",
        "avg_p_at_10 = AP(ref_set=query_answer_ref, pred_set=query_answer, k=10)\n",
        "\n",
        "print()\n",
        "print('map=', map_)\n",
        "print('mrr=', mrr)\n",
        "print('ap@5=', avg_p_at_5)\n",
        "print('ap@10=', avg_p_at_10)"
      ]
    },
    {
      "cell_type": "markdown",
      "metadata": {
        "id": "v_PssWTDJkf5"
      },
      "source": [
        "## FastText"
      ]
    },
    {
      "cell_type": "code",
      "execution_count": 128,
      "metadata": {
        "colab": {
          "base_uri": "https://localhost:8080/"
        },
        "id": "cJyMZJfoLzUQ",
        "outputId": "51999e5c-37c6-4fa3-b185-bba2178f0e75"
      },
      "outputs": [
        {
          "name": "stdout",
          "output_type": "stream",
          "text": [
            "[=================================================-] 99.8% 956.4/958.4MB downloaded\n"
          ]
        }
      ],
      "source": [
        "fasttext = gensim.downloader.load('fasttext-wiki-news-subwords-300')"
      ]
    },
    {
      "cell_type": "code",
      "execution_count": 130,
      "metadata": {
        "id": "VRJVOvfpL1Gu"
      },
      "outputs": [],
      "source": [
        "train_set = SiameseDataset(fasttext, train_df)\n",
        "val_set = SiameseDataset(fasttext, val_df)\n",
        "test_set = SiameseDataset(fasttext, test_df)\n",
        "\n",
        "train_loader = DataLoader(train_set, batch_size=32, shuffle=True, num_workers=0)\n",
        "val_loader = DataLoader(val_set, batch_size=16, shuffle=False, num_workers=0)\n",
        "test_loader = DataLoader(test_set, batch_size=16, shuffle=False, num_workers=0)"
      ]
    },
    {
      "cell_type": "markdown",
      "metadata": {
        "id": "EmeVOX__b1k0"
      },
      "source": [
        "### Uni-directional"
      ]
    },
    {
      "cell_type": "markdown",
      "metadata": {
        "id": "VmHVYpIZb1k0"
      },
      "source": [
        "#### Linear"
      ]
    },
    {
      "cell_type": "code",
      "execution_count": 179,
      "metadata": {
        "colab": {
          "base_uri": "https://localhost:8080/"
        },
        "id": "xSDSjoZVb1k0",
        "outputId": "9f9d2d70-631d-4a2f-dc86-652803fe544c"
      },
      "outputs": [
        {
          "name": "stdout",
          "output_type": "stream",
          "text": [
            "epoch 1 train-acc 0.806 train-loss 0.415 val-acc 0.910 val-loss 0.298 \n",
            "epoch 2 train-acc 0.842 train-loss 0.370 val-acc 0.894 val-loss 0.314 \n",
            "epoch 3 train-acc 0.859 train-loss 0.347 val-acc 0.879 val-loss 0.307 \n",
            "epoch 4 train-acc 0.864 train-loss 0.333 val-acc 0.907 val-loss 0.262 \n",
            "epoch 5 train-acc 0.867 train-loss 0.334 val-acc 0.873 val-loss 0.333 \n",
            "epoch 6 train-acc 0.870 train-loss 0.319 val-acc 0.915 val-loss 0.244 \n",
            "epoch 7 train-acc 0.880 train-loss 0.311 val-acc 0.883 val-loss 0.312 \n",
            "epoch 8 train-acc 0.883 train-loss 0.296 val-acc 0.901 val-loss 0.264 \n",
            "epoch 9 train-acc 0.886 train-loss 0.291 val-acc 0.911 val-loss 0.251 \n",
            "epoch 10 train-acc 0.880 train-loss 0.302 val-acc 0.922 val-loss 0.227 \n"
          ]
        }
      ],
      "source": [
        "n_epochs = 10\n",
        "model = SiameseNN(EMBEDDING_DIM, HIDDEN_DIM,bidirectional=False, output_composition='linear')\n",
        "model = train(model, n_epochs, train_loader, val_loader, DEVICE)"
      ]
    },
    {
      "cell_type": "code",
      "execution_count": 181,
      "metadata": {
        "colab": {
          "base_uri": "https://localhost:8080/"
        },
        "id": "kdfoem8Zuevd",
        "outputId": "2640b703-0f0c-4d1e-e548-502a703c4698"
      },
      "outputs": [
        {
          "name": "stderr",
          "output_type": "stream",
          "text": [
            "100%|██████████| 1165/1165 [00:18<00:00, 63.49it/s]\n",
            "100%|██████████| 62/62 [00:01<00:00, 34.00it/s]"
          ]
        },
        {
          "name": "stdout",
          "output_type": "stream",
          "text": [
            "\n",
            "map= 0.00020924886416955632\n",
            "mrr= 0.003706966052230346\n",
            "ap@5= 0.0\n",
            "ap@10= 0.0020547945205479454\n"
          ]
        },
        {
          "name": "stderr",
          "output_type": "stream",
          "text": [
            "\n"
          ]
        }
      ],
      "source": [
        "train_doc_ids, train_doc_embedding = train_document_embedder(model, train_loader, DEVICE)\n",
        "query_answer = get_query_answer(model, test_loader, train_doc_ids, train_doc_embedding, DEVICE)\n",
        "\n",
        "map_ = MAP(ref_set=query_answer_ref, pred_set=query_answer)\n",
        "mrr = MRR(ref_set=query_answer_ref, pred_set=query_answer)\n",
        "avg_p_at_5 = AP(ref_set=query_answer_ref, pred_set=query_answer, k=5)\n",
        "avg_p_at_10 = AP(ref_set=query_answer_ref, pred_set=query_answer, k=10)\n",
        "\n",
        "print()\n",
        "print('map=', map_)\n",
        "print('mrr=', mrr)\n",
        "print('ap@5=', avg_p_at_5)\n",
        "print('ap@10=', avg_p_at_10)"
      ]
    },
    {
      "cell_type": "markdown",
      "metadata": {
        "id": "a0uXCYf7b1k2"
      },
      "source": [
        "#### Cosine"
      ]
    },
    {
      "cell_type": "code",
      "execution_count": 177,
      "metadata": {
        "colab": {
          "base_uri": "https://localhost:8080/"
        },
        "id": "sfvy4rTNb1k2",
        "outputId": "35cfa7d7-cecf-48fc-f27a-d4a256d22b62"
      },
      "outputs": [
        {
          "name": "stdout",
          "output_type": "stream",
          "text": [
            "epoch 1 train-acc 0.800 train-loss 1.069 val-acc 0.899 val-loss 0.525 \n",
            "epoch 2 train-acc 0.801 train-loss 0.998 val-acc 0.899 val-loss 0.414 \n",
            "epoch 3 train-acc 0.804 train-loss 0.900 val-acc 0.898 val-loss 0.386 \n",
            "epoch 4 train-acc 0.813 train-loss 0.756 val-acc 0.903 val-loss 0.357 \n",
            "epoch 5 train-acc 0.830 train-loss 0.825 val-acc 0.910 val-loss 0.330 \n",
            "epoch 6 train-acc 0.835 train-loss 0.688 val-acc 0.913 val-loss 0.294 \n",
            "epoch 7 train-acc 0.853 train-loss 0.769 val-acc 0.909 val-loss 0.276 \n",
            "epoch 8 train-acc 0.847 train-loss 0.598 val-acc 0.919 val-loss 0.255 \n",
            "epoch 9 train-acc 0.854 train-loss 0.657 val-acc 0.920 val-loss 0.250 \n",
            "epoch 10 train-acc 0.803 train-loss 1.059 val-acc 0.900 val-loss 0.405 \n"
          ]
        }
      ],
      "source": [
        "n_epochs = 10\n",
        "model = SiameseNN(EMBEDDING_DIM, HIDDEN_DIM,bidirectional=False, output_composition='cosine')\n",
        "model = train(model, n_epochs, train_loader, val_loader, DEVICE)"
      ]
    },
    {
      "cell_type": "code",
      "execution_count": 178,
      "metadata": {
        "colab": {
          "base_uri": "https://localhost:8080/"
        },
        "id": "0h4mfXcZb1k2",
        "outputId": "734b7c64-ace2-4aff-d925-355abbec001d"
      },
      "outputs": [
        {
          "name": "stderr",
          "output_type": "stream",
          "text": [
            "100%|██████████| 1165/1165 [00:17<00:00, 66.01it/s]\n",
            "100%|██████████| 62/62 [00:01<00:00, 33.92it/s]"
          ]
        },
        {
          "name": "stdout",
          "output_type": "stream",
          "text": [
            "\n",
            "map= 0.18713290257962042\n",
            "mrr= 0.5076387898892228\n",
            "ap@5= 0.22328767123287657\n",
            "ap@10= 0.16506849315068473\n"
          ]
        },
        {
          "name": "stderr",
          "output_type": "stream",
          "text": [
            "\n"
          ]
        }
      ],
      "source": [
        "train_doc_ids, train_doc_embedding = train_document_embedder(model, train_loader, DEVICE)\n",
        "query_answer = get_query_answer(model, test_loader, train_doc_ids, train_doc_embedding, DEVICE)\n",
        "\n",
        "map_ = MAP(ref_set=query_answer_ref, pred_set=query_answer)\n",
        "mrr = MRR(ref_set=query_answer_ref, pred_set=query_answer)\n",
        "avg_p_at_5 = AP(ref_set=query_answer_ref, pred_set=query_answer, k=5)\n",
        "avg_p_at_10 = AP(ref_set=query_answer_ref, pred_set=query_answer, k=10)\n",
        "\n",
        "print()\n",
        "print('map=', map_)\n",
        "print('mrr=', mrr)\n",
        "print('ap@5=', avg_p_at_5)\n",
        "print('ap@10=', avg_p_at_10)"
      ]
    },
    {
      "cell_type": "markdown",
      "metadata": {
        "id": "jLO8g-vWb1k2"
      },
      "source": [
        "### Bi-directional"
      ]
    },
    {
      "cell_type": "markdown",
      "metadata": {
        "id": "P59cIGx4b1k2"
      },
      "source": [
        "#### Linear"
      ]
    },
    {
      "cell_type": "code",
      "execution_count": 160,
      "metadata": {
        "colab": {
          "base_uri": "https://localhost:8080/"
        },
        "id": "a-u3BDySb1k2",
        "outputId": "66b4ff25-238b-44f6-d102-a8a6bdf42a6c"
      },
      "outputs": [
        {
          "name": "stdout",
          "output_type": "stream",
          "text": [
            "epoch 1 train-acc 0.818 train-loss 0.407 val-acc 0.906 val-loss 0.334 \n",
            "epoch 2 train-acc 0.856 train-loss 0.357 val-acc 0.878 val-loss 0.321 \n",
            "epoch 3 train-acc 0.875 train-loss 0.322 val-acc 0.908 val-loss 0.280 \n",
            "epoch 4 train-acc 0.878 train-loss 0.313 val-acc 0.934 val-loss 0.243 \n",
            "epoch 5 train-acc 0.891 train-loss 0.289 val-acc 0.902 val-loss 0.273 \n",
            "epoch 6 train-acc 0.898 train-loss 0.273 val-acc 0.914 val-loss 0.251 \n",
            "epoch 7 train-acc 0.905 train-loss 0.259 val-acc 0.912 val-loss 0.263 \n",
            "epoch 8 train-acc 0.905 train-loss 0.256 val-acc 0.894 val-loss 0.278 \n",
            "epoch 9 train-acc 0.907 train-loss 0.248 val-acc 0.935 val-loss 0.229 \n",
            "epoch 10 train-acc 0.917 train-loss 0.229 val-acc 0.922 val-loss 0.259 \n"
          ]
        }
      ],
      "source": [
        "n_epochs = 10\n",
        "model = SiameseNN(EMBEDDING_DIM, HIDDEN_DIM,bidirectional=True, output_composition='linear')\n",
        "model = train(model, n_epochs, train_loader, val_loader, DEVICE)"
      ]
    },
    {
      "cell_type": "code",
      "execution_count": 161,
      "metadata": {
        "colab": {
          "base_uri": "https://localhost:8080/"
        },
        "id": "3G4f7vsHb1k3",
        "outputId": "dd0b2b1a-8d5a-4557-bab6-58e3d86142a3"
      },
      "outputs": [
        {
          "name": "stderr",
          "output_type": "stream",
          "text": [
            "100%|██████████| 1165/1165 [00:17<00:00, 67.66it/s]\n",
            "100%|██████████| 62/62 [00:01<00:00, 36.10it/s]\n"
          ]
        },
        {
          "name": "stdout",
          "output_type": "stream",
          "text": [
            "\n",
            "map= 0.0\n",
            "mrr= 0.0021738120170075375\n",
            "ap@5= 0.0\n",
            "ap@10= 0.0\n"
          ]
        }
      ],
      "source": [
        "train_doc_ids, train_doc_embedding = train_document_embedder(model, train_loader, DEVICE)\n",
        "query_answer = get_query_answer(model, test_loader, train_doc_ids, train_doc_embedding, DEVICE)\n",
        "\n",
        "map_ = MAP(ref_set=query_answer_ref, pred_set=query_answer)\n",
        "mrr = MRR(ref_set=query_answer_ref, pred_set=query_answer)\n",
        "avg_p_at_5 = AP(ref_set=query_answer_ref, pred_set=query_answer, k=5)\n",
        "avg_p_at_10 = AP(ref_set=query_answer_ref, pred_set=query_answer, k=10)\n",
        "\n",
        "print()\n",
        "print('map=', map_)\n",
        "print('mrr=', mrr)\n",
        "print('ap@5=', avg_p_at_5)\n",
        "print('ap@10=', avg_p_at_10)"
      ]
    },
    {
      "cell_type": "markdown",
      "metadata": {
        "id": "KXFFh42yb1k3"
      },
      "source": [
        "#### Cosine"
      ]
    },
    {
      "cell_type": "code",
      "execution_count": 158,
      "metadata": {
        "colab": {
          "base_uri": "https://localhost:8080/"
        },
        "id": "373ffsHIb1k3",
        "outputId": "f5673509-9204-40bb-9a13-9ece89a89f29"
      },
      "outputs": [
        {
          "name": "stdout",
          "output_type": "stream",
          "text": [
            "epoch 1 train-acc 0.802 train-loss 0.996 val-acc 0.898 val-loss 0.392 \n",
            "epoch 2 train-acc 0.802 train-loss 0.908 val-acc 0.898 val-loss 0.376 \n",
            "epoch 3 train-acc 0.812 train-loss 0.871 val-acc 0.892 val-loss 0.345 \n",
            "epoch 4 train-acc 0.825 train-loss 0.821 val-acc 0.901 val-loss 0.323 \n",
            "epoch 5 train-acc 0.833 train-loss 0.789 val-acc 0.908 val-loss 0.310 \n",
            "epoch 6 train-acc 0.843 train-loss 0.707 val-acc 0.909 val-loss 0.293 \n",
            "epoch 7 train-acc 0.855 train-loss 0.710 val-acc 0.914 val-loss 0.469 \n",
            "epoch 8 train-acc 0.855 train-loss 0.663 val-acc 0.912 val-loss 0.469 \n",
            "epoch 9 train-acc 0.859 train-loss 0.761 val-acc 0.920 val-loss 0.449 \n",
            "epoch 10 train-acc 0.856 train-loss 0.630 val-acc 0.917 val-loss 0.254 \n"
          ]
        }
      ],
      "source": [
        "n_epochs = 10\n",
        "model = SiameseNN(EMBEDDING_DIM, HIDDEN_DIM, bidirectional=True, output_composition='cosine')\n",
        "model = train(model, n_epochs, train_loader, val_loader, DEVICE)"
      ]
    },
    {
      "cell_type": "code",
      "execution_count": 159,
      "metadata": {
        "colab": {
          "base_uri": "https://localhost:8080/"
        },
        "id": "0Zc_KNhpb1k3",
        "outputId": "fed91765-89b2-44b8-a359-920b2d11a89a"
      },
      "outputs": [
        {
          "name": "stderr",
          "output_type": "stream",
          "text": [
            "100%|██████████| 1165/1165 [00:17<00:00, 66.36it/s]\n",
            "100%|██████████| 62/62 [00:01<00:00, 33.37it/s]"
          ]
        },
        {
          "name": "stdout",
          "output_type": "stream",
          "text": [
            "\n",
            "map= 0.22808093448946196\n",
            "mrr= 0.5569746806544218\n",
            "ap@5= 0.27123287671232854\n",
            "ap@10= 0.19726027397260248\n"
          ]
        },
        {
          "name": "stderr",
          "output_type": "stream",
          "text": [
            "\n"
          ]
        }
      ],
      "source": [
        "train_doc_ids, train_doc_embedding = train_document_embedder(model, train_loader, DEVICE)\n",
        "query_answer = get_query_answer(model, test_loader, train_doc_ids, train_doc_embedding, DEVICE)\n",
        "\n",
        "map_ = MAP(ref_set=query_answer_ref, pred_set=query_answer)\n",
        "mrr = MRR(ref_set=query_answer_ref, pred_set=query_answer)\n",
        "avg_p_at_5 = AP(ref_set=query_answer_ref, pred_set=query_answer, k=5)\n",
        "avg_p_at_10 = AP(ref_set=query_answer_ref, pred_set=query_answer, k=10)\n",
        "\n",
        "print()\n",
        "print('map=', map_)\n",
        "print('mrr=', mrr)\n",
        "print('ap@5=', avg_p_at_5)\n",
        "print('ap@10=', avg_p_at_10)"
      ]
    }
  ],
  "metadata": {
    "accelerator": "GPU",
    "colab": {
      "provenance": [],
      "toc_visible": true
    },
    "gpuClass": "standard",
    "kernelspec": {
      "display_name": "uni",
      "language": "python",
      "name": "python3"
    },
    "language_info": {
      "codemirror_mode": {
        "name": "ipython",
        "version": 3
      },
      "file_extension": ".py",
      "mimetype": "text/x-python",
      "name": "python",
      "nbconvert_exporter": "python",
      "pygments_lexer": "ipython3",
      "version": "3.8.13"
    },
    "orig_nbformat": 4,
    "vscode": {
      "interpreter": {
        "hash": "479457d19d124b75d067f664f0e0759e9e397b556c1291d5d80b872e89cac1af"
      }
    },
    "widgets": {
      "application/vnd.jupyter.widget-state+json": {
        "06c96884281b430caaf999a81e1bc837": {
          "model_module": "@jupyter-widgets/controls",
          "model_module_version": "1.5.0",
          "model_name": "DescriptionStyleModel",
          "state": {
            "_model_module": "@jupyter-widgets/controls",
            "_model_module_version": "1.5.0",
            "_model_name": "DescriptionStyleModel",
            "_view_count": null,
            "_view_module": "@jupyter-widgets/base",
            "_view_module_version": "1.2.0",
            "_view_name": "StyleView",
            "description_width": ""
          }
        },
        "0821434efabd4911a8a10774aaf7d5a2": {
          "model_module": "@jupyter-widgets/controls",
          "model_module_version": "1.5.0",
          "model_name": "HBoxModel",
          "state": {
            "_dom_classes": [],
            "_model_module": "@jupyter-widgets/controls",
            "_model_module_version": "1.5.0",
            "_model_name": "HBoxModel",
            "_view_count": null,
            "_view_module": "@jupyter-widgets/controls",
            "_view_module_version": "1.5.0",
            "_view_name": "HBoxView",
            "box_style": "",
            "children": [
              "IPY_MODEL_c1e2c6f7df224ce0b274f0dfbc4d0590",
              "IPY_MODEL_8b587202017e44d99742013e9aae2ef8",
              "IPY_MODEL_e40c53d96bac46c0b9db763ea5d97008"
            ],
            "layout": "IPY_MODEL_7042634d057c4d2e80b30b20658cbea1"
          }
        },
        "0daec651b99b430e8360dda5d42bdf0e": {
          "model_module": "@jupyter-widgets/base",
          "model_module_version": "1.2.0",
          "model_name": "LayoutModel",
          "state": {
            "_model_module": "@jupyter-widgets/base",
            "_model_module_version": "1.2.0",
            "_model_name": "LayoutModel",
            "_view_count": null,
            "_view_module": "@jupyter-widgets/base",
            "_view_module_version": "1.2.0",
            "_view_name": "LayoutView",
            "align_content": null,
            "align_items": null,
            "align_self": null,
            "border": null,
            "bottom": null,
            "display": null,
            "flex": null,
            "flex_flow": null,
            "grid_area": null,
            "grid_auto_columns": null,
            "grid_auto_flow": null,
            "grid_auto_rows": null,
            "grid_column": null,
            "grid_gap": null,
            "grid_row": null,
            "grid_template_areas": null,
            "grid_template_columns": null,
            "grid_template_rows": null,
            "height": null,
            "justify_content": null,
            "justify_items": null,
            "left": null,
            "margin": null,
            "max_height": null,
            "max_width": null,
            "min_height": null,
            "min_width": null,
            "object_fit": null,
            "object_position": null,
            "order": null,
            "overflow": null,
            "overflow_x": null,
            "overflow_y": null,
            "padding": null,
            "right": null,
            "top": null,
            "visibility": null,
            "width": null
          }
        },
        "0de9b204e66d4aacb7ed9c0193f8f881": {
          "model_module": "@jupyter-widgets/controls",
          "model_module_version": "1.5.0",
          "model_name": "DescriptionStyleModel",
          "state": {
            "_model_module": "@jupyter-widgets/controls",
            "_model_module_version": "1.5.0",
            "_model_name": "DescriptionStyleModel",
            "_view_count": null,
            "_view_module": "@jupyter-widgets/base",
            "_view_module_version": "1.2.0",
            "_view_name": "StyleView",
            "description_width": ""
          }
        },
        "204e7385768f43a5a0f7e6e3c88c7490": {
          "model_module": "@jupyter-widgets/controls",
          "model_module_version": "1.5.0",
          "model_name": "ProgressStyleModel",
          "state": {
            "_model_module": "@jupyter-widgets/controls",
            "_model_module_version": "1.5.0",
            "_model_name": "ProgressStyleModel",
            "_view_count": null,
            "_view_module": "@jupyter-widgets/base",
            "_view_module_version": "1.2.0",
            "_view_name": "StyleView",
            "bar_color": null,
            "description_width": ""
          }
        },
        "2b26e1f0d88b4e298d7ecaedfe6f1690": {
          "model_module": "@jupyter-widgets/controls",
          "model_module_version": "1.5.0",
          "model_name": "HTMLModel",
          "state": {
            "_dom_classes": [],
            "_model_module": "@jupyter-widgets/controls",
            "_model_module_version": "1.5.0",
            "_model_name": "HTMLModel",
            "_view_count": null,
            "_view_module": "@jupyter-widgets/controls",
            "_view_module_version": "1.5.0",
            "_view_name": "HTMLView",
            "description": "",
            "description_tooltip": null,
            "layout": "IPY_MODEL_0daec651b99b430e8360dda5d42bdf0e",
            "placeholder": "​",
            "style": "IPY_MODEL_f43f86c6f625437cae08bd63b389c433",
            "value": " 1.36M/1.36M [00:00&lt;00:00, 7.37MB/s]"
          }
        },
        "34d0da8472a644b498e014332b6dd2ba": {
          "model_module": "@jupyter-widgets/controls",
          "model_module_version": "1.5.0",
          "model_name": "HBoxModel",
          "state": {
            "_dom_classes": [],
            "_model_module": "@jupyter-widgets/controls",
            "_model_module_version": "1.5.0",
            "_model_name": "HBoxModel",
            "_view_count": null,
            "_view_module": "@jupyter-widgets/controls",
            "_view_module_version": "1.5.0",
            "_view_name": "HBoxView",
            "box_style": "",
            "children": [
              "IPY_MODEL_94b3b3c579274ce8afbb8e3faa4e114d",
              "IPY_MODEL_3c060d2bc62d48dd820ab3eef3e9a305",
              "IPY_MODEL_fed5c3d6f70b43bca4c244868eebf1de"
            ],
            "layout": "IPY_MODEL_f77f0c67bcf5491ea430aef6ea1b2f4c"
          }
        },
        "372e860e256842eb88d8b01f2e425925": {
          "model_module": "@jupyter-widgets/controls",
          "model_module_version": "1.5.0",
          "model_name": "ProgressStyleModel",
          "state": {
            "_model_module": "@jupyter-widgets/controls",
            "_model_module_version": "1.5.0",
            "_model_name": "ProgressStyleModel",
            "_view_count": null,
            "_view_module": "@jupyter-widgets/base",
            "_view_module_version": "1.2.0",
            "_view_name": "StyleView",
            "bar_color": null,
            "description_width": ""
          }
        },
        "3c060d2bc62d48dd820ab3eef3e9a305": {
          "model_module": "@jupyter-widgets/controls",
          "model_module_version": "1.5.0",
          "model_name": "FloatProgressModel",
          "state": {
            "_dom_classes": [],
            "_model_module": "@jupyter-widgets/controls",
            "_model_module_version": "1.5.0",
            "_model_name": "FloatProgressModel",
            "_view_count": null,
            "_view_module": "@jupyter-widgets/controls",
            "_view_module_version": "1.5.0",
            "_view_name": "ProgressView",
            "bar_style": "success",
            "description": "",
            "description_tooltip": null,
            "layout": "IPY_MODEL_48a349dc1326402eb83128163d22a39a",
            "max": 898823,
            "min": 0,
            "orientation": "horizontal",
            "style": "IPY_MODEL_372e860e256842eb88d8b01f2e425925",
            "value": 898823
          }
        },
        "417bb0472cca4b2292bdaffdf6704d6c": {
          "model_module": "@jupyter-widgets/base",
          "model_module_version": "1.2.0",
          "model_name": "LayoutModel",
          "state": {
            "_model_module": "@jupyter-widgets/base",
            "_model_module_version": "1.2.0",
            "_model_name": "LayoutModel",
            "_view_count": null,
            "_view_module": "@jupyter-widgets/base",
            "_view_module_version": "1.2.0",
            "_view_name": "LayoutView",
            "align_content": null,
            "align_items": null,
            "align_self": null,
            "border": null,
            "bottom": null,
            "display": null,
            "flex": null,
            "flex_flow": null,
            "grid_area": null,
            "grid_auto_columns": null,
            "grid_auto_flow": null,
            "grid_auto_rows": null,
            "grid_column": null,
            "grid_gap": null,
            "grid_row": null,
            "grid_template_areas": null,
            "grid_template_columns": null,
            "grid_template_rows": null,
            "height": null,
            "justify_content": null,
            "justify_items": null,
            "left": null,
            "margin": null,
            "max_height": null,
            "max_width": null,
            "min_height": null,
            "min_width": null,
            "object_fit": null,
            "object_position": null,
            "order": null,
            "overflow": null,
            "overflow_x": null,
            "overflow_y": null,
            "padding": null,
            "right": null,
            "top": null,
            "visibility": null,
            "width": null
          }
        },
        "41dbaf047b1f452aa11f8ed0bab50834": {
          "model_module": "@jupyter-widgets/base",
          "model_module_version": "1.2.0",
          "model_name": "LayoutModel",
          "state": {
            "_model_module": "@jupyter-widgets/base",
            "_model_module_version": "1.2.0",
            "_model_name": "LayoutModel",
            "_view_count": null,
            "_view_module": "@jupyter-widgets/base",
            "_view_module_version": "1.2.0",
            "_view_name": "LayoutView",
            "align_content": null,
            "align_items": null,
            "align_self": null,
            "border": null,
            "bottom": null,
            "display": null,
            "flex": null,
            "flex_flow": null,
            "grid_area": null,
            "grid_auto_columns": null,
            "grid_auto_flow": null,
            "grid_auto_rows": null,
            "grid_column": null,
            "grid_gap": null,
            "grid_row": null,
            "grid_template_areas": null,
            "grid_template_columns": null,
            "grid_template_rows": null,
            "height": null,
            "justify_content": null,
            "justify_items": null,
            "left": null,
            "margin": null,
            "max_height": null,
            "max_width": null,
            "min_height": null,
            "min_width": null,
            "object_fit": null,
            "object_position": null,
            "order": null,
            "overflow": null,
            "overflow_x": null,
            "overflow_y": null,
            "padding": null,
            "right": null,
            "top": null,
            "visibility": null,
            "width": null
          }
        },
        "42925e5eecd74111ab77ed4afc19218e": {
          "model_module": "@jupyter-widgets/base",
          "model_module_version": "1.2.0",
          "model_name": "LayoutModel",
          "state": {
            "_model_module": "@jupyter-widgets/base",
            "_model_module_version": "1.2.0",
            "_model_name": "LayoutModel",
            "_view_count": null,
            "_view_module": "@jupyter-widgets/base",
            "_view_module_version": "1.2.0",
            "_view_name": "LayoutView",
            "align_content": null,
            "align_items": null,
            "align_self": null,
            "border": null,
            "bottom": null,
            "display": null,
            "flex": null,
            "flex_flow": null,
            "grid_area": null,
            "grid_auto_columns": null,
            "grid_auto_flow": null,
            "grid_auto_rows": null,
            "grid_column": null,
            "grid_gap": null,
            "grid_row": null,
            "grid_template_areas": null,
            "grid_template_columns": null,
            "grid_template_rows": null,
            "height": null,
            "justify_content": null,
            "justify_items": null,
            "left": null,
            "margin": null,
            "max_height": null,
            "max_width": null,
            "min_height": null,
            "min_width": null,
            "object_fit": null,
            "object_position": null,
            "order": null,
            "overflow": null,
            "overflow_x": null,
            "overflow_y": null,
            "padding": null,
            "right": null,
            "top": null,
            "visibility": null,
            "width": null
          }
        },
        "46cfa68e8fea44219e8aed947998a174": {
          "model_module": "@jupyter-widgets/base",
          "model_module_version": "1.2.0",
          "model_name": "LayoutModel",
          "state": {
            "_model_module": "@jupyter-widgets/base",
            "_model_module_version": "1.2.0",
            "_model_name": "LayoutModel",
            "_view_count": null,
            "_view_module": "@jupyter-widgets/base",
            "_view_module_version": "1.2.0",
            "_view_name": "LayoutView",
            "align_content": null,
            "align_items": null,
            "align_self": null,
            "border": null,
            "bottom": null,
            "display": null,
            "flex": null,
            "flex_flow": null,
            "grid_area": null,
            "grid_auto_columns": null,
            "grid_auto_flow": null,
            "grid_auto_rows": null,
            "grid_column": null,
            "grid_gap": null,
            "grid_row": null,
            "grid_template_areas": null,
            "grid_template_columns": null,
            "grid_template_rows": null,
            "height": null,
            "justify_content": null,
            "justify_items": null,
            "left": null,
            "margin": null,
            "max_height": null,
            "max_width": null,
            "min_height": null,
            "min_width": null,
            "object_fit": null,
            "object_position": null,
            "order": null,
            "overflow": null,
            "overflow_x": null,
            "overflow_y": null,
            "padding": null,
            "right": null,
            "top": null,
            "visibility": null,
            "width": null
          }
        },
        "46d3a2dcba63421f821a69d7b47968b6": {
          "model_module": "@jupyter-widgets/base",
          "model_module_version": "1.2.0",
          "model_name": "LayoutModel",
          "state": {
            "_model_module": "@jupyter-widgets/base",
            "_model_module_version": "1.2.0",
            "_model_name": "LayoutModel",
            "_view_count": null,
            "_view_module": "@jupyter-widgets/base",
            "_view_module_version": "1.2.0",
            "_view_name": "LayoutView",
            "align_content": null,
            "align_items": null,
            "align_self": null,
            "border": null,
            "bottom": null,
            "display": null,
            "flex": null,
            "flex_flow": null,
            "grid_area": null,
            "grid_auto_columns": null,
            "grid_auto_flow": null,
            "grid_auto_rows": null,
            "grid_column": null,
            "grid_gap": null,
            "grid_row": null,
            "grid_template_areas": null,
            "grid_template_columns": null,
            "grid_template_rows": null,
            "height": null,
            "justify_content": null,
            "justify_items": null,
            "left": null,
            "margin": null,
            "max_height": null,
            "max_width": null,
            "min_height": null,
            "min_width": null,
            "object_fit": null,
            "object_position": null,
            "order": null,
            "overflow": null,
            "overflow_x": null,
            "overflow_y": null,
            "padding": null,
            "right": null,
            "top": null,
            "visibility": null,
            "width": null
          }
        },
        "48a349dc1326402eb83128163d22a39a": {
          "model_module": "@jupyter-widgets/base",
          "model_module_version": "1.2.0",
          "model_name": "LayoutModel",
          "state": {
            "_model_module": "@jupyter-widgets/base",
            "_model_module_version": "1.2.0",
            "_model_name": "LayoutModel",
            "_view_count": null,
            "_view_module": "@jupyter-widgets/base",
            "_view_module_version": "1.2.0",
            "_view_name": "LayoutView",
            "align_content": null,
            "align_items": null,
            "align_self": null,
            "border": null,
            "bottom": null,
            "display": null,
            "flex": null,
            "flex_flow": null,
            "grid_area": null,
            "grid_auto_columns": null,
            "grid_auto_flow": null,
            "grid_auto_rows": null,
            "grid_column": null,
            "grid_gap": null,
            "grid_row": null,
            "grid_template_areas": null,
            "grid_template_columns": null,
            "grid_template_rows": null,
            "height": null,
            "justify_content": null,
            "justify_items": null,
            "left": null,
            "margin": null,
            "max_height": null,
            "max_width": null,
            "min_height": null,
            "min_width": null,
            "object_fit": null,
            "object_position": null,
            "order": null,
            "overflow": null,
            "overflow_x": null,
            "overflow_y": null,
            "padding": null,
            "right": null,
            "top": null,
            "visibility": null,
            "width": null
          }
        },
        "4bbd8e81bdf142148d4620c941f37c90": {
          "model_module": "@jupyter-widgets/controls",
          "model_module_version": "1.5.0",
          "model_name": "HTMLModel",
          "state": {
            "_dom_classes": [],
            "_model_module": "@jupyter-widgets/controls",
            "_model_module_version": "1.5.0",
            "_model_name": "HTMLModel",
            "_view_count": null,
            "_view_module": "@jupyter-widgets/controls",
            "_view_module_version": "1.5.0",
            "_view_name": "HTMLView",
            "description": "",
            "description_tooltip": null,
            "layout": "IPY_MODEL_8ebc8249508b4b6d81bdc95607960b83",
            "placeholder": "​",
            "style": "IPY_MODEL_0de9b204e66d4aacb7ed9c0193f8f881",
            "value": "Downloading: 100%"
          }
        },
        "56a7fda650ca43138b8da02c029ac98e": {
          "model_module": "@jupyter-widgets/base",
          "model_module_version": "1.2.0",
          "model_name": "LayoutModel",
          "state": {
            "_model_module": "@jupyter-widgets/base",
            "_model_module_version": "1.2.0",
            "_model_name": "LayoutModel",
            "_view_count": null,
            "_view_module": "@jupyter-widgets/base",
            "_view_module_version": "1.2.0",
            "_view_name": "LayoutView",
            "align_content": null,
            "align_items": null,
            "align_self": null,
            "border": null,
            "bottom": null,
            "display": null,
            "flex": null,
            "flex_flow": null,
            "grid_area": null,
            "grid_auto_columns": null,
            "grid_auto_flow": null,
            "grid_auto_rows": null,
            "grid_column": null,
            "grid_gap": null,
            "grid_row": null,
            "grid_template_areas": null,
            "grid_template_columns": null,
            "grid_template_rows": null,
            "height": null,
            "justify_content": null,
            "justify_items": null,
            "left": null,
            "margin": null,
            "max_height": null,
            "max_width": null,
            "min_height": null,
            "min_width": null,
            "object_fit": null,
            "object_position": null,
            "order": null,
            "overflow": null,
            "overflow_x": null,
            "overflow_y": null,
            "padding": null,
            "right": null,
            "top": null,
            "visibility": null,
            "width": null
          }
        },
        "5e2a1b13bc544b8994b7fff4fe27474b": {
          "model_module": "@jupyter-widgets/controls",
          "model_module_version": "1.5.0",
          "model_name": "DescriptionStyleModel",
          "state": {
            "_model_module": "@jupyter-widgets/controls",
            "_model_module_version": "1.5.0",
            "_model_name": "DescriptionStyleModel",
            "_view_count": null,
            "_view_module": "@jupyter-widgets/base",
            "_view_module_version": "1.2.0",
            "_view_name": "StyleView",
            "description_width": ""
          }
        },
        "6fa1e3b58a134cd39d1e19f91dd3114c": {
          "model_module": "@jupyter-widgets/controls",
          "model_module_version": "1.5.0",
          "model_name": "ProgressStyleModel",
          "state": {
            "_model_module": "@jupyter-widgets/controls",
            "_model_module_version": "1.5.0",
            "_model_name": "ProgressStyleModel",
            "_view_count": null,
            "_view_module": "@jupyter-widgets/base",
            "_view_module_version": "1.2.0",
            "_view_name": "StyleView",
            "bar_color": null,
            "description_width": ""
          }
        },
        "7042634d057c4d2e80b30b20658cbea1": {
          "model_module": "@jupyter-widgets/base",
          "model_module_version": "1.2.0",
          "model_name": "LayoutModel",
          "state": {
            "_model_module": "@jupyter-widgets/base",
            "_model_module_version": "1.2.0",
            "_model_name": "LayoutModel",
            "_view_count": null,
            "_view_module": "@jupyter-widgets/base",
            "_view_module_version": "1.2.0",
            "_view_name": "LayoutView",
            "align_content": null,
            "align_items": null,
            "align_self": null,
            "border": null,
            "bottom": null,
            "display": null,
            "flex": null,
            "flex_flow": null,
            "grid_area": null,
            "grid_auto_columns": null,
            "grid_auto_flow": null,
            "grid_auto_rows": null,
            "grid_column": null,
            "grid_gap": null,
            "grid_row": null,
            "grid_template_areas": null,
            "grid_template_columns": null,
            "grid_template_rows": null,
            "height": null,
            "justify_content": null,
            "justify_items": null,
            "left": null,
            "margin": null,
            "max_height": null,
            "max_width": null,
            "min_height": null,
            "min_width": null,
            "object_fit": null,
            "object_position": null,
            "order": null,
            "overflow": null,
            "overflow_x": null,
            "overflow_y": null,
            "padding": null,
            "right": null,
            "top": null,
            "visibility": null,
            "width": null
          }
        },
        "70d8f67cdae04b6a9d6faba3cc78f8f7": {
          "model_module": "@jupyter-widgets/controls",
          "model_module_version": "1.5.0",
          "model_name": "DescriptionStyleModel",
          "state": {
            "_model_module": "@jupyter-widgets/controls",
            "_model_module_version": "1.5.0",
            "_model_name": "DescriptionStyleModel",
            "_view_count": null,
            "_view_module": "@jupyter-widgets/base",
            "_view_module_version": "1.2.0",
            "_view_name": "StyleView",
            "description_width": ""
          }
        },
        "7547b9f6dfae4acf836f425a94c34339": {
          "model_module": "@jupyter-widgets/controls",
          "model_module_version": "1.5.0",
          "model_name": "FloatProgressModel",
          "state": {
            "_dom_classes": [],
            "_model_module": "@jupyter-widgets/controls",
            "_model_module_version": "1.5.0",
            "_model_name": "FloatProgressModel",
            "_view_count": null,
            "_view_module": "@jupyter-widgets/controls",
            "_view_module_version": "1.5.0",
            "_view_name": "ProgressView",
            "bar_style": "success",
            "description": "",
            "description_tooltip": null,
            "layout": "IPY_MODEL_a0c7eebc7cba402abbadeda3c6dc82d2",
            "max": 1355863,
            "min": 0,
            "orientation": "horizontal",
            "style": "IPY_MODEL_b84c66415d0c46668baa8e13568175ab",
            "value": 1355863
          }
        },
        "7b63b3d743e141c98d6a945c71a9ef08": {
          "model_module": "@jupyter-widgets/controls",
          "model_module_version": "1.5.0",
          "model_name": "DescriptionStyleModel",
          "state": {
            "_model_module": "@jupyter-widgets/controls",
            "_model_module_version": "1.5.0",
            "_model_name": "DescriptionStyleModel",
            "_view_count": null,
            "_view_module": "@jupyter-widgets/base",
            "_view_module_version": "1.2.0",
            "_view_name": "StyleView",
            "description_width": ""
          }
        },
        "81fa7a295f9a4aaf9086a9580626868f": {
          "model_module": "@jupyter-widgets/base",
          "model_module_version": "1.2.0",
          "model_name": "LayoutModel",
          "state": {
            "_model_module": "@jupyter-widgets/base",
            "_model_module_version": "1.2.0",
            "_model_name": "LayoutModel",
            "_view_count": null,
            "_view_module": "@jupyter-widgets/base",
            "_view_module_version": "1.2.0",
            "_view_name": "LayoutView",
            "align_content": null,
            "align_items": null,
            "align_self": null,
            "border": null,
            "bottom": null,
            "display": null,
            "flex": null,
            "flex_flow": null,
            "grid_area": null,
            "grid_auto_columns": null,
            "grid_auto_flow": null,
            "grid_auto_rows": null,
            "grid_column": null,
            "grid_gap": null,
            "grid_row": null,
            "grid_template_areas": null,
            "grid_template_columns": null,
            "grid_template_rows": null,
            "height": null,
            "justify_content": null,
            "justify_items": null,
            "left": null,
            "margin": null,
            "max_height": null,
            "max_width": null,
            "min_height": null,
            "min_width": null,
            "object_fit": null,
            "object_position": null,
            "order": null,
            "overflow": null,
            "overflow_x": null,
            "overflow_y": null,
            "padding": null,
            "right": null,
            "top": null,
            "visibility": null,
            "width": null
          }
        },
        "8b587202017e44d99742013e9aae2ef8": {
          "model_module": "@jupyter-widgets/controls",
          "model_module_version": "1.5.0",
          "model_name": "FloatProgressModel",
          "state": {
            "_dom_classes": [],
            "_model_module": "@jupyter-widgets/controls",
            "_model_module_version": "1.5.0",
            "_model_name": "FloatProgressModel",
            "_view_count": null,
            "_view_module": "@jupyter-widgets/controls",
            "_view_module_version": "1.5.0",
            "_view_name": "ProgressView",
            "bar_style": "success",
            "description": "",
            "description_tooltip": null,
            "layout": "IPY_MODEL_46d3a2dcba63421f821a69d7b47968b6",
            "max": 481,
            "min": 0,
            "orientation": "horizontal",
            "style": "IPY_MODEL_6fa1e3b58a134cd39d1e19f91dd3114c",
            "value": 481
          }
        },
        "8db6bf79d5cd45fbb4eaf19fd15cccfb": {
          "model_module": "@jupyter-widgets/base",
          "model_module_version": "1.2.0",
          "model_name": "LayoutModel",
          "state": {
            "_model_module": "@jupyter-widgets/base",
            "_model_module_version": "1.2.0",
            "_model_name": "LayoutModel",
            "_view_count": null,
            "_view_module": "@jupyter-widgets/base",
            "_view_module_version": "1.2.0",
            "_view_name": "LayoutView",
            "align_content": null,
            "align_items": null,
            "align_self": null,
            "border": null,
            "bottom": null,
            "display": null,
            "flex": null,
            "flex_flow": null,
            "grid_area": null,
            "grid_auto_columns": null,
            "grid_auto_flow": null,
            "grid_auto_rows": null,
            "grid_column": null,
            "grid_gap": null,
            "grid_row": null,
            "grid_template_areas": null,
            "grid_template_columns": null,
            "grid_template_rows": null,
            "height": null,
            "justify_content": null,
            "justify_items": null,
            "left": null,
            "margin": null,
            "max_height": null,
            "max_width": null,
            "min_height": null,
            "min_width": null,
            "object_fit": null,
            "object_position": null,
            "order": null,
            "overflow": null,
            "overflow_x": null,
            "overflow_y": null,
            "padding": null,
            "right": null,
            "top": null,
            "visibility": null,
            "width": null
          }
        },
        "8ebc8249508b4b6d81bdc95607960b83": {
          "model_module": "@jupyter-widgets/base",
          "model_module_version": "1.2.0",
          "model_name": "LayoutModel",
          "state": {
            "_model_module": "@jupyter-widgets/base",
            "_model_module_version": "1.2.0",
            "_model_name": "LayoutModel",
            "_view_count": null,
            "_view_module": "@jupyter-widgets/base",
            "_view_module_version": "1.2.0",
            "_view_name": "LayoutView",
            "align_content": null,
            "align_items": null,
            "align_self": null,
            "border": null,
            "bottom": null,
            "display": null,
            "flex": null,
            "flex_flow": null,
            "grid_area": null,
            "grid_auto_columns": null,
            "grid_auto_flow": null,
            "grid_auto_rows": null,
            "grid_column": null,
            "grid_gap": null,
            "grid_row": null,
            "grid_template_areas": null,
            "grid_template_columns": null,
            "grid_template_rows": null,
            "height": null,
            "justify_content": null,
            "justify_items": null,
            "left": null,
            "margin": null,
            "max_height": null,
            "max_width": null,
            "min_height": null,
            "min_width": null,
            "object_fit": null,
            "object_position": null,
            "order": null,
            "overflow": null,
            "overflow_x": null,
            "overflow_y": null,
            "padding": null,
            "right": null,
            "top": null,
            "visibility": null,
            "width": null
          }
        },
        "921ac39f20b347dbaa5249c9a9d57c54": {
          "model_module": "@jupyter-widgets/controls",
          "model_module_version": "1.5.0",
          "model_name": "HTMLModel",
          "state": {
            "_dom_classes": [],
            "_model_module": "@jupyter-widgets/controls",
            "_model_module_version": "1.5.0",
            "_model_name": "HTMLModel",
            "_view_count": null,
            "_view_module": "@jupyter-widgets/controls",
            "_view_module_version": "1.5.0",
            "_view_name": "HTMLView",
            "description": "",
            "description_tooltip": null,
            "layout": "IPY_MODEL_8db6bf79d5cd45fbb4eaf19fd15cccfb",
            "placeholder": "​",
            "style": "IPY_MODEL_06c96884281b430caaf999a81e1bc837",
            "value": "Downloading: 100%"
          }
        },
        "94b3b3c579274ce8afbb8e3faa4e114d": {
          "model_module": "@jupyter-widgets/controls",
          "model_module_version": "1.5.0",
          "model_name": "HTMLModel",
          "state": {
            "_dom_classes": [],
            "_model_module": "@jupyter-widgets/controls",
            "_model_module_version": "1.5.0",
            "_model_name": "HTMLModel",
            "_view_count": null,
            "_view_module": "@jupyter-widgets/controls",
            "_view_module_version": "1.5.0",
            "_view_name": "HTMLView",
            "description": "",
            "description_tooltip": null,
            "layout": "IPY_MODEL_e59b67ff33454401a7edd272b4eb07a3",
            "placeholder": "​",
            "style": "IPY_MODEL_5e2a1b13bc544b8994b7fff4fe27474b",
            "value": "Downloading: 100%"
          }
        },
        "97257b4a9a2d48d5a872837d33f20266": {
          "model_module": "@jupyter-widgets/base",
          "model_module_version": "1.2.0",
          "model_name": "LayoutModel",
          "state": {
            "_model_module": "@jupyter-widgets/base",
            "_model_module_version": "1.2.0",
            "_model_name": "LayoutModel",
            "_view_count": null,
            "_view_module": "@jupyter-widgets/base",
            "_view_module_version": "1.2.0",
            "_view_name": "LayoutView",
            "align_content": null,
            "align_items": null,
            "align_self": null,
            "border": null,
            "bottom": null,
            "display": null,
            "flex": null,
            "flex_flow": null,
            "grid_area": null,
            "grid_auto_columns": null,
            "grid_auto_flow": null,
            "grid_auto_rows": null,
            "grid_column": null,
            "grid_gap": null,
            "grid_row": null,
            "grid_template_areas": null,
            "grid_template_columns": null,
            "grid_template_rows": null,
            "height": null,
            "justify_content": null,
            "justify_items": null,
            "left": null,
            "margin": null,
            "max_height": null,
            "max_width": null,
            "min_height": null,
            "min_width": null,
            "object_fit": null,
            "object_position": null,
            "order": null,
            "overflow": null,
            "overflow_x": null,
            "overflow_y": null,
            "padding": null,
            "right": null,
            "top": null,
            "visibility": null,
            "width": null
          }
        },
        "a0c7eebc7cba402abbadeda3c6dc82d2": {
          "model_module": "@jupyter-widgets/base",
          "model_module_version": "1.2.0",
          "model_name": "LayoutModel",
          "state": {
            "_model_module": "@jupyter-widgets/base",
            "_model_module_version": "1.2.0",
            "_model_name": "LayoutModel",
            "_view_count": null,
            "_view_module": "@jupyter-widgets/base",
            "_view_module_version": "1.2.0",
            "_view_name": "LayoutView",
            "align_content": null,
            "align_items": null,
            "align_self": null,
            "border": null,
            "bottom": null,
            "display": null,
            "flex": null,
            "flex_flow": null,
            "grid_area": null,
            "grid_auto_columns": null,
            "grid_auto_flow": null,
            "grid_auto_rows": null,
            "grid_column": null,
            "grid_gap": null,
            "grid_row": null,
            "grid_template_areas": null,
            "grid_template_columns": null,
            "grid_template_rows": null,
            "height": null,
            "justify_content": null,
            "justify_items": null,
            "left": null,
            "margin": null,
            "max_height": null,
            "max_width": null,
            "min_height": null,
            "min_width": null,
            "object_fit": null,
            "object_position": null,
            "order": null,
            "overflow": null,
            "overflow_x": null,
            "overflow_y": null,
            "padding": null,
            "right": null,
            "top": null,
            "visibility": null,
            "width": null
          }
        },
        "a11b1b0f2e1d4b3caeef1a0b10286e29": {
          "model_module": "@jupyter-widgets/controls",
          "model_module_version": "1.5.0",
          "model_name": "DescriptionStyleModel",
          "state": {
            "_model_module": "@jupyter-widgets/controls",
            "_model_module_version": "1.5.0",
            "_model_name": "DescriptionStyleModel",
            "_view_count": null,
            "_view_module": "@jupyter-widgets/base",
            "_view_module_version": "1.2.0",
            "_view_name": "StyleView",
            "description_width": ""
          }
        },
        "a47ddcc296d04a49bbcd467009433f12": {
          "model_module": "@jupyter-widgets/controls",
          "model_module_version": "1.5.0",
          "model_name": "FloatProgressModel",
          "state": {
            "_dom_classes": [],
            "_model_module": "@jupyter-widgets/controls",
            "_model_module_version": "1.5.0",
            "_model_name": "FloatProgressModel",
            "_view_count": null,
            "_view_module": "@jupyter-widgets/controls",
            "_view_module_version": "1.5.0",
            "_view_name": "ProgressView",
            "bar_style": "success",
            "description": "",
            "description_tooltip": null,
            "layout": "IPY_MODEL_bc6d2d3373bf44569ac3e21073d70863",
            "max": 456318,
            "min": 0,
            "orientation": "horizontal",
            "style": "IPY_MODEL_204e7385768f43a5a0f7e6e3c88c7490",
            "value": 456318
          }
        },
        "b1122e50d01f4a9086a7b34cfd8aa81c": {
          "model_module": "@jupyter-widgets/controls",
          "model_module_version": "1.5.0",
          "model_name": "HTMLModel",
          "state": {
            "_dom_classes": [],
            "_model_module": "@jupyter-widgets/controls",
            "_model_module_version": "1.5.0",
            "_model_name": "HTMLModel",
            "_view_count": null,
            "_view_module": "@jupyter-widgets/controls",
            "_view_module_version": "1.5.0",
            "_view_name": "HTMLView",
            "description": "",
            "description_tooltip": null,
            "layout": "IPY_MODEL_46cfa68e8fea44219e8aed947998a174",
            "placeholder": "​",
            "style": "IPY_MODEL_c1d08d418e2f4553ad034ad8ac4a203d",
            "value": " 501M/501M [00:16&lt;00:00, 69.1MB/s]"
          }
        },
        "b56882daa1584284ac887924cd7db008": {
          "model_module": "@jupyter-widgets/controls",
          "model_module_version": "1.5.0",
          "model_name": "DescriptionStyleModel",
          "state": {
            "_model_module": "@jupyter-widgets/controls",
            "_model_module_version": "1.5.0",
            "_model_name": "DescriptionStyleModel",
            "_view_count": null,
            "_view_module": "@jupyter-widgets/base",
            "_view_module_version": "1.2.0",
            "_view_name": "StyleView",
            "description_width": ""
          }
        },
        "b746d6d120d34765b3774627e7b64f0d": {
          "model_module": "@jupyter-widgets/controls",
          "model_module_version": "1.5.0",
          "model_name": "HBoxModel",
          "state": {
            "_dom_classes": [],
            "_model_module": "@jupyter-widgets/controls",
            "_model_module_version": "1.5.0",
            "_model_name": "HBoxModel",
            "_view_count": null,
            "_view_module": "@jupyter-widgets/controls",
            "_view_module_version": "1.5.0",
            "_view_name": "HBoxView",
            "box_style": "",
            "children": [
              "IPY_MODEL_4bbd8e81bdf142148d4620c941f37c90",
              "IPY_MODEL_7547b9f6dfae4acf836f425a94c34339",
              "IPY_MODEL_2b26e1f0d88b4e298d7ecaedfe6f1690"
            ],
            "layout": "IPY_MODEL_e90b0a183aa242cb96510b5d20033437"
          }
        },
        "b84c66415d0c46668baa8e13568175ab": {
          "model_module": "@jupyter-widgets/controls",
          "model_module_version": "1.5.0",
          "model_name": "ProgressStyleModel",
          "state": {
            "_model_module": "@jupyter-widgets/controls",
            "_model_module_version": "1.5.0",
            "_model_name": "ProgressStyleModel",
            "_view_count": null,
            "_view_module": "@jupyter-widgets/base",
            "_view_module_version": "1.2.0",
            "_view_name": "StyleView",
            "bar_color": null,
            "description_width": ""
          }
        },
        "bc6d2d3373bf44569ac3e21073d70863": {
          "model_module": "@jupyter-widgets/base",
          "model_module_version": "1.2.0",
          "model_name": "LayoutModel",
          "state": {
            "_model_module": "@jupyter-widgets/base",
            "_model_module_version": "1.2.0",
            "_model_name": "LayoutModel",
            "_view_count": null,
            "_view_module": "@jupyter-widgets/base",
            "_view_module_version": "1.2.0",
            "_view_name": "LayoutView",
            "align_content": null,
            "align_items": null,
            "align_self": null,
            "border": null,
            "bottom": null,
            "display": null,
            "flex": null,
            "flex_flow": null,
            "grid_area": null,
            "grid_auto_columns": null,
            "grid_auto_flow": null,
            "grid_auto_rows": null,
            "grid_column": null,
            "grid_gap": null,
            "grid_row": null,
            "grid_template_areas": null,
            "grid_template_columns": null,
            "grid_template_rows": null,
            "height": null,
            "justify_content": null,
            "justify_items": null,
            "left": null,
            "margin": null,
            "max_height": null,
            "max_width": null,
            "min_height": null,
            "min_width": null,
            "object_fit": null,
            "object_position": null,
            "order": null,
            "overflow": null,
            "overflow_x": null,
            "overflow_y": null,
            "padding": null,
            "right": null,
            "top": null,
            "visibility": null,
            "width": null
          }
        },
        "beb1354c8d6a4c2fb12581a2f6f1a1f3": {
          "model_module": "@jupyter-widgets/controls",
          "model_module_version": "1.5.0",
          "model_name": "HTMLModel",
          "state": {
            "_dom_classes": [],
            "_model_module": "@jupyter-widgets/controls",
            "_model_module_version": "1.5.0",
            "_model_name": "HTMLModel",
            "_view_count": null,
            "_view_module": "@jupyter-widgets/controls",
            "_view_module_version": "1.5.0",
            "_view_name": "HTMLView",
            "description": "",
            "description_tooltip": null,
            "layout": "IPY_MODEL_42925e5eecd74111ab77ed4afc19218e",
            "placeholder": "​",
            "style": "IPY_MODEL_7b63b3d743e141c98d6a945c71a9ef08",
            "value": " 456k/456k [00:00&lt;00:00, 1.72MB/s]"
          }
        },
        "c1d08d418e2f4553ad034ad8ac4a203d": {
          "model_module": "@jupyter-widgets/controls",
          "model_module_version": "1.5.0",
          "model_name": "DescriptionStyleModel",
          "state": {
            "_model_module": "@jupyter-widgets/controls",
            "_model_module_version": "1.5.0",
            "_model_name": "DescriptionStyleModel",
            "_view_count": null,
            "_view_module": "@jupyter-widgets/base",
            "_view_module_version": "1.2.0",
            "_view_name": "StyleView",
            "description_width": ""
          }
        },
        "c1e2c6f7df224ce0b274f0dfbc4d0590": {
          "model_module": "@jupyter-widgets/controls",
          "model_module_version": "1.5.0",
          "model_name": "HTMLModel",
          "state": {
            "_dom_classes": [],
            "_model_module": "@jupyter-widgets/controls",
            "_model_module_version": "1.5.0",
            "_model_name": "HTMLModel",
            "_view_count": null,
            "_view_module": "@jupyter-widgets/controls",
            "_view_module_version": "1.5.0",
            "_view_name": "HTMLView",
            "description": "",
            "description_tooltip": null,
            "layout": "IPY_MODEL_81fa7a295f9a4aaf9086a9580626868f",
            "placeholder": "​",
            "style": "IPY_MODEL_a11b1b0f2e1d4b3caeef1a0b10286e29",
            "value": "Downloading: 100%"
          }
        },
        "c64c40ecb2bb4eaa979d8f87ab5f8414": {
          "model_module": "@jupyter-widgets/controls",
          "model_module_version": "1.5.0",
          "model_name": "FloatProgressModel",
          "state": {
            "_dom_classes": [],
            "_model_module": "@jupyter-widgets/controls",
            "_model_module_version": "1.5.0",
            "_model_name": "FloatProgressModel",
            "_view_count": null,
            "_view_module": "@jupyter-widgets/controls",
            "_view_module_version": "1.5.0",
            "_view_name": "ProgressView",
            "bar_style": "success",
            "description": "",
            "description_tooltip": null,
            "layout": "IPY_MODEL_417bb0472cca4b2292bdaffdf6704d6c",
            "max": 501200538,
            "min": 0,
            "orientation": "horizontal",
            "style": "IPY_MODEL_cb5b9d130d1846c0976e7ef86121294c",
            "value": 501200538
          }
        },
        "cb5b9d130d1846c0976e7ef86121294c": {
          "model_module": "@jupyter-widgets/controls",
          "model_module_version": "1.5.0",
          "model_name": "ProgressStyleModel",
          "state": {
            "_model_module": "@jupyter-widgets/controls",
            "_model_module_version": "1.5.0",
            "_model_name": "ProgressStyleModel",
            "_view_count": null,
            "_view_module": "@jupyter-widgets/base",
            "_view_module_version": "1.2.0",
            "_view_name": "StyleView",
            "bar_color": null,
            "description_width": ""
          }
        },
        "d49d5090f3ec405c869f452133672cb5": {
          "model_module": "@jupyter-widgets/controls",
          "model_module_version": "1.5.0",
          "model_name": "HBoxModel",
          "state": {
            "_dom_classes": [],
            "_model_module": "@jupyter-widgets/controls",
            "_model_module_version": "1.5.0",
            "_model_name": "HBoxModel",
            "_view_count": null,
            "_view_module": "@jupyter-widgets/controls",
            "_view_module_version": "1.5.0",
            "_view_name": "HBoxView",
            "box_style": "",
            "children": [
              "IPY_MODEL_921ac39f20b347dbaa5249c9a9d57c54",
              "IPY_MODEL_c64c40ecb2bb4eaa979d8f87ab5f8414",
              "IPY_MODEL_b1122e50d01f4a9086a7b34cfd8aa81c"
            ],
            "layout": "IPY_MODEL_56a7fda650ca43138b8da02c029ac98e"
          }
        },
        "de1ac104d73e4be98d0b253dc1d9efc5": {
          "model_module": "@jupyter-widgets/base",
          "model_module_version": "1.2.0",
          "model_name": "LayoutModel",
          "state": {
            "_model_module": "@jupyter-widgets/base",
            "_model_module_version": "1.2.0",
            "_model_name": "LayoutModel",
            "_view_count": null,
            "_view_module": "@jupyter-widgets/base",
            "_view_module_version": "1.2.0",
            "_view_name": "LayoutView",
            "align_content": null,
            "align_items": null,
            "align_self": null,
            "border": null,
            "bottom": null,
            "display": null,
            "flex": null,
            "flex_flow": null,
            "grid_area": null,
            "grid_auto_columns": null,
            "grid_auto_flow": null,
            "grid_auto_rows": null,
            "grid_column": null,
            "grid_gap": null,
            "grid_row": null,
            "grid_template_areas": null,
            "grid_template_columns": null,
            "grid_template_rows": null,
            "height": null,
            "justify_content": null,
            "justify_items": null,
            "left": null,
            "margin": null,
            "max_height": null,
            "max_width": null,
            "min_height": null,
            "min_width": null,
            "object_fit": null,
            "object_position": null,
            "order": null,
            "overflow": null,
            "overflow_x": null,
            "overflow_y": null,
            "padding": null,
            "right": null,
            "top": null,
            "visibility": null,
            "width": null
          }
        },
        "e40c53d96bac46c0b9db763ea5d97008": {
          "model_module": "@jupyter-widgets/controls",
          "model_module_version": "1.5.0",
          "model_name": "HTMLModel",
          "state": {
            "_dom_classes": [],
            "_model_module": "@jupyter-widgets/controls",
            "_model_module_version": "1.5.0",
            "_model_name": "HTMLModel",
            "_view_count": null,
            "_view_module": "@jupyter-widgets/controls",
            "_view_module_version": "1.5.0",
            "_view_name": "HTMLView",
            "description": "",
            "description_tooltip": null,
            "layout": "IPY_MODEL_41dbaf047b1f452aa11f8ed0bab50834",
            "placeholder": "​",
            "style": "IPY_MODEL_b56882daa1584284ac887924cd7db008",
            "value": " 481/481 [00:00&lt;00:00, 23.9kB/s]"
          }
        },
        "e59b67ff33454401a7edd272b4eb07a3": {
          "model_module": "@jupyter-widgets/base",
          "model_module_version": "1.2.0",
          "model_name": "LayoutModel",
          "state": {
            "_model_module": "@jupyter-widgets/base",
            "_model_module_version": "1.2.0",
            "_model_name": "LayoutModel",
            "_view_count": null,
            "_view_module": "@jupyter-widgets/base",
            "_view_module_version": "1.2.0",
            "_view_name": "LayoutView",
            "align_content": null,
            "align_items": null,
            "align_self": null,
            "border": null,
            "bottom": null,
            "display": null,
            "flex": null,
            "flex_flow": null,
            "grid_area": null,
            "grid_auto_columns": null,
            "grid_auto_flow": null,
            "grid_auto_rows": null,
            "grid_column": null,
            "grid_gap": null,
            "grid_row": null,
            "grid_template_areas": null,
            "grid_template_columns": null,
            "grid_template_rows": null,
            "height": null,
            "justify_content": null,
            "justify_items": null,
            "left": null,
            "margin": null,
            "max_height": null,
            "max_width": null,
            "min_height": null,
            "min_width": null,
            "object_fit": null,
            "object_position": null,
            "order": null,
            "overflow": null,
            "overflow_x": null,
            "overflow_y": null,
            "padding": null,
            "right": null,
            "top": null,
            "visibility": null,
            "width": null
          }
        },
        "e90b0a183aa242cb96510b5d20033437": {
          "model_module": "@jupyter-widgets/base",
          "model_module_version": "1.2.0",
          "model_name": "LayoutModel",
          "state": {
            "_model_module": "@jupyter-widgets/base",
            "_model_module_version": "1.2.0",
            "_model_name": "LayoutModel",
            "_view_count": null,
            "_view_module": "@jupyter-widgets/base",
            "_view_module_version": "1.2.0",
            "_view_name": "LayoutView",
            "align_content": null,
            "align_items": null,
            "align_self": null,
            "border": null,
            "bottom": null,
            "display": null,
            "flex": null,
            "flex_flow": null,
            "grid_area": null,
            "grid_auto_columns": null,
            "grid_auto_flow": null,
            "grid_auto_rows": null,
            "grid_column": null,
            "grid_gap": null,
            "grid_row": null,
            "grid_template_areas": null,
            "grid_template_columns": null,
            "grid_template_rows": null,
            "height": null,
            "justify_content": null,
            "justify_items": null,
            "left": null,
            "margin": null,
            "max_height": null,
            "max_width": null,
            "min_height": null,
            "min_width": null,
            "object_fit": null,
            "object_position": null,
            "order": null,
            "overflow": null,
            "overflow_x": null,
            "overflow_y": null,
            "padding": null,
            "right": null,
            "top": null,
            "visibility": null,
            "width": null
          }
        },
        "eadf473cfde340e9ba6208b10f0b6551": {
          "model_module": "@jupyter-widgets/base",
          "model_module_version": "1.2.0",
          "model_name": "LayoutModel",
          "state": {
            "_model_module": "@jupyter-widgets/base",
            "_model_module_version": "1.2.0",
            "_model_name": "LayoutModel",
            "_view_count": null,
            "_view_module": "@jupyter-widgets/base",
            "_view_module_version": "1.2.0",
            "_view_name": "LayoutView",
            "align_content": null,
            "align_items": null,
            "align_self": null,
            "border": null,
            "bottom": null,
            "display": null,
            "flex": null,
            "flex_flow": null,
            "grid_area": null,
            "grid_auto_columns": null,
            "grid_auto_flow": null,
            "grid_auto_rows": null,
            "grid_column": null,
            "grid_gap": null,
            "grid_row": null,
            "grid_template_areas": null,
            "grid_template_columns": null,
            "grid_template_rows": null,
            "height": null,
            "justify_content": null,
            "justify_items": null,
            "left": null,
            "margin": null,
            "max_height": null,
            "max_width": null,
            "min_height": null,
            "min_width": null,
            "object_fit": null,
            "object_position": null,
            "order": null,
            "overflow": null,
            "overflow_x": null,
            "overflow_y": null,
            "padding": null,
            "right": null,
            "top": null,
            "visibility": null,
            "width": null
          }
        },
        "ed685e93f46849a396802841965e45a0": {
          "model_module": "@jupyter-widgets/controls",
          "model_module_version": "1.5.0",
          "model_name": "HBoxModel",
          "state": {
            "_dom_classes": [],
            "_model_module": "@jupyter-widgets/controls",
            "_model_module_version": "1.5.0",
            "_model_name": "HBoxModel",
            "_view_count": null,
            "_view_module": "@jupyter-widgets/controls",
            "_view_module_version": "1.5.0",
            "_view_name": "HBoxView",
            "box_style": "",
            "children": [
              "IPY_MODEL_f0a3c4b6c26f49de90be64f93f42d72e",
              "IPY_MODEL_a47ddcc296d04a49bbcd467009433f12",
              "IPY_MODEL_beb1354c8d6a4c2fb12581a2f6f1a1f3"
            ],
            "layout": "IPY_MODEL_eadf473cfde340e9ba6208b10f0b6551"
          }
        },
        "ef68a56e58674c438510bf719d6d90e1": {
          "model_module": "@jupyter-widgets/controls",
          "model_module_version": "1.5.0",
          "model_name": "DescriptionStyleModel",
          "state": {
            "_model_module": "@jupyter-widgets/controls",
            "_model_module_version": "1.5.0",
            "_model_name": "DescriptionStyleModel",
            "_view_count": null,
            "_view_module": "@jupyter-widgets/base",
            "_view_module_version": "1.2.0",
            "_view_name": "StyleView",
            "description_width": ""
          }
        },
        "f0a3c4b6c26f49de90be64f93f42d72e": {
          "model_module": "@jupyter-widgets/controls",
          "model_module_version": "1.5.0",
          "model_name": "HTMLModel",
          "state": {
            "_dom_classes": [],
            "_model_module": "@jupyter-widgets/controls",
            "_model_module_version": "1.5.0",
            "_model_name": "HTMLModel",
            "_view_count": null,
            "_view_module": "@jupyter-widgets/controls",
            "_view_module_version": "1.5.0",
            "_view_name": "HTMLView",
            "description": "",
            "description_tooltip": null,
            "layout": "IPY_MODEL_de1ac104d73e4be98d0b253dc1d9efc5",
            "placeholder": "​",
            "style": "IPY_MODEL_70d8f67cdae04b6a9d6faba3cc78f8f7",
            "value": "Downloading: 100%"
          }
        },
        "f43f86c6f625437cae08bd63b389c433": {
          "model_module": "@jupyter-widgets/controls",
          "model_module_version": "1.5.0",
          "model_name": "DescriptionStyleModel",
          "state": {
            "_model_module": "@jupyter-widgets/controls",
            "_model_module_version": "1.5.0",
            "_model_name": "DescriptionStyleModel",
            "_view_count": null,
            "_view_module": "@jupyter-widgets/base",
            "_view_module_version": "1.2.0",
            "_view_name": "StyleView",
            "description_width": ""
          }
        },
        "f77f0c67bcf5491ea430aef6ea1b2f4c": {
          "model_module": "@jupyter-widgets/base",
          "model_module_version": "1.2.0",
          "model_name": "LayoutModel",
          "state": {
            "_model_module": "@jupyter-widgets/base",
            "_model_module_version": "1.2.0",
            "_model_name": "LayoutModel",
            "_view_count": null,
            "_view_module": "@jupyter-widgets/base",
            "_view_module_version": "1.2.0",
            "_view_name": "LayoutView",
            "align_content": null,
            "align_items": null,
            "align_self": null,
            "border": null,
            "bottom": null,
            "display": null,
            "flex": null,
            "flex_flow": null,
            "grid_area": null,
            "grid_auto_columns": null,
            "grid_auto_flow": null,
            "grid_auto_rows": null,
            "grid_column": null,
            "grid_gap": null,
            "grid_row": null,
            "grid_template_areas": null,
            "grid_template_columns": null,
            "grid_template_rows": null,
            "height": null,
            "justify_content": null,
            "justify_items": null,
            "left": null,
            "margin": null,
            "max_height": null,
            "max_width": null,
            "min_height": null,
            "min_width": null,
            "object_fit": null,
            "object_position": null,
            "order": null,
            "overflow": null,
            "overflow_x": null,
            "overflow_y": null,
            "padding": null,
            "right": null,
            "top": null,
            "visibility": null,
            "width": null
          }
        },
        "fed5c3d6f70b43bca4c244868eebf1de": {
          "model_module": "@jupyter-widgets/controls",
          "model_module_version": "1.5.0",
          "model_name": "HTMLModel",
          "state": {
            "_dom_classes": [],
            "_model_module": "@jupyter-widgets/controls",
            "_model_module_version": "1.5.0",
            "_model_name": "HTMLModel",
            "_view_count": null,
            "_view_module": "@jupyter-widgets/controls",
            "_view_module_version": "1.5.0",
            "_view_name": "HTMLView",
            "description": "",
            "description_tooltip": null,
            "layout": "IPY_MODEL_97257b4a9a2d48d5a872837d33f20266",
            "placeholder": "​",
            "style": "IPY_MODEL_ef68a56e58674c438510bf719d6d90e1",
            "value": " 899k/899k [00:00&lt;00:00, 1.56MB/s]"
          }
        }
      }
    }
  },
  "nbformat": 4,
  "nbformat_minor": 0
}
