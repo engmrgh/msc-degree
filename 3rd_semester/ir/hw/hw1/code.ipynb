{
 "cells": [
  {
   "cell_type": "markdown",
   "metadata": {},
   "source": [
    "# HW1\n",
    "\n",
    "student: Mohammadreza Ghofrani\n",
    "\n",
    "student_id: 400131076\n",
    "\n",
    "course: Information Retrieval"
   ]
  },
  {
   "cell_type": "code",
   "execution_count": 1,
   "metadata": {},
   "outputs": [],
   "source": [
    "import re\n",
    "from copy import deepcopy\n",
    "from collections import Counter\n",
    "\n",
    "import numpy as np\n",
    "import pandas as pd\n",
    "from gensim.corpora import Dictionary\n",
    "from gensim.matutils import cossim\n",
    "from gensim.models import TfidfModel\n",
    "from tqdm import tqdm\n",
    "from matplotlib import pyplot as plt\n",
    "from pytablewriter import MarkdownTableWriter"
   ]
  },
  {
   "cell_type": "code",
   "execution_count": 2,
   "metadata": {},
   "outputs": [],
   "source": [
    "class config:\n",
    "    keep_n = 2000\n",
    "    top_k = 10\n",
    "    n_sample = 10\n",
    "    n_sample_test = 100"
   ]
  },
  {
   "cell_type": "markdown",
   "metadata": {},
   "source": [
    "## Evaluating functions"
   ]
  },
  {
   "cell_type": "code",
   "execution_count": 3,
   "metadata": {},
   "outputs": [],
   "source": [
    "def reciprocal_rank(ref, pred):\n",
    "    for i, p in enumerate(pred):\n",
    "        if p in ref:\n",
    "            return 1 / (i+1)\n",
    "    return 0\n",
    "\n",
    "def MRR(ref_set, pred_set):\n",
    "    m = len(ref_set)\n",
    "    mean_reciprocal_rank = 0\n",
    "    for doc_id in ref_set:\n",
    "        mean_reciprocal_rank += reciprocal_rank(ref_set[doc_id], pred_set[doc_id]) / m\n",
    "    return mean_reciprocal_rank"
   ]
  },
  {
   "cell_type": "code",
   "execution_count": 4,
   "metadata": {},
   "outputs": [],
   "source": [
    "def p_at_k(ref, k_pred):\n",
    "    pred_relevent = len(set(k_pred).intersection(set(ref)))\n",
    "    return pred_relevent / len(k_pred)\n",
    "\n",
    "def MAP(ref_set, pred_set):\n",
    "    m = len(ref_set)\n",
    "    mean_average_precision = 0\n",
    "    for doc_id in ref_set:\n",
    "        sum_avg_precision = 0\n",
    "        ref, pred = ref_set[doc_id], pred_set[doc_id]\n",
    "\n",
    "        ref_unseen = deepcopy(ref)\n",
    "        for k in range(1, config.top_k+1):\n",
    "            k_pred = pred[:k]\n",
    "            if k_pred[-1] in ref_unseen:\n",
    "                ref_unseen.remove(k_pred[-1])\n",
    "                sum_avg_precision += (p_at_k(ref, k_pred) / len(ref))\n",
    "        mean_average_precision += (sum_avg_precision / m)\n",
    "\n",
    "    return mean_average_precision\n",
    "\n",
    "def AP(ref_set, pred_set, k):\n",
    "    m = len(ref_set)\n",
    "    avg_precision = 0\n",
    "    for doc_id in ref_set:\n",
    "        ref, k_pred = ref_set[doc_id], pred_set[doc_id][:k]\n",
    "        avg_precision += (p_at_k(ref, k_pred)/m)\n",
    "\n",
    "    return avg_precision"
   ]
  },
  {
   "cell_type": "markdown",
   "metadata": {},
   "source": [
    "# Part 2"
   ]
  },
  {
   "cell_type": "code",
   "execution_count": 5,
   "metadata": {},
   "outputs": [],
   "source": [
    "train_df = pd.read_csv('data/train_data.csv')\n",
    "val_df = pd.read_csv('data/valid_data.csv')\n",
    "test_df = pd.read_csv('data/test_data.csv')"
   ]
  },
  {
   "cell_type": "code",
   "execution_count": 6,
   "metadata": {},
   "outputs": [],
   "source": [
    "query_answer_ref = dict()\n",
    "\n",
    "test_qid1_grouped = test_df.groupby('qid1')\n",
    "for qid1 in test_df.qid1.unique():\n",
    "    group = test_qid1_grouped.get_group(qid1)\n",
    "    query_answer_ref[qid1] = group['qid2'].values.tolist()\n",
    "\n",
    "query_answer_val_ref = dict()\n",
    "val_qid1_grouped = val_df.groupby('qid1')\n",
    "for qid1 in val_df.qid1.unique():\n",
    "    group = val_qid1_grouped.get_group(qid1)\n",
    "    query_answer_val_ref[qid1] = group['qid2'].values.tolist()"
   ]
  },
  {
   "cell_type": "code",
   "execution_count": 7,
   "metadata": {},
   "outputs": [],
   "source": [
    "bow_dataset = list()\n",
    "for _, sent in train_df['question2'].items():\n",
    "    bow_dataset.append(re.split('\\W+', sent.lower()))"
   ]
  },
  {
   "cell_type": "code",
   "execution_count": 8,
   "metadata": {},
   "outputs": [],
   "source": [
    "dct = Dictionary(bow_dataset)\n",
    "dct.filter_extremes(keep_n=2000)\n",
    "corpus = [dct.doc2bow(line) for line in bow_dataset]"
   ]
  },
  {
   "cell_type": "code",
   "execution_count": 9,
   "metadata": {},
   "outputs": [],
   "source": [
    "model = TfidfModel(corpus, smartirs='lfc')"
   ]
  },
  {
   "cell_type": "code",
   "execution_count": 10,
   "metadata": {},
   "outputs": [],
   "source": [
    "train_dataset_vector = dict()\n",
    "for _, (doc_id, doc_text) in train_df[['qid2', 'question2']].iterrows():\n",
    "    doc_bow = dct.doc2bow(re.split('\\W+', doc_text.lower()))\n",
    "    train_dataset_vector[doc_id] = model[doc_bow]"
   ]
  },
  {
   "cell_type": "code",
   "execution_count": 11,
   "metadata": {},
   "outputs": [
    {
     "name": "stderr",
     "output_type": "stream",
     "text": [
      "100%|██████████| 980/980 [00:22<00:00, 43.95it/s] \n"
     ]
    }
   ],
   "source": [
    "query_answer_tfidf = dict()\n",
    "for _, (qid, qtext) in tqdm(test_df[['qid1', 'question1']].iterrows(), total=len(test_df)):\n",
    "    if qid in query_answer_tfidf:\n",
    "        continue\n",
    "\n",
    "    query_bow = dct.doc2bow(re.split('\\W+', qtext.lower()))\n",
    "    query_tfidf = model[query_bow]\n",
    "\n",
    "    doc_score = []\n",
    "    for doc_id in train_dataset_vector:\n",
    "        doc_tfidf = train_dataset_vector[doc_id]\n",
    "\n",
    "        sim = cossim(query_tfidf, doc_tfidf)\n",
    "        doc_score.append((doc_id, sim))\n",
    "\n",
    "    doc_score = pd.DataFrame(doc_score, columns =['id', 'score']).sort_values('score', ascending=False)\n",
    "    topk = doc_score.nlargest(n=config.top_k, columns='score')\n",
    "    query_answer_tfidf[qid] = topk['id'].tolist()"
   ]
  },
  {
   "cell_type": "markdown",
   "metadata": {},
   "source": [
    "## Part 3"
   ]
  },
  {
   "cell_type": "markdown",
   "metadata": {},
   "source": [
    "### Question 1"
   ]
  },
  {
   "cell_type": "markdown",
   "metadata": {},
   "source": [
    "#### Implementation"
   ]
  },
  {
   "cell_type": "code",
   "execution_count": 12,
   "metadata": {},
   "outputs": [],
   "source": [
    "class Unigram:\n",
    "    def __init__(self, document, mu):\n",
    "        self.model = dict(pd.DataFrame(Counter(re.split('\\W+', document.lower())).items(),\n",
    "                                          columns=['word', 'count']).values)\n",
    "\n",
    "        self.tot_vocab = sum(self.model.values())\n",
    "        self.P_bg = 1 / len(self.model)\n",
    "        self.mu = mu\n",
    "\n",
    "    def __getitem__(self, word):\n",
    "        wc = self.model.get(word, 0)\n",
    "        return (wc + self.mu * self.P_bg) / (self.tot_vocab + self.mu)"
   ]
  },
  {
   "cell_type": "code",
   "execution_count": 13,
   "metadata": {},
   "outputs": [],
   "source": [
    "def get_unigram_document_retrieval(train_docs, mu):\n",
    "    p_uni = dict()\n",
    "    for _, (doc_id, doc) in train_docs[['qid2', 'question2']].iterrows():\n",
    "        if doc_id in p_uni:\n",
    "            continue\n",
    "        p_uni[doc_id] = Unigram(doc, mu)\n",
    "\n",
    "    def unigram_document_retrieval(query, interested_doc_ids=None):\n",
    "        query_words = re.split('\\W+', query.lower())\n",
    "        results = list()\n",
    "        for doc_id in p_uni:\n",
    "            if interested_doc_ids and doc_id not in interested_doc_ids:\n",
    "                continue\n",
    "            log_prob = sum([np.log(p_uni[doc_id][word]) for word in query_words])\n",
    "            results.append((doc_id, log_prob))\n",
    "        return pd.DataFrame(results, columns=['doc_id', 'score']).sort_values('score', ascending=False)\n",
    "\n",
    "    return unigram_document_retrieval, p_uni"
   ]
  },
  {
   "cell_type": "markdown",
   "metadata": {},
   "source": [
    "#### Experiments to find best mu"
   ]
  },
  {
   "cell_type": "code",
   "execution_count": 12,
   "metadata": {},
   "outputs": [
    {
     "name": "stderr",
     "output_type": "stream",
     "text": [
      "Experimenting with mu = 10000.0: 100%|██████████| 12/12 [09:29<00:00, 47.47s/it]\n"
     ]
    }
   ],
   "source": [
    "np.random.seed(42)\n",
    "experiments = list()\n",
    "val_qid1_grouped = val_df.groupby('qid1')\n",
    "\n",
    "for mu in (pbar := tqdm([1e-4, 1e-3, 1e-2, 1e-1, 0.3, 0.5, 0.8, 1, 1e1, 1e2, 1e3, 1e4])):\n",
    "    pbar.set_description(f\"Experimenting with mu = {mu}\")\n",
    "    unigram_document_retrieval, _ = get_unigram_document_retrieval(train_df, mu=mu)\n",
    "\n",
    "    query_answer_val_unigram = dict()\n",
    "    for qid1 in val_df.qid1.unique():\n",
    "        group = val_qid1_grouped.get_group(qid1)\n",
    "        query = group['question1'].values[0]\n",
    "\n",
    "        doc_scores = unigram_document_retrieval(query)\n",
    "        ret_doc_ids = doc_scores.sort_values(by='score', ascending=False).doc_id.values.tolist()\n",
    "        query_answer_val_unigram[qid1] = ret_doc_ids\n",
    "\n",
    "    mrr = MRR(query_answer_val_ref, query_answer_val_unigram)\n",
    "    map_ = MAP(query_answer_val_ref, query_answer_val_unigram)\n",
    "    experiments.append((mu, mrr, map_))"
   ]
  },
  {
   "cell_type": "code",
   "execution_count": 13,
   "metadata": {},
   "outputs": [
    {
     "name": "stdout",
     "output_type": "stream",
     "text": [
      "# Effect of mu in unigram model\n",
      "|    mu    |         mrr         |        map         |\n",
      "|---------:|--------------------:|-------------------:|\n",
      "|    0.0001|0.5856450310851934000|0.315828961508167360|\n",
      "|    0.0010|0.5913822901564517000|0.323898227027231400|\n",
      "|    0.0100|0.5877411751331962000|0.315362747160506160|\n",
      "|    0.1000|0.5639831696201666000|0.273007453309734200|\n",
      "|    0.3000|0.4862110771017385500|0.204526105699947800|\n",
      "|    0.5000|0.3904964635682384700|0.150430350506891320|\n",
      "|    0.8000|0.2749129204795543000|0.083437239624658040|\n",
      "|    1.0000|0.2209760308387923600|0.063199030408614590|\n",
      "|   10.0000|0.0074164424477273530|0.001445086705202312|\n",
      "|  100.0000|0.0068863679489896724|0.001445086705202312|\n",
      "| 1000.0000|0.0068856433669306930|0.001445086705202312|\n",
      "|10000.0000|0.0068857127562966846|0.001445086705202312|\n"
     ]
    }
   ],
   "source": [
    "writer = MarkdownTableWriter(\n",
    "    table_name=\"Effect of mu in unigram model\",\n",
    "    headers=[\"mu\", \"mrr\", \"map\"],\n",
    "    value_matrix=experiments\n",
    ")\n",
    "writer.write_table()"
   ]
  },
  {
   "cell_type": "code",
   "execution_count": 14,
   "metadata": {},
   "outputs": [
    {
     "data": {
      "image/png": "[encoded data removed]",
      "text/plain": [
       "<Figure size 432x288 with 1 Axes>"
      ]
     },
     "metadata": {
      "needs_background": "light"
     },
     "output_type": "display_data"
    }
   ],
   "source": [
    "fig, ax = plt.subplots()\n",
    "\n",
    "exp_df = pd.DataFrame(experiments, columns=['mu', 'mrr', 'map'])\n",
    "ax.plot(exp_df['mu'], exp_df['mrr'], 'o-', label='mrr')\n",
    "ax.plot(exp_df['mu'], exp_df['map'], 'o-', label='map')\n",
    "plt.xlabel('mu')\n",
    "plt.xscale(\"symlog\")\n",
    "ax.legend()\n",
    "plt.title('Effect of mu in unigram model')\n",
    "plt.show()"
   ]
  },
  {
   "cell_type": "code",
   "execution_count": 15,
   "metadata": {},
   "outputs": [],
   "source": [
    "MU = 1e-4"
   ]
  },
  {
   "cell_type": "markdown",
   "metadata": {},
   "source": [
    "#### Document Retrieval"
   ]
  },
  {
   "cell_type": "code",
   "execution_count": 16,
   "metadata": {},
   "outputs": [
    {
     "name": "stderr",
     "output_type": "stream",
     "text": [
      "100%|██████████| 146/146 [00:30<00:00,  4.74it/s]\n"
     ]
    }
   ],
   "source": [
    "np.random.seed(42)\n",
    "test_qid1_grouped = test_df.groupby('qid1')\n",
    "query_answer_unigram = dict()\n",
    "unigram_document_retrieval, _ = get_unigram_document_retrieval(train_df, mu=MU)\n",
    "\n",
    "sum_score = 0\n",
    "for qid1 in tqdm(test_df.qid1.unique()):\n",
    "    group = test_qid1_grouped.get_group(qid1)\n",
    "    query = group['question1'].values[0]\n",
    "\n",
    "    doc_scores = unigram_document_retrieval(query)\n",
    "    ret_doc_ids = doc_scores.sort_values(by='score', ascending=False).doc_id.values.tolist()\n",
    "    query_answer_unigram[qid1] = ret_doc_ids"
   ]
  },
  {
   "cell_type": "markdown",
   "metadata": {},
   "source": [
    "### Question 2"
   ]
  },
  {
   "cell_type": "markdown",
   "metadata": {},
   "source": [
    "#### Implementation"
   ]
  },
  {
   "cell_type": "code",
   "execution_count": 17,
   "metadata": {},
   "outputs": [],
   "source": [
    "class Bigram:\n",
    "    def __init__(self, document):\n",
    "        n = 2 # Bi-gram\n",
    "\n",
    "        train_seq = re.split('\\W+', document.lower())\n",
    "        grams = [tuple(train_seq[i:i+n]) for i in range(len(train_seq)-n+1)]\n",
    "        gram_count = pd.DataFrame(Counter(grams).items(), columns=['gram', 'count'])\n",
    "        gram_count[['pred', 'succ']] = pd.DataFrame(gram_count['gram'].tolist(), index=gram_count.index)\n",
    "\n",
    "        self.model = {}\n",
    "        group = gram_count.groupby('pred')\n",
    "        for word in gram_count.pred.unique():\n",
    "            self.model[word] = dict(group.get_group(word)[['succ', 'count']].values)\n",
    "\n",
    "    def __getitem__(self, bigram):\n",
    "        pred, succ = bigram\n",
    "\n",
    "        numenator = self.model[pred].get(succ, 0) if pred in self.model else 0\n",
    "        denumenator = sum(self.model[pred].values()) if pred in self.model else 0\n",
    "\n",
    "        P_bi = 0\n",
    "        if numenator or denumenator:\n",
    "            P_bi = numenator/denumenator\n",
    "\n",
    "        return P_bi"
   ]
  },
  {
   "cell_type": "code",
   "execution_count": 18,
   "metadata": {},
   "outputs": [],
   "source": [
    "def get_bigram_document_retrieval(train_docs, P_uni, lambda_):\n",
    "    n = 2 # Bi-gram\n",
    "    P_bi = dict()\n",
    "    for _, (doc_id, doc) in train_docs[['qid2', 'question2']].iterrows():\n",
    "        if doc_id in P_bi:\n",
    "            continue\n",
    "        P_bi[doc_id] = Bigram(doc)\n",
    "\n",
    "    def bigram_document_retrieval(query, interested_doc_ids=None):\n",
    "        query_words = re.split('\\W+', query.lower())\n",
    "        query_grams = [tuple(query_words[i:i+n]) for i in range(len(query_words)-n+1)]\n",
    "        results = list()\n",
    "        for doc_id in P_bi:\n",
    "            if interested_doc_ids and doc_id not in interested_doc_ids:\n",
    "                continue\n",
    "\n",
    "            log_prob = 0\n",
    "            for i, gram in enumerate(query_grams):\n",
    "                if i == 0:\n",
    "                    log_prob += np.log(P_uni[doc_id][gram[0]])\n",
    "                prob = lambda_ * P_bi[doc_id][gram] + (1 - lambda_) * P_uni[doc_id][gram[1]]\n",
    "                if prob > 0:\n",
    "                    log_prob += np.log(prob)\n",
    "\n",
    "            results.append((doc_id, log_prob))\n",
    "        return pd.DataFrame(results, columns=['doc_id', 'score']).sort_values('score', ascending=False)\n",
    "\n",
    "    return bigram_document_retrieval, P_bi"
   ]
  },
  {
   "cell_type": "markdown",
   "metadata": {},
   "source": [
    "#### Experiements for finding best lambda"
   ]
  },
  {
   "cell_type": "code",
   "execution_count": 26,
   "metadata": {},
   "outputs": [
    {
     "name": "stderr",
     "output_type": "stream",
     "text": [
      "Experimenting with lambda = 0.99: 100%|██████████| 7/7 [20:34<00:00, 176.35s/it]\n"
     ]
    }
   ],
   "source": [
    "np.random.seed(42)\n",
    "experiments = list()\n",
    "_, P_uni = get_unigram_document_retrieval(train_df, mu=MU)\n",
    "val_qid1_grouped = val_df.groupby('qid1')\n",
    "\n",
    "for lambda_ in (pbar := tqdm([1e-2, 1e-1, 0.3, 0.5, 0.8, 0.9, 0.99])):\n",
    "    pbar.set_description(f\"Experimenting with lambda = {lambda_:.2f}\")\n",
    "    bigram_document_retrieval, _ = get_bigram_document_retrieval(train_df, P_uni=P_uni, lambda_=lambda_)\n",
    "\n",
    "    query_answer_val_bigram = dict()\n",
    "    for qid1 in val_df.qid1.unique():\n",
    "        group = val_qid1_grouped.get_group(qid1)\n",
    "        query = group['question1'].values[0]\n",
    "\n",
    "        doc_scores = bigram_document_retrieval(query)\n",
    "        ret_doc_ids = doc_scores.sort_values(by='score', ascending=False).doc_id.values.tolist()\n",
    "        query_answer_val_bigram[qid1] = ret_doc_ids\n",
    "\n",
    "    mrr = MRR(query_answer_val_ref, query_answer_val_bigram)\n",
    "    map_ = MAP(query_answer_val_ref, query_answer_val_bigram)\n",
    "    experiments.append((lambda_, mrr, map_))"
   ]
  },
  {
   "cell_type": "code",
   "execution_count": 27,
   "metadata": {},
   "outputs": [
    {
     "name": "stdout",
     "output_type": "stream",
     "text": [
      "# Effect of lambda in bigram model\n",
      "|lambda|       mrr        |        map        |\n",
      "|-----:|-----------------:|------------------:|\n",
      "|  0.01|0.5856472055908599|0.32362292415642970|\n",
      "|  0.10|0.5826953716531026|0.32367633076379230|\n",
      "|  0.30|0.6035455926920922|0.33523036621569097|\n",
      "|  0.50|0.5963322027886059|0.32785460046519750|\n",
      "|  0.80|0.5955713140140096|0.33376106382927956|\n",
      "|  0.90|0.5912546192364615|0.32454613383524750|\n",
      "|  0.99|0.5841155490231528|0.32336648232795300|\n"
     ]
    }
   ],
   "source": [
    "writer = MarkdownTableWriter(\n",
    "    table_name=\"Effect of lambda in bigram model\",\n",
    "    headers=[\"lambda\", \"mrr\", \"map\"],\n",
    "    value_matrix=experiments\n",
    ")\n",
    "writer.write_table()"
   ]
  },
  {
   "cell_type": "code",
   "execution_count": 28,
   "metadata": {},
   "outputs": [
    {
     "data": {
      "image/png": "[encoded data removed]",
      "text/plain": [
       "<Figure size 432x288 with 1 Axes>"
      ]
     },
     "metadata": {
      "needs_background": "light"
     },
     "output_type": "display_data"
    }
   ],
   "source": [
    "fig, ax = plt.subplots()\n",
    "\n",
    "exp_df = pd.DataFrame(experiments, columns=['lambda', 'mrr', 'map'])\n",
    "ax.plot(exp_df['lambda'], exp_df['mrr'], 'o-', label='mrr')\n",
    "ax.plot(exp_df['lambda'], exp_df['map'], 'o-', label='map')\n",
    "plt.xlabel('lambda')\n",
    "ax.legend()\n",
    "plt.title('Effect of lambda in bigram model')\n",
    "plt.show()"
   ]
  },
  {
   "cell_type": "code",
   "execution_count": 19,
   "metadata": {},
   "outputs": [],
   "source": [
    "LAMBDA = 0.3"
   ]
  },
  {
   "cell_type": "markdown",
   "metadata": {},
   "source": [
    "#### Document Retrieval"
   ]
  },
  {
   "cell_type": "code",
   "execution_count": 20,
   "metadata": {},
   "outputs": [
    {
     "name": "stderr",
     "output_type": "stream",
     "text": [
      "100%|██████████| 146/146 [00:47<00:00,  3.08it/s]\n"
     ]
    }
   ],
   "source": [
    "np.random.seed(42)\n",
    "test_qid1_grouped = test_df.groupby('qid1')\n",
    "query_answer_bigram = dict()\n",
    "_, P_uni = get_unigram_document_retrieval(train_df, mu=MU)\n",
    "bigram_document_retrieval, _ = get_bigram_document_retrieval(train_df, P_uni=P_uni, lambda_=LAMBDA)\n",
    "\n",
    "sum_score = 0\n",
    "for qid1 in tqdm(test_df.qid1.unique()):\n",
    "    group = test_qid1_grouped.get_group(qid1)\n",
    "    query = group['question1'].values[0]\n",
    "\n",
    "    doc_scores = bigram_document_retrieval(query)\n",
    "    ret_doc_ids = doc_scores.sort_values(by='score', ascending=False).doc_id.values.tolist()\n",
    "    query_answer_bigram[qid1] = ret_doc_ids"
   ]
  },
  {
   "cell_type": "markdown",
   "metadata": {},
   "source": [
    "## Part 4"
   ]
  },
  {
   "cell_type": "markdown",
   "metadata": {},
   "source": [
    "#### Evaluating TF-IDF Retrieval"
   ]
  },
  {
   "cell_type": "code",
   "execution_count": 21,
   "metadata": {},
   "outputs": [
    {
     "name": "stdout",
     "output_type": "stream",
     "text": [
      "map= 0.4703838136898951\n",
      "mrr= 0.7441373124592316\n",
      "ap@5= 0.4945205479452046\n",
      "ap@10= 0.3589041095890413\n"
     ]
    }
   ],
   "source": [
    "map_ = MAP(ref_set=query_answer_ref, pred_set=query_answer_tfidf)\n",
    "mrr = MRR(ref_set=query_answer_ref, pred_set=query_answer_tfidf)\n",
    "avg_p_at_5 = AP(ref_set=query_answer_ref, pred_set=query_answer_tfidf, k=5)\n",
    "avg_p_at_10 = AP(ref_set=query_answer_ref, pred_set=query_answer_tfidf, k=10)\n",
    "print('map=', map_)\n",
    "print('mrr=', mrr)\n",
    "print('ap@5=', avg_p_at_5)\n",
    "print('ap@10=', avg_p_at_10)"
   ]
  },
  {
   "cell_type": "markdown",
   "metadata": {},
   "source": [
    "#### Evaluating Unigram Retrieval"
   ]
  },
  {
   "cell_type": "code",
   "execution_count": 22,
   "metadata": {},
   "outputs": [
    {
     "name": "stdout",
     "output_type": "stream",
     "text": [
      "map= 0.3824867983300586\n",
      "mrr= 0.7505467872137588\n",
      "ap@5= 0.41780821917808164\n",
      "ap@10= 0.29999999999999993\n"
     ]
    }
   ],
   "source": [
    "map_ = MAP(ref_set=query_answer_ref, pred_set=query_answer_unigram)\n",
    "mrr = MRR(ref_set=query_answer_ref, pred_set=query_answer_unigram)\n",
    "avg_p_at_5 = AP(ref_set=query_answer_ref, pred_set=query_answer_unigram, k=5)\n",
    "avg_p_at_10 = AP(ref_set=query_answer_ref, pred_set=query_answer_unigram, k=10)\n",
    "print('map=', map_)\n",
    "print('mrr=', mrr)\n",
    "print('ap@5=', avg_p_at_5)\n",
    "print('ap@10=', avg_p_at_10)"
   ]
  },
  {
   "cell_type": "markdown",
   "metadata": {},
   "source": [
    "### Evaluating Bigram Retrieval"
   ]
  },
  {
   "cell_type": "code",
   "execution_count": 23,
   "metadata": {},
   "outputs": [
    {
     "name": "stdout",
     "output_type": "stream",
     "text": [
      "map= 0.3835266783761814\n",
      "mrr= 0.7551675384465015\n",
      "ap@5= 0.41780821917808153\n",
      "ap@10= 0.29452054794520544\n"
     ]
    }
   ],
   "source": [
    "map_ = MAP(ref_set=query_answer_ref, pred_set=query_answer_bigram)\n",
    "mrr = MRR(ref_set=query_answer_ref, pred_set=query_answer_bigram)\n",
    "avg_p_at_5 = AP(ref_set=query_answer_ref, pred_set=query_answer_bigram, k=5)\n",
    "avg_p_at_10 = AP(ref_set=query_answer_ref, pred_set=query_answer_bigram, k=10)\n",
    "print('map=', map_)\n",
    "print('mrr=', mrr)\n",
    "print('ap@5=', avg_p_at_5)\n",
    "print('ap@10=', avg_p_at_10)"
   ]
  }
 ],
 "metadata": {
  "kernelspec": {
   "display_name": "Python 3.8.13 ('uni')",
   "language": "python",
   "name": "python3"
  },
  "language_info": {
   "codemirror_mode": {
    "name": "ipython",
    "version": 3
   },
   "file_extension": ".py",
   "mimetype": "text/x-python",
   "name": "python",
   "nbconvert_exporter": "python",
   "pygments_lexer": "ipython3",
   "version": "3.8.13"
  },
  "orig_nbformat": 4,
  "vscode": {
   "interpreter": {
    "hash": "479457d19d124b75d067f664f0e0759e9e397b556c1291d5d80b872e89cac1af"
   }
  }
 },
 "nbformat": 4,
 "nbformat_minor": 2
}
