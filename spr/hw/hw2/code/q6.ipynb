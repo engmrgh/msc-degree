{
 "cells": [
  {
   "cell_type": "markdown",
   "metadata": {},
   "source": [
    "<div align=\"center\"><h3>HW2, Question 6</h3></div>\n",
    "<div align=\"center\"><h5>Mohammadreza Ghofrani, 400131076</h5></div>"
   ]
  },
  {
   "cell_type": "code",
   "execution_count": null,
   "metadata": {},
   "outputs": [],
   "source": [
    "import os\n",
    "import glob\n",
    "import warnings\n",
    "from itertools import combinations\n",
    "import cv2\n",
    "import scipy\n",
    "import numpy as np\n",
    "import pandas as pd\n",
    "import imageio as iio\n",
    "from sklearn import metrics\n",
    "import plotly.express as px\n",
    "import matplotlib.pyplot as plt\n",
    "import plotly.graph_objects as go\n",
    "\n",
    "EPSILON = 0.001\n",
    "pd.options.plotting.backend = \"plotly\""
   ]
  },
  {
   "cell_type": "markdown",
   "metadata": {},
   "source": [
    "# Question 6"
   ]
  },
  {
   "cell_type": "markdown",
   "metadata": {},
   "source": [
    "## Part A"
   ]
  },
  {
   "cell_type": "code",
   "execution_count": null,
   "metadata": {},
   "outputs": [],
   "source": [
    "number_of_zero_pixels = 0\n",
    "total_number_of_pixels = 0\n",
    "for img_path in glob.glob('data/P6/pratheepan/train/set1/groundtruth/*.png'):\n",
    "    img = cv2.imread(img_path)\n",
    "    img = cv2.cvtColor(img, cv2.COLOR_BGR2GRAY)\n",
    "    number_of_zero_pixels += np.count_nonzero(img==0)\n",
    "    total_number_of_pixels += (img.shape[0] * img.shape[1])\n",
    "\n",
    "prior_prob = {'skin': -1, 'non_skin': -1}\n",
    "prior_prob['skin'] = number_of_zero_pixels / total_number_of_pixels\n",
    "prior_prob['non_skin'] = 1 - prior_prob['skin']\n",
    "print(prior_prob)"
   ]
  },
  {
   "cell_type": "markdown",
   "metadata": {},
   "source": [
    "## Part B"
   ]
  },
  {
   "cell_type": "code",
   "execution_count": null,
   "metadata": {},
   "outputs": [],
   "source": [
    "skin_pixels_list = []\n",
    "non_skin_pixels_list = []\n",
    "for groundtruth_img_path, img_path in \\\n",
    "    zip(sorted(glob.glob('data/P6/pratheepan/train/set1/groundtruth/**')), \\\n",
    "        sorted(glob.glob('data/P6/pratheepan/train/set1/images/**'))):\n",
    "    groundtruth_img = cv2.cvtColor(cv2.imread(groundtruth_img_path), cv2.COLOR_BGR2GRAY)\n",
    "    img = cv2.imread(img_path)\n",
    "\n",
    "    for i, _ in enumerate(groundtruth_img):\n",
    "        for j, mask in enumerate(groundtruth_img[i]):\n",
    "            if mask == 0:\n",
    "                non_skin_pixels_list.append(img[i][j])\n",
    "            else:\n",
    "                skin_pixels_list.append(img[i][j])\n",
    "\n",
    "theta = {'skin': {'mean': 0, 'cov': 0}, 'non_skin': {'mean': 0, 'cov': 0}}\n",
    "skin_pixel_df = pd.DataFrame(np.array(skin_pixels_list).astype(int))\n",
    "theta['skin']['mean'] = skin_pixel_df.mean().to_numpy()\n",
    "theta['skin']['cov'] = skin_pixel_df.cov().to_numpy()\n",
    "non_skin_pixels_df = pd.DataFrame(np.array(non_skin_pixels_list).astype(int))\n",
    "theta['non_skin']['mean'] = non_skin_pixels_df.mean().to_numpy()\n",
    "theta['non_skin']['cov'] = non_skin_pixels_df.cov().to_numpy()\n",
    "\n",
    "print('For skin pixels,')\n",
    "print('mean:\\n', theta['skin']['mean'])\n",
    "print('covarince: \\n', theta['skin']['cov'])\n",
    "print('For non skin pixels,')\n",
    "print('mean:\\n', theta['non_skin']['mean'])\n",
    "print('covarince: \\n', theta['non_skin']['cov'])\n",
    "\n",
    "cond_prob = {'skin': None, 'non_skin': None}\n",
    "cond_prob['skin'] = scipy.stats.multivariate_normal(mean=theta['skin']['mean'], \n",
    "                                                    cov=theta['skin']['cov'])\n",
    "cond_prob['non_skin'] = scipy.stats.multivariate_normal(mean=theta['non_skin']['mean'], \n",
    "                                                        cov=theta['non_skin']['cov'])"
   ]
  },
  {
   "cell_type": "markdown",
   "metadata": {},
   "source": [
    "## Part C"
   ]
  },
  {
   "cell_type": "code",
   "execution_count": null,
   "metadata": {},
   "outputs": [],
   "source": [
    "for trump_tie_title in ['trump_tie_1.jpg', 'trump_tie_2.jpg']:\n",
    "    trump_tie = cv2.imread(f'data/P6/{trump_tie_title}')\n",
    "    trump_tie_predicted = np.zeros((trump_tie.shape[0], trump_tie.shape[1]))\n",
    "    for i, _ in enumerate(trump_tie):\n",
    "        for j, pixel in enumerate(trump_tie[i]):\n",
    "            skin_likelihood = prior_prob['skin'] * cond_prob['skin'].pdf(pixel) * EPSILON\n",
    "            non_skin_likelihood = prior_prob['non_skin'] * cond_prob['non_skin'].pdf(pixel) * EPSILON\n",
    "            trump_tie_predicted[i][j] = int(skin_likelihood > non_skin_likelihood)\n",
    "    fig = px.imshow(trump_tie_predicted, color_continuous_scale='gray',\n",
    "                    title=f'Skin Detection in {trump_tie_title} with Bayes Classifier')\n",
    "    fig.update_layout(title_x=0.5)\n",
    "    fig.show()"
   ]
  },
  {
   "cell_type": "markdown",
   "metadata": {},
   "source": [
    "## Part D"
   ]
  },
  {
   "cell_type": "code",
   "execution_count": null,
   "metadata": {},
   "outputs": [],
   "source": [
    "for trump_tie_title in ['trump_tie_1.jpg', 'trump_tie_2.jpg']:\n",
    "    trump_tie = cv2.imread(f'data/P6/{trump_tie_title}')\n",
    "    trump_tie_predicted = np.zeros((trump_tie.shape[0], trump_tie.shape[1]))\n",
    "    for i, _ in enumerate(trump_tie):\n",
    "        for j, pixel in enumerate(trump_tie[i]):\n",
    "            distance_from_skin_class = np.sqrt(np.sum((pixel - theta['skin']['mean'])**2))\n",
    "            distance_from_non_skin_class = np.sqrt(np.sum((pixel - theta['non_skin']['mean'])**2))\n",
    "            trump_tie_predicted[i][j] = int(distance_from_skin_class < distance_from_non_skin_class)\n",
    "    fig = px.imshow(trump_tie_predicted, color_continuous_scale='gray',\n",
    "                    title=f'Skin Detection in {trump_tie_title} with MDC Classifier')\n",
    "    fig.update_layout(title_x=0.5)\n",
    "    fig.show()"
   ]
  },
  {
   "cell_type": "markdown",
   "metadata": {},
   "source": [
    "## Part E"
   ]
  },
  {
   "cell_type": "code",
   "execution_count": null,
   "metadata": {},
   "outputs": [],
   "source": [
    "true_class = list()\n",
    "predicted_class = list()\n",
    "for groundtruth_img_path, img_path in \\\n",
    "    zip(sorted(glob.glob('data/P6/pratheepan/test/groundtruth/**')), \\\n",
    "        sorted(glob.glob('data/P6/pratheepan/test/images/**'))):\n",
    "    groundtruth_img = cv2.cvtColor(cv2.imread(groundtruth_img_path), cv2.COLOR_BGR2GRAY)\n",
    "    img = cv2.imread(img_path)\n",
    "\n",
    "    for i, _ in enumerate(img):\n",
    "        for j, pixel in enumerate(img[i]):\n",
    "            skin_likelihood = prior_prob['skin'] * cond_prob['skin'].pdf(pixel) * EPSILON\n",
    "            non_skin_likelihood = prior_prob['non_skin'] * cond_prob['non_skin'].pdf(pixel) * EPSILON\n",
    "            predicted_class.append(int(skin_likelihood > non_skin_likelihood))\n",
    "            true_class.append(groundtruth_img[i][j]//255)\n",
    "\n",
    "error = 0\n",
    "for predicted, true in zip(predicted_class, true_class):\n",
    "    if predicted != true:\n",
    "        error += 1\n",
    "print('Error Rate is ', (error/len(predicted_class)))"
   ]
  },
  {
   "cell_type": "markdown",
   "metadata": {},
   "source": [
    "## Part F"
   ]
  },
  {
   "cell_type": "code",
   "execution_count": null,
   "metadata": {},
   "outputs": [],
   "source": [
    "pd.DataFrame(metrics.confusion_matrix(true_class, predicted_class))"
   ]
  },
  {
   "cell_type": "markdown",
   "metadata": {},
   "source": [
    "## Part G"
   ]
  },
  {
   "cell_type": "code",
   "execution_count": null,
   "metadata": {},
   "outputs": [],
   "source": [
    "def bayes_error(r, g, b):\n",
    "    x = np.array([r,g,b])\n",
    "    skin_likelihood = prior_prob['skin'] * cond_prob['skin'].pdf(x)\n",
    "    non_skin_likelihood = prior_prob['non_skin'] * cond_prob['non_skin'].pdf(x)\n",
    "    return min(skin_likelihood, non_skin_likelihood)"
   ]
  },
  {
   "cell_type": "code",
   "execution_count": null,
   "metadata": {},
   "outputs": [],
   "source": [
    "# scipy.integrate.nquad(bayes_error, [[0, 255], [0, 255], [0,255]])"
   ]
  },
  {
   "cell_type": "code",
   "execution_count": null,
   "metadata": {},
   "outputs": [],
   "source": [
    "r = np.arange(0, 255)\n",
    "g = np.arange(0, 255)\n",
    "b = np.arange(0, 255)\n",
    "error = 0\n",
    "for ri in r:\n",
    "    for gi in g:\n",
    "        for bi in b:\n",
    "            error += bayes_error(ri, gi, bi) * EPSILON\n",
    "print(error)"
   ]
  },
  {
   "cell_type": "markdown",
   "metadata": {},
   "source": [
    "## Part H"
   ]
  },
  {
   "cell_type": "code",
   "execution_count": null,
   "metadata": {},
   "outputs": [],
   "source": [
    "true_class = list()\n",
    "predicted_score = list()\n",
    "for groundtruth_img_path, img_path in \\\n",
    "    zip(sorted(glob.glob('data/P6/pratheepan/test/groundtruth/**')), \\\n",
    "        sorted(glob.glob('data/P6/pratheepan/test/images/**'))):\n",
    "    groundtruth_img = cv2.cvtColor(cv2.imread(groundtruth_img_path), cv2.COLOR_BGR2GRAY)\n",
    "    img = cv2.imread(img_path)\n",
    "\n",
    "    for i, _ in enumerate(img):\n",
    "        for j, pixel in enumerate(img[i]):\n",
    "            skin_likelihood = prior_prob['skin'] * cond_prob['skin'].pdf(pixel)\n",
    "            predicted_score.append(skin_likelihood)\n",
    "            true_class.append(groundtruth_img[i][j]//255)\n",
    "\n",
    "fpr, tpr, threshold = metrics.roc_curve(true_class, predicted_score)\n",
    "roc_auc = metrics.auc(fpr, tpr)\n",
    "\n",
    "fig = px.area(\n",
    "    x=fpr, y=tpr,\n",
    "    title=f'ROC Curve (AUC={metrics.auc(fpr, tpr):.4f})',\n",
    "    labels=dict(x='False Positive Rate', y='True Positive Rate'),\n",
    "    width=700, height=500\n",
    ")\n",
    "fig.add_shape(\n",
    "    type='line', line=dict(dash='dash'),\n",
    "    x0=0, x1=1, y0=0, y1=1\n",
    ")\n",
    "\n",
    "fig.update_layout({'title':{'x':0.5}})\n",
    "fig.update_yaxes(scaleanchor=\"x\", scaleratio=1)\n",
    "fig.update_xaxes(constrain='domain')\n",
    "fig.show()"
   ]
  },
  {
   "cell_type": "markdown",
   "metadata": {},
   "source": [
    "## Part I"
   ]
  },
  {
   "cell_type": "markdown",
   "metadata": {},
   "source": [
    "### Part A"
   ]
  },
  {
   "cell_type": "code",
   "execution_count": null,
   "metadata": {},
   "outputs": [],
   "source": [
    "number_of_zero_pixels = 0\n",
    "total_number_of_pixels = 0\n",
    "for img_path in glob.glob('data/P6/pratheepan/train/set1/groundtruth/**') + \\\n",
    "                glob.glob('data/P6/pratheepan/train/set2/groundtruth/**'):\n",
    "    img = cv2.imread(img_path)\n",
    "    img = cv2.cvtColor(img, cv2.COLOR_BGR2GRAY)\n",
    "    number_of_zero_pixels += np.count_nonzero(img==0)\n",
    "    total_number_of_pixels += (img.shape[0] * img.shape[1])\n",
    "\n",
    "prior_prob = {'skin': -1, 'non_skin': -1}\n",
    "prior_prob['skin'] = number_of_zero_pixels / total_number_of_pixels\n",
    "prior_prob['non_skin'] = 1 - prior_prob['skin']\n",
    "print(prior_prob)"
   ]
  },
  {
   "cell_type": "markdown",
   "metadata": {},
   "source": [
    "### Part B"
   ]
  },
  {
   "cell_type": "code",
   "execution_count": null,
   "metadata": {},
   "outputs": [],
   "source": [
    "skin_pixels_list = []\n",
    "non_skin_pixels_list = []\n",
    "for groundtruth_img_path, img_path in \\\n",
    "    zip(sorted(glob.glob('data/P6/pratheepan/train/set1/groundtruth/**')), \\\n",
    "        sorted(glob.glob('data/P6/pratheepan/train/set1/images/**'))):\n",
    "    groundtruth_img = cv2.cvtColor(cv2.imread(groundtruth_img_path), cv2.COLOR_BGR2GRAY)\n",
    "    img = cv2.imread(img_path)\n",
    "\n",
    "    for i, _ in enumerate(groundtruth_img):\n",
    "        for j, mask in enumerate(groundtruth_img[i]):\n",
    "            if mask == 0:\n",
    "                non_skin_pixels_list.append(img[i][j])\n",
    "            else:\n",
    "                skin_pixels_list.append(img[i][j])\n",
    "\n",
    "for groundtruth_img_path, img_path in \\\n",
    "    zip(sorted(glob.glob('data/P6/pratheepan/train/set2/groundtruth/**')), \\\n",
    "        sorted(glob.glob('data/P6/pratheepan/train/set2/images/**'))):\n",
    "    groundtruth_img = cv2.cvtColor(cv2.imread(groundtruth_img_path), cv2.COLOR_BGR2GRAY)\n",
    "    img = cv2.imread(img_path)\n",
    "\n",
    "    for i, _ in enumerate(groundtruth_img):\n",
    "        for j, mask in enumerate(groundtruth_img[i]):\n",
    "            if mask == 0:\n",
    "                non_skin_pixels_list.append(img[i][j])\n",
    "            else:\n",
    "                skin_pixels_list.append(img[i][j])\n",
    "\n",
    "theta = {'skin': {'mean': 0, 'cov': 0}, 'non_skin': {'mean': 0, 'cov': 0}}\n",
    "skin_pixel_df = pd.DataFrame(np.array(skin_pixels_list).astype(int))\n",
    "theta['skin']['mean'] = skin_pixel_df.mean().to_numpy()\n",
    "theta['skin']['cov'] = skin_pixel_df.cov().to_numpy()\n",
    "non_skin_pixels_df = pd.DataFrame(np.array(non_skin_pixels_list).astype(int))\n",
    "theta['non_skin']['mean'] = non_skin_pixels_df.mean().to_numpy()\n",
    "theta['non_skin']['cov'] = non_skin_pixels_df.cov().to_numpy()\n",
    "\n",
    "print('For skin pixels,')\n",
    "print('mean:\\n', theta['skin']['mean'])\n",
    "print('covarince: \\n', theta['skin']['cov'])\n",
    "print('For non skin pixels,')\n",
    "print('mean:\\n', theta['non_skin']['mean'])\n",
    "print('covarince: \\n', theta['non_skin']['cov'])\n",
    "\n",
    "cond_prob = {'skin': None, 'non_skin': None}\n",
    "cond_prob['skin'] = scipy.stats.multivariate_normal(mean=theta['skin']['mean'], \n",
    "                                                    cov=theta['skin']['cov'])\n",
    "cond_prob['non_skin'] = scipy.stats.multivariate_normal(mean=theta['non_skin']['mean'], \n",
    "                                                        cov=theta['non_skin']['cov'])"
   ]
  },
  {
   "cell_type": "markdown",
   "metadata": {},
   "source": [
    "### Part C"
   ]
  },
  {
   "cell_type": "code",
   "execution_count": null,
   "metadata": {},
   "outputs": [],
   "source": [
    "for trump_tie_title in ['trump_tie_1.jpg', 'trump_tie_2.jpg']:\n",
    "    trump_tie = cv2.imread(f'data/P6/{trump_tie_title}')\n",
    "    trump_tie_predicted = np.zeros((trump_tie.shape[0], trump_tie.shape[1]))\n",
    "    for i, _ in enumerate(trump_tie):\n",
    "        for j, pixel in enumerate(trump_tie[i]):\n",
    "            skin_likelihood = prior_prob['skin'] * cond_prob['skin'].pdf(pixel) * EPSILON\n",
    "            non_skin_likelihood = prior_prob['non_skin'] * cond_prob['non_skin'].pdf(pixel) * EPSILON\n",
    "            trump_tie_predicted[i][j] = int(skin_likelihood > non_skin_likelihood)\n",
    "    fig = px.imshow(trump_tie_predicted, color_continuous_scale='gray',\n",
    "                    title=f'Skin Detection in {trump_tie_title} with Bayes Classifier')\n",
    "    fig.update_layout(title_x=0.5)\n",
    "    fig.show()"
   ]
  },
  {
   "cell_type": "markdown",
   "metadata": {},
   "source": [
    "### Part D"
   ]
  },
  {
   "cell_type": "code",
   "execution_count": null,
   "metadata": {},
   "outputs": [],
   "source": [
    "for trump_tie_title in ['trump_tie_1.jpg', 'trump_tie_2.jpg']:\n",
    "    trump_tie = cv2.imread(f'data/P6/{trump_tie_title}')\n",
    "    trump_tie_predicted = np.zeros((trump_tie.shape[0], trump_tie.shape[1]))\n",
    "    for i, _ in enumerate(trump_tie):\n",
    "        for j, pixel in enumerate(trump_tie[i]):\n",
    "            distance_from_skin_class = np.sum((pixel - theta['skin']['mean'])**2)\n",
    "            distance_from_non_skin_class = np.sum((pixel - theta['non_skin']['mean'])**2)\n",
    "            trump_tie_predicted[i][j] = int(distance_from_skin_class < distance_from_non_skin_class)\n",
    "    fig = px.imshow(trump_tie_predicted, color_continuous_scale='gray',\n",
    "                    title=f'Skin Detection in {trump_tie_title} with MDC Classifier')\n",
    "    fig.update_layout(title_x=0.5)\n",
    "    fig.show()"
   ]
  },
  {
   "cell_type": "markdown",
   "metadata": {},
   "source": [
    "### Part E"
   ]
  },
  {
   "cell_type": "code",
   "execution_count": null,
   "metadata": {},
   "outputs": [],
   "source": [
    "true_class = list()\n",
    "predicted_class = list()\n",
    "for groundtruth_img_path, img_path in \\\n",
    "    zip(sorted(glob.glob('data/P6/pratheepan/test/groundtruth/**')), \\\n",
    "        sorted(glob.glob('data/P6/pratheepan/test/images/**'))):\n",
    "    groundtruth_img = cv2.cvtColor(cv2.imread(groundtruth_img_path), cv2.COLOR_BGR2GRAY)\n",
    "    img = cv2.imread(img_path)\n",
    "\n",
    "    for i, _ in enumerate(img):\n",
    "        for j, pixel in enumerate(img[i]):\n",
    "            skin_likelihood = prior_prob['skin'] * cond_prob['skin'].pdf(pixel) * EPSILON\n",
    "            non_skin_likelihood = prior_prob['non_skin'] * cond_prob['non_skin'].pdf(pixel) * EPSILON\n",
    "            predicted_class.append(int(skin_likelihood > non_skin_likelihood))\n",
    "            true_class.append(groundtruth_img[i][j]//255)\n",
    "\n",
    "error = 0\n",
    "for predicted, true in zip(predicted_class, true_class):\n",
    "    if predicted != true:\n",
    "        error += 1\n",
    "print('Error Rate is ', (error/len(predicted_class)))"
   ]
  },
  {
   "cell_type": "markdown",
   "metadata": {},
   "source": [
    "### Part F"
   ]
  },
  {
   "cell_type": "code",
   "execution_count": null,
   "metadata": {},
   "outputs": [],
   "source": [
    "pd.DataFrame(metrics.confusion_matrix(true_class, predicted_class))"
   ]
  },
  {
   "cell_type": "markdown",
   "metadata": {},
   "source": [
    "### Part G"
   ]
  },
  {
   "cell_type": "code",
   "execution_count": null,
   "metadata": {},
   "outputs": [],
   "source": [
    "def bayes_error(r, g, b):\n",
    "    x = np.array([r,g,b])\n",
    "    skin_likelihood = prior_prob['skin'] * cond_prob['skin'].pdf(x)\n",
    "    non_skin_likelihood = prior_prob['non_skin'] * cond_prob['non_skin'].pdf(x)\n",
    "    return min(skin_likelihood, non_skin_likelihood)"
   ]
  },
  {
   "cell_type": "code",
   "execution_count": null,
   "metadata": {},
   "outputs": [],
   "source": [
    "# scipy.integrate.nquad(bayes_error, [[0, 255], [0, 255], [0,255]])"
   ]
  },
  {
   "cell_type": "code",
   "execution_count": null,
   "metadata": {},
   "outputs": [],
   "source": [
    "r = np.arange(0, 255)\n",
    "g = np.arange(0, 255)\n",
    "b = np.arange(0, 255)\n",
    "error = 0\n",
    "for ri in r:\n",
    "    for gi in g:\n",
    "        for bi in b:\n",
    "            error += bayes_error(ri, gi, bi) * EPSILON\n",
    "print(error)"
   ]
  },
  {
   "cell_type": "markdown",
   "metadata": {},
   "source": [
    "### Part H"
   ]
  },
  {
   "cell_type": "code",
   "execution_count": null,
   "metadata": {},
   "outputs": [],
   "source": [
    "true_class = list()\n",
    "predicted_score = list()\n",
    "for groundtruth_img_path, img_path in \\\n",
    "    zip(sorted(glob.glob('data/P6/pratheepan/test/groundtruth/**')), \\\n",
    "        sorted(glob.glob('data/P6/pratheepan/test/images/**'))):\n",
    "    groundtruth_img = cv2.cvtColor(cv2.imread(groundtruth_img_path), cv2.COLOR_BGR2GRAY)\n",
    "    img = cv2.imread(img_path)\n",
    "\n",
    "    for i, _ in enumerate(img):\n",
    "        for j, pixel in enumerate(img[i]):\n",
    "            skin_likelihood = prior_prob['skin'] * cond_prob['skin'].pdf(pixel)\n",
    "            predicted_score.append(skin_likelihood)\n",
    "            true_class.append(groundtruth_img[i][j]//255)\n",
    "\n",
    "fpr, tpr, threshold = metrics.roc_curve(true_class, predicted_score)\n",
    "roc_auc = metrics.auc(fpr, tpr)\n",
    "\n",
    "fig = px.area(\n",
    "    x=fpr, y=tpr,\n",
    "    title=f'ROC Curve (AUC={metrics.auc(fpr, tpr):.4f})',\n",
    "    labels=dict(x='False Positive Rate', y='True Positive Rate'),\n",
    "    width=700, height=500\n",
    ")\n",
    "fig.add_shape(\n",
    "    type='line', line=dict(dash='dash'),\n",
    "    x0=0, x1=1, y0=0, y1=1\n",
    ")\n",
    "\n",
    "fig.update_layout({'title':{'x':0.5}})\n",
    "fig.update_yaxes(scaleanchor=\"x\", scaleratio=1)\n",
    "fig.update_xaxes(constrain='domain')\n",
    "fig.show()"
   ]
  }
 ],
 "metadata": {
  "interpreter": {
   "hash": "676a4a00f6425beb987317664ee8c4682d59771b334aa577e04ffd5d0c95a693"
  },
  "kernelspec": {
   "display_name": "Python 3.8.10 64-bit ('.venv': venv)",
   "language": "python",
   "name": "python3"
  },
  "language_info": {
   "codemirror_mode": {
    "name": "ipython",
    "version": 3
   },
   "file_extension": ".py",
   "mimetype": "text/x-python",
   "name": "python",
   "nbconvert_exporter": "python",
   "pygments_lexer": "ipython3",
   "version": "3.8.10"
  },
  "orig_nbformat": 4
 },
 "nbformat": 4,
 "nbformat_minor": 2
}
